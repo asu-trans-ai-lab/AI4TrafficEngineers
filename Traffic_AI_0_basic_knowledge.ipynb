{
 "cells": [
  {
   "cell_type": "code",
   "execution_count": null,
   "id": "43dbdc01",
   "metadata": {},
   "outputs": [],
   "source": [
    "Traffic+AI Python self-learning notes prepared by Xuesong (Simon) Zhou, Mohammad Abbasi (ASU)"
   ]
  },
  {
   "cell_type": "markdown",
   "id": "f18eac9a",
   "metadata": {},
   "source": [
    "## 1. List"
   ]
  },
  {
   "cell_type": "code",
   "execution_count": 1,
   "id": "9e4ca2bc",
   "metadata": {},
   "outputs": [
    {
     "name": "stdout",
     "output_type": "stream",
     "text": [
      "print： ['node', 'link', 2022, 2023] [1, 3, 5, 7, 8, 13, 20]\n"
     ]
    }
   ],
   "source": [
    "#1.0. insert list and numbers\n",
    "list = ['node', 'link', 2022, 2023]\n",
    "nums = [1, 3, 5, 7, 8, 13, 20]\n",
    "print('print：', list, nums)"
   ]
  },
  {
   "cell_type": "markdown",
   "id": "8960d392",
   "metadata": {},
   "source": [
    "1.1 edit and delete"
   ]
  },
  {
   "cell_type": "code",
   "execution_count": 2,
   "id": "43ad8258",
   "metadata": {},
   "outputs": [
    {
     "name": "stdout",
     "output_type": "stream",
     "text": [
      "[100, 3, 5, 7, 8, 13, 20]\n",
      "['node', 2022, 2023]\n"
     ]
    }
   ],
   "source": [
    "nums[0] = 100\n",
    "print(nums)\n",
    "del list[1]\n",
    "print(list)"
   ]
  },
  {
   "cell_type": "code",
   "execution_count": 4,
   "id": "c1efd8f9",
   "metadata": {},
   "outputs": [
    {
     "name": "stdout",
     "output_type": "stream",
     "text": [
      "[1, 2, 3]\n",
      "[4, 5]\n",
      "[1, 2, 3, 4, 5]\n"
     ]
    }
   ],
   "source": [
    "nums = [1, 2, 3, 4, 5]\n",
    "print(nums[0:3])\n",
    "print(nums[3:])\n",
    "print(nums[-5:])"
   ]
  },
  {
   "cell_type": "markdown",
   "id": "f9851de3",
   "metadata": {},
   "source": [
    "1.2. clear and copy"
   ]
  },
  {
   "cell_type": "code",
   "execution_count": 5,
   "id": "ca767019",
   "metadata": {},
   "outputs": [
    {
     "name": "stdout",
     "output_type": "stream",
     "text": [
      "[]\n"
     ]
    }
   ],
   "source": [
    "list.clear()\n",
    "print(list)"
   ]
  },
  {
   "cell_type": "code",
   "execution_count": 6,
   "id": "b800ca7f",
   "metadata": {},
   "outputs": [
    {
     "name": "stdout",
     "output_type": "stream",
     "text": [
      "['node', 'link', ['node', 'link', 2022, 2023]]\n"
     ]
    }
   ],
   "source": [
    "list1 = ['node', 'link', ['node', 'link', 2022, 2023]]\n",
    "print(list1)"
   ]
  },
  {
   "cell_type": "code",
   "execution_count": 9,
   "id": "031f3102",
   "metadata": {},
   "outputs": [
    {
     "name": "stdout",
     "output_type": "stream",
     "text": [
      "['node', 'link', ['node', 'link', 2022, 2023]]\n"
     ]
    }
   ],
   "source": [
    "list2 = list1.copy()\n",
    "print(list11)"
   ]
  },
  {
   "cell_type": "code",
   "execution_count": 11,
   "id": "939a1fd9",
   "metadata": {},
   "outputs": [
    {
     "name": "stdout",
     "output_type": "stream",
     "text": [
      "1\n"
     ]
    }
   ],
   "source": [
    "size = list2.count('node')\n",
    "print(size)"
   ]
  },
  {
   "cell_type": "markdown",
   "id": "1b1c5355",
   "metadata": {},
   "source": [
    "1.3. insert and remove elments from a list"
   ]
  },
  {
   "cell_type": "code",
   "execution_count": 14,
   "id": "c0da52e4",
   "metadata": {},
   "outputs": [
    {
     "name": "stdout",
     "output_type": "stream",
     "text": [
      "[]\n"
     ]
    }
   ],
   "source": [
    "list = []\n",
    "print(list)"
   ]
  },
  {
   "cell_type": "code",
   "execution_count": 15,
   "id": "affa9e4a",
   "metadata": {},
   "outputs": [
    {
     "name": "stdout",
     "output_type": "stream",
     "text": [
      "['first']\n"
     ]
    }
   ],
   "source": [
    "list.insert(0, 'first')\n",
    "print(list)"
   ]
  },
  {
   "cell_type": "code",
   "execution_count": 16,
   "id": "d9b18b52",
   "metadata": {},
   "outputs": [
    {
     "ename": "IndexError",
     "evalue": "pop index out of range",
     "output_type": "error",
     "traceback": [
      "\u001b[1;31m---------------------------------------------------------------------------\u001b[0m",
      "\u001b[1;31mIndexError\u001b[0m                                Traceback (most recent call last)",
      "\u001b[1;32m<ipython-input-16-31d9a1668030>\u001b[0m in \u001b[0;36m<module>\u001b[1;34m\u001b[0m\n\u001b[1;32m----> 1\u001b[1;33m \u001b[0mlist\u001b[0m\u001b[1;33m.\u001b[0m\u001b[0mpop\u001b[0m\u001b[1;33m(\u001b[0m\u001b[1;36m3\u001b[0m\u001b[1;33m)\u001b[0m\u001b[1;33m\u001b[0m\u001b[1;33m\u001b[0m\u001b[0m\n\u001b[0m\u001b[0;32m      2\u001b[0m \u001b[0mprint\u001b[0m\u001b[1;33m(\u001b[0m\u001b[0mlist\u001b[0m\u001b[1;33m)\u001b[0m\u001b[1;33m\u001b[0m\u001b[1;33m\u001b[0m\u001b[0m\n",
      "\u001b[1;31mIndexError\u001b[0m: pop index out of range"
     ]
    }
   ],
   "source": [
    "# Test the error of Index error: pop index out of range\n",
    "list.pop(3)\n",
    "print(list)"
   ]
  },
  {
   "cell_type": "code",
   "execution_count": 17,
   "id": "b3d36da4",
   "metadata": {},
   "outputs": [
    {
     "name": "stdout",
     "output_type": "stream",
     "text": [
      "[]\n"
     ]
    }
   ],
   "source": [
    "list.pop(0)\n",
    "print(list)"
   ]
  },
  {
   "cell_type": "markdown",
   "id": "5ce9c2a9",
   "metadata": {},
   "source": [
    "1.4. sort"
   ]
  },
  {
   "cell_type": "code",
   "execution_count": 20,
   "id": "e21cdbfb",
   "metadata": {},
   "outputs": [
    {
     "name": "stdout",
     "output_type": "stream",
     "text": [
      "[1, 2, 3]\n"
     ]
    }
   ],
   "source": [
    "list3 = [3, 2, 1]\n",
    "list3.sort()\n",
    "print(list3)"
   ]
  },
  {
   "cell_type": "code",
   "execution_count": null,
   "id": "2f3959e5",
   "metadata": {},
   "outputs": [],
   "source": [
    "list3 = [3, 2, 1]\n",
    "list3.sort()\n",
    "print(list3)"
   ]
  },
  {
   "cell_type": "markdown",
   "id": "5c03b675",
   "metadata": {},
   "source": [
    "## 2. vector tuple, tuples"
   ]
  },
  {
   "cell_type": "code",
   "execution_count": 21,
   "id": "3fc75bed",
   "metadata": {
    "scrolled": true
   },
   "outputs": [
    {
     "name": "stdout",
     "output_type": "stream",
     "text": [
      "(1, 2, 3, 4)\n"
     ]
    }
   ],
   "source": [
    "tuple1 = (1, 2, 3, 4)\n",
    "print(tuple1)"
   ]
  },
  {
   "cell_type": "code",
   "execution_count": 1,
   "id": "948e74b2",
   "metadata": {
    "scrolled": true
   },
   "outputs": [
    {
     "name": "stdout",
     "output_type": "stream",
     "text": [
      "p\n",
      "t\n",
      "s\n",
      "4\n"
     ]
    }
   ],
   "source": [
    "# Accessing tuple elements using indexing\n",
    "my_tuple = ('p', 'e', 'r', 'm', 'i', 't')\n",
    "\n",
    "print(my_tuple[0])  # 'p'\n",
    "print(my_tuple[5])  # 't'\n",
    "\n",
    "# nested tuple\n",
    "n_tuple = (\"mouse\", [8, 4, 6], (1, 2, 3))\n",
    "\n",
    "# nested index\n",
    "print(n_tuple[0][3])  # 's'\n",
    "print(n_tuple[1][1])  # 4"
   ]
  },
  {
   "cell_type": "code",
   "execution_count": 1,
   "id": "5cf1433b",
   "metadata": {},
   "outputs": [
    {
     "ename": "IndexError",
     "evalue": "tuple index out of range",
     "output_type": "error",
     "traceback": [
      "\u001b[1;31m---------------------------------------------------------------------------\u001b[0m",
      "\u001b[1;31mIndexError\u001b[0m                                Traceback (most recent call last)",
      "\u001b[1;32m<ipython-input-1-a33c4fbad431>\u001b[0m in \u001b[0;36m<module>\u001b[1;34m\u001b[0m\n\u001b[0;32m      1\u001b[0m \u001b[1;31m# IndexError: list index out of range\u001b[0m\u001b[1;33m\u001b[0m\u001b[1;33m\u001b[0m\u001b[1;33m\u001b[0m\u001b[0m\n\u001b[0;32m      2\u001b[0m \u001b[0mmy_tuple\u001b[0m \u001b[1;33m=\u001b[0m \u001b[1;33m(\u001b[0m\u001b[1;34m'p'\u001b[0m\u001b[1;33m,\u001b[0m\u001b[1;34m'e'\u001b[0m\u001b[1;33m,\u001b[0m\u001b[1;34m'r'\u001b[0m\u001b[1;33m,\u001b[0m\u001b[1;34m'm'\u001b[0m\u001b[1;33m,\u001b[0m\u001b[1;34m'i'\u001b[0m\u001b[1;33m,\u001b[0m\u001b[1;34m't'\u001b[0m\u001b[1;33m)\u001b[0m\u001b[1;33m\u001b[0m\u001b[1;33m\u001b[0m\u001b[0m\n\u001b[1;32m----> 3\u001b[1;33m \u001b[0mprint\u001b[0m\u001b[1;33m(\u001b[0m\u001b[0mmy_tuple\u001b[0m\u001b[1;33m[\u001b[0m\u001b[1;36m6\u001b[0m\u001b[1;33m]\u001b[0m\u001b[1;33m)\u001b[0m\u001b[1;33m\u001b[0m\u001b[1;33m\u001b[0m\u001b[0m\n\u001b[0m\u001b[0;32m      4\u001b[0m \u001b[1;33m\u001b[0m\u001b[0m\n\u001b[0;32m      5\u001b[0m \u001b[1;31m# Index must be an integer\u001b[0m\u001b[1;33m\u001b[0m\u001b[1;33m\u001b[0m\u001b[1;33m\u001b[0m\u001b[0m\n",
      "\u001b[1;31mIndexError\u001b[0m: tuple index out of range"
     ]
    }
   ],
   "source": [
    "# IndexError: list index out of range\n",
    "my_tuple = ('p', 'e', 'r', 'm', 'i', 't')\n",
    "print(my_tuple[6])"
   ]
  },
  {
   "cell_type": "code",
   "execution_count": 2,
   "id": "efb837e8",
   "metadata": {},
   "outputs": [
    {
     "ename": "TypeError",
     "evalue": "tuple indices must be integers or slices, not float",
     "output_type": "error",
     "traceback": [
      "\u001b[1;31m---------------------------------------------------------------------------\u001b[0m",
      "\u001b[1;31mTypeError\u001b[0m                                 Traceback (most recent call last)",
      "\u001b[1;32m<ipython-input-2-f3b99c321703>\u001b[0m in \u001b[0;36m<module>\u001b[1;34m\u001b[0m\n\u001b[0;32m      2\u001b[0m \u001b[1;31m#TypeError: list indices must be integers, not float\u001b[0m\u001b[1;33m\u001b[0m\u001b[1;33m\u001b[0m\u001b[1;33m\u001b[0m\u001b[0m\n\u001b[0;32m      3\u001b[0m \u001b[0mmy_tuple\u001b[0m \u001b[1;33m=\u001b[0m \u001b[1;33m(\u001b[0m\u001b[1;34m'p'\u001b[0m\u001b[1;33m,\u001b[0m\u001b[1;34m'e'\u001b[0m\u001b[1;33m,\u001b[0m\u001b[1;34m'r'\u001b[0m\u001b[1;33m,\u001b[0m\u001b[1;34m'm'\u001b[0m\u001b[1;33m,\u001b[0m\u001b[1;34m'i'\u001b[0m\u001b[1;33m,\u001b[0m\u001b[1;34m't'\u001b[0m\u001b[1;33m)\u001b[0m\u001b[1;33m\u001b[0m\u001b[1;33m\u001b[0m\u001b[0m\n\u001b[1;32m----> 4\u001b[1;33m \u001b[0mmy_tuple\u001b[0m\u001b[1;33m[\u001b[0m\u001b[1;36m2.0\u001b[0m\u001b[1;33m]\u001b[0m\u001b[1;33m\u001b[0m\u001b[1;33m\u001b[0m\u001b[0m\n\u001b[0m",
      "\u001b[1;31mTypeError\u001b[0m: tuple indices must be integers or slices, not float"
     ]
    }
   ],
   "source": [
    "# Index must be an integer\n",
    "#TypeError: list indices must be integers, not float\n",
    "my_tuple = ('p', 'e', 'r', 'm', 'i', 't')\n",
    "my_tuple[2.0]"
   ]
  },
  {
   "cell_type": "code",
   "execution_count": 7,
   "id": "e3b97413",
   "metadata": {},
   "outputs": [
    {
     "name": "stdout",
     "output_type": "stream",
     "text": [
      "200\n"
     ]
    }
   ],
   "source": [
    "tuple1 = (456, 700, 200)\n",
    "print(min(tuple1))"
   ]
  },
  {
   "cell_type": "code",
   "execution_count": 8,
   "id": "348d2957",
   "metadata": {},
   "outputs": [
    {
     "ename": "TypeError",
     "evalue": "'<' not supported between instances of 'str' and 'int'",
     "output_type": "error",
     "traceback": [
      "\u001b[1;31m---------------------------------------------------------------------------\u001b[0m",
      "\u001b[1;31mTypeError\u001b[0m                                 Traceback (most recent call last)",
      "\u001b[1;32m<ipython-input-8-89e71f265a63>\u001b[0m in \u001b[0;36m<module>\u001b[1;34m\u001b[0m\n\u001b[0;32m      1\u001b[0m \u001b[0mtuple2\u001b[0m \u001b[1;33m=\u001b[0m \u001b[1;33m(\u001b[0m\u001b[1;36m123\u001b[0m\u001b[1;33m,\u001b[0m \u001b[1;34m'xyz'\u001b[0m\u001b[1;33m,\u001b[0m \u001b[1;34m'zara'\u001b[0m\u001b[1;33m,\u001b[0m \u001b[1;34m'abc'\u001b[0m\u001b[1;33m)\u001b[0m\u001b[1;33m\u001b[0m\u001b[1;33m\u001b[0m\u001b[0m\n\u001b[1;32m----> 2\u001b[1;33m \u001b[0mprint\u001b[0m \u001b[1;33m(\u001b[0m\u001b[0mmin\u001b[0m\u001b[1;33m(\u001b[0m\u001b[0mtuple2\u001b[0m\u001b[1;33m)\u001b[0m\u001b[1;33m)\u001b[0m\u001b[1;33m\u001b[0m\u001b[1;33m\u001b[0m\u001b[0m\n\u001b[0m",
      "\u001b[1;31mTypeError\u001b[0m: '<' not supported between instances of 'str' and 'int'"
     ]
    }
   ],
   "source": [
    "tuple2 = (123, 'xyz', 'zara', 'abc')\n",
    "print(min(tuple2))"
   ]
  },
  {
   "cell_type": "markdown",
   "id": "95625418",
   "metadata": {},
   "source": []
  },
  {
   "cell_type": "code",
   "execution_count": 3,
   "id": "c85ff668",
   "metadata": {},
   "outputs": [
    {
     "name": "stdout",
     "output_type": "stream",
     "text": [
      "Sorted array is:\n",
      "-1  0  1  2  3  4  5 "
     ]
    }
   ],
   "source": []
  },
  {
   "cell_type": "markdown",
   "id": "1864f7aa",
   "metadata": {},
   "source": [
    "## 3. list vs. tuple"
   ]
  },
  {
   "cell_type": "code",
   "execution_count": 4,
   "id": "8c8dbaf9",
   "metadata": {},
   "outputs": [
    {
     "name": "stdout",
     "output_type": "stream",
     "text": [
      "--list---\n",
      "2\n",
      "4\n",
      "6\n",
      "8\n",
      "10\n",
      "--tuple---\n",
      "2\n",
      "4\n",
      "6\n",
      "8\n",
      "10\n",
      "12\n"
     ]
    }
   ],
   "source": [
    "#Iterate Through a Python List with a for Loop\n",
    "my_list = [1, 2, 3, 4, 5]\n",
    "my_tuple = (1, 2, 3, 4, 5, 6)\n",
    "\n",
    "print(\"--list---\")\n",
    "for x in my_list:\n",
    "    print(x * 2)\n",
    "\n",
    "print(\"--tuple---\")\n",
    "for x in my_tuple:\n",
    "    print(x * 2)"
   ]
  },
  {
   "cell_type": "code",
   "execution_count": 9,
   "id": "08c94231",
   "metadata": {},
   "outputs": [
    {
     "name": "stdout",
     "output_type": "stream",
     "text": [
      "--list---\n",
      "index: 0 value: 1\n",
      "index: 1 value: 2\n",
      "index: 2 value: 3\n",
      "index: 3 value: 4\n",
      "index: 4 value: 5\n",
      "--tuple---\n",
      "index: 0 value: 1\n",
      "index: 1 value: 2\n",
      "index: 2 value: 3\n",
      "index: 3 value: 4\n",
      "index: 4 value: 5\n",
      "index: 5 value: 6\n"
     ]
    }
   ],
   "source": [
    "my_list = [1, 2, 3, 4, 5]\n",
    "my_tuple = (1, 2, 3, 4, 5, 6)\n",
    "\n",
    "print(\"--list---\")\n",
    "for i in range(len(my_list)):\n",
    "    print('index:', i, 'value:', my_list[i])\n",
    "\n",
    "print(\"--tuple---\")\n",
    "for i in range(len(my_tuple)):\n",
    "    print('index:', i, 'value:', my_tuple[i])"
   ]
  },
  {
   "cell_type": "markdown",
   "id": "0c905aaa",
   "metadata": {},
   "source": [
    "The below example uses a while loop to print out the values for the list and tuple"
   ]
  },
  {
   "cell_type": "code",
   "execution_count": 10,
   "id": "32c51408",
   "metadata": {},
   "outputs": [
    {
     "name": "stdout",
     "output_type": "stream",
     "text": [
      "index 0 value 1 tuple value 1\n",
      "index 1 value 2 tuple value 2\n",
      "index 2 value 3 tuple value 3\n",
      "index 3 value 4 tuple value 4\n",
      "index 4 value 5 tuple value 5\n"
     ]
    }
   ],
   "source": [
    "my_list = [1, 2, 3, 4, 5]\n",
    "my_tuple = (1, 2, 3, 4, 5, 6)\n",
    "\n",
    "i = 0\n",
    "while i < len(my_list):\n",
    "    print('index', i, 'value', my_list[i], 'tuple value', my_tuple[i])\n",
    "    i += 1"
   ]
  },
  {
   "cell_type": "markdown",
   "id": "d3aafa6f",
   "metadata": {},
   "source": [
    "## 4. Tuple-based time series"
   ]
  },
  {
   "cell_type": "code",
   "execution_count": 1,
   "id": "4a46b0fe",
   "metadata": {},
   "outputs": [
    {
     "name": "stdout",
     "output_type": "stream",
     "text": [
      "(34.7, 33.8, 33.2, 33.1, 36.3, 40, 44, 48.8, 53.7, 56.3, 57.7, 55.2, 59.3, 57.1, 54.5, 53, 52.2, 50, 47.6, 47.6, 47.2, 46.2, 44, 41.2, 45, 44.5, 46, 44.8, 40.9, 40.3, 39.8, 37.6, 35.8, 33.7, 32.9, 29.7, 29.4, 27.7, 26.6, 27, 26.7, 26.3, 25.4, 25.2, 25.1, 25.8, 25.7, 31.7, 30.7, 34.8, 40.1, 43.5, 46.2, 54.7, 58.2, 60.9, 61.7, 62, 62.7, 59.2, 62.8, 63, 62.6, 62.5, 63.7, 64.3, 64.3, 63.8, 63.9, 64.2, 63.6, 61.7, 64, 64.1, 64.5, 63.5, 64.2, 64.3, 62.9, 62.7, 63.4, 65.5, 62.5, 59.9, 60.8, 62.9, 63.4, 63.8, 64.8, 65.5, 65.8, 66.2, 65.3, 65, 64.6, 61.1, 63.8, 64, 64.8, 64.3, 64.2, 64.7, 65.5, 65.8, 64.2, 62.9, 61.3, 60.4, 63.6, 63.1, 64.6, 65.1, 63.9, 64, 64.3, 63.5, 63.8, 63.5, 63.1, 60, 61.4, 62.4, 59, 55.4, 53.4, 54.5, 53.3, 49.7, 43.7, 38.7, 34.9, 35.9, 31.6, 30.9, 30, 29.8, 25.2, 23.2, 21.2, 20.3, 20, 20.4, 21.5, 26.7, 24.7, 25.6, 25.2, 28.3, 31.5, 32.2, 35.6, 38, 38.5, 44.9, 54, 52.5, 59.6, 60.6, 62.2, 63.3, 63.8, 64, 63.7, 62.8, 60.2, 60, 61.4, 59.2)\n"
     ]
    }
   ],
   "source": [
    "# the time series below is the sensor speed data in I395 corridor in Washthington DC\n",
    "speed_vector = (34.7, 33.8, 33.2, 33.1, 36.3, 40, 44, 48.8, 53.7, 56.3, 57.7,\n",
    "                55.2, 59.3, 57.1, 54.5, 53, 52.2, 50, 47.6, 47.6, 47.2, 46.2,\n",
    "                44, 41.2, 45, 44.5, 46, 44.8, 40.9, 40.3, 39.8, 37.6, 35.8,\n",
    "                33.7, 32.9, 29.7, 29.4, 27.7, 26.6, 27, 26.7, 26.3, 25.4, 25.2,\n",
    "                25.1, 25.8, 25.7, 31.7, 30.7, 34.8, 40.1, 43.5, 46.2, 54.7,\n",
    "                58.2, 60.9, 61.7, 62, 62.7, 59.2, 62.8, 63, 62.6, 62.5, 63.7,\n",
    "                64.3, 64.3, 63.8, 63.9, 64.2, 63.6, 61.7, 64, 64.1, 64.5, 63.5,\n",
    "                64.2, 64.3, 62.9, 62.7, 63.4, 65.5, 62.5, 59.9, 60.8, 62.9,\n",
    "                63.4, 63.8, 64.8, 65.5, 65.8, 66.2, 65.3, 65, 64.6, 61.1, 63.8,\n",
    "                64, 64.8, 64.3, 64.2, 64.7, 65.5, 65.8, 64.2, 62.9, 61.3, 60.4,\n",
    "                63.6, 63.1, 64.6, 65.1, 63.9, 64, 64.3, 63.5, 63.8, 63.5, 63.1,\n",
    "                60, 61.4, 62.4, 59, 55.4, 53.4, 54.5, 53.3, 49.7, 43.7, 38.7,\n",
    "                34.9, 35.9, 31.6, 30.9, 30, 29.8, 25.2, 23.2, 21.2, 20.3, 20,\n",
    "                20.4, 21.5, 26.7, 24.7, 25.6, 25.2, 28.3, 31.5, 32.2, 35.6, 38,\n",
    "                38.5, 44.9, 54, 52.5, 59.6, 60.6, 62.2, 63.3, 63.8, 64, 63.7,\n",
    "                62.8, 60.2, 60, 61.4, 59.2)\n",
    "print(speed_vector)"
   ]
  },
  {
   "cell_type": "code",
   "execution_count": 13,
   "id": "96f68333",
   "metadata": {},
   "outputs": [
    {
     "name": "stdout",
     "output_type": "stream",
     "text": [
      "168\n"
     ]
    }
   ],
   "source": [
    "print(len(speed_vector))"
   ]
  },
  {
   "cell_type": "markdown",
   "id": "5e044961",
   "metadata": {},
   "source": [
    "Initialising an n-length tuple of lists"
   ]
  },
  {
   "cell_type": "markdown",
   "id": "2d965d89",
   "metadata": {},
   "source": [
    "How operators + and * are used with a Python tuple?"
   ]
  },
  {
   "cell_type": "code",
   "execution_count": 14,
   "id": "07112e11",
   "metadata": {},
   "outputs": [
    {
     "name": "stdout",
     "output_type": "stream",
     "text": [
      "(5, 5, 5, 5, 5, 5)\n"
     ]
    }
   ],
   "source": [
    "#create a tuple\n",
    "tuplex = 5,  #create a tuple\n",
    "#The * operator allow repeat the items in the tuple\n",
    "print(tuplex * 6)"
   ]
  },
  {
   "cell_type": "code",
   "execution_count": 15,
   "id": "0feaa1af",
   "metadata": {},
   "outputs": [
    {
     "name": "stdout",
     "output_type": "stream",
     "text": [
      "(5, 10, 15, 5, 10, 15, 5, 10, 15, 5, 10, 15)\n"
     ]
    }
   ],
   "source": [
    "#create a tuple with repeated items.\n",
    "tuplex = (5, 10, 15) * 4\n",
    "print(tuplex)"
   ]
  },
  {
   "cell_type": "code",
   "execution_count": 7,
   "id": "ece71587",
   "metadata": {},
   "outputs": [
    {
     "name": "stdout",
     "output_type": "stream",
     "text": [
      "(0, 0, 0, 0, 0, 0, 0, 0, 0, 0, 0, 0, 0, 0, 0, 0, 0, 0, 0, 0, 0, 0, 0, 0, 0, 0, 0, 0, 0, 0, 0, 0, 0, 0, 0, 0, 0, 0, 0, 0, 0, 0, 0, 0, 0, 0, 0, 0, 0, 0, 0, 0, 0, 0, 0, 0, 0, 0, 0, 0, 0, 0, 0, 0, 0, 0, 0, 0, 0, 0, 0, 0, 0, 0, 0, 0, 0, 0, 0, 0, 0, 0, 0, 0, 0, 0, 0, 0, 0, 0, 0, 0, 0, 0, 0, 0, 0, 0, 0, 0, 0, 0, 0, 0, 0, 0, 0, 0, 0, 0, 0, 0, 0, 0, 0, 0, 0, 0, 0, 0, 0, 0, 0, 0, 0, 0, 0, 0, 0, 0, 0, 0, 0, 0, 0, 0, 0, 0, 0, 0, 0, 0, 0, 0, 0, 0, 0, 0, 0, 0, 0, 0, 0, 0, 0, 0, 0, 0, 0, 0, 0, 0, 0, 0, 0, 0, 0, 0, 0, 0, 0, 0, 0, 0, 0, 0, 0, 0, 0, 0, 0, 0, 0, 0, 0, 0, 0, 0, 0, 0, 0, 0, 0, 0, 0, 0, 0, 0, 0, 0, 0, 0, 0, 0, 0, 0, 0, 0, 0, 0, 0, 0, 0, 0, 0, 0, 0, 0, 0, 0, 0, 0, 0, 0, 0, 0, 0, 0, 0, 0, 0, 0, 0, 0, 0, 0, 0, 0, 0, 0, 0, 0, 0, 0, 0, 0, 0, 0, 0, 0, 0, 0, 0, 0, 0, 0, 0, 0, 0, 0, 0, 0, 0, 0, 0, 0, 0, 0, 0, 0, 0, 0, 0, 0, 0, 0, 0, 0, 0, 0, 0, 0, 0, 0, 0, 0, 0, 0, 0, 0, 0, 0, 0, 0, 0, 0, 0, 0, 0, 0)\n"
     ]
    }
   ],
   "source": [
    "#create a tuple with repeated items.\n",
    "tuplex = (0, ) * 300\n",
    "print(tuplex)"
   ]
  },
  {
   "cell_type": "code",
   "execution_count": 6,
   "id": "29d9ea3b",
   "metadata": {},
   "outputs": [
    {
     "name": "stdout",
     "output_type": "stream",
     "text": [
      "300\n"
     ]
    }
   ],
   "source": [
    "#create a tuple with repeated items.\n",
    "tuplex = (int(1)) * 300\n",
    "print(tuplex)"
   ]
  },
  {
   "cell_type": "code",
   "execution_count": 2,
   "id": "21b7f1d7",
   "metadata": {},
   "outputs": [
    {
     "name": "stdout",
     "output_type": "stream",
     "text": [
      "[-1, -1, -1, -1, -1, -1, -1, -1, -1, -1, -1, -1, -1, -1, -1, -1, -1, -1, -1, -1, -1, -1, -1, -1, -1, -1, -1, -1, -1, -1, -1, -1, -1, -1, -1, -1, -1, -1, -1, -1, -1, -1, -1, -1, -1, -1, -1, -1, -1, -1, -1, -1, -1, -1, -1, -1, -1, -1, -1, -1, -1, -1, -1, -1, -1, -1, -1, -1, -1, -1, -1, -1, -1, -1, -1, -1, -1, -1, -1, -1, -1, -1, -1, -1, -1, -1, -1, -1, -1, -1, -1, -1, -1, -1, -1, -1, -1, -1, -1, -1, -1, -1, -1, -1, -1, -1, -1, -1, -1, -1, -1, -1, -1, -1, -1, -1, -1, -1, -1, -1, -1, -1, -1, -1, -1, -1, -1, -1, -1, -1, -1, -1, -1, -1, -1, -1, -1, -1, -1, -1, -1, -1, -1, -1, -1, -1, -1, -1, -1, -1, -1, -1, -1, -1, -1, -1, -1, -1, -1, -1, -1, -1, -1, -1, -1, -1, -1, -1, -1, -1, -1, -1, -1, -1, -1, -1, -1, -1, -1, -1, -1, -1, -1, -1, -1, -1, -1, -1, -1, -1, -1, -1, -1, -1, -1, -1, -1, -1, -1, -1, -1, -1, -1, -1, -1, -1, -1, -1, -1, -1, -1, -1, -1, -1, -1, -1, -1, -1, -1, -1, -1, -1, -1, -1, -1, -1, -1, -1, -1, -1, -1, -1, -1, -1, -1, -1, -1, -1, -1, -1, -1, -1, -1, -1, -1, -1, -1, -1, -1, -1, -1, -1, -1, -1, -1, -1, -1, -1, -1, -1, -1, -1, -1, -1, -1, -1, -1, -1, -1, -1, -1, -1, -1, -1, -1, -1, -1, -1, -1, -1, -1, -1, -1, -1, -1, -1, -1, -1, -1, -1, -1, -1, -1, -1, -1, -1, -1, -1, -1, -1]\n"
     ]
    }
   ],
   "source": [
    "#create a list with repeated items.\n",
    "long_list = [-1] * 300\n",
    "print(long_list)"
   ]
  },
  {
   "cell_type": "code",
   "execution_count": 17,
   "id": "281fffab",
   "metadata": {},
   "outputs": [
    {
     "name": "stdout",
     "output_type": "stream",
     "text": [
      "(34.7, 33.8, 33.2, 33.1, 36.3, 40, 44, 48.8, 53.7, 56.3, 57.7, 55.2, 59.3, 57.1, 54.5, 53, 52.2, 50, 47.6, 47.6, 47.2, 46.2, 44, 41.2, 45, 44.5, 46, 44.8, 40.9, 40.3, 39.8, 37.6, 35.8, 33.7, 32.9, 29.7, 29.4, 27.7, 26.6, 27, 26.7, 26.3, 25.4, 25.2, 25.1, 25.8, 25.7, 31.7, 30.7, 34.8, 40.1, 43.5, 46.2, 54.7, 58.2, 60.9, 61.7, 62, 62.7, 59.2, 62.8, 63, 62.6, 62.5, 63.7, 64.3, 64.3, 63.8, 63.9, 64.2, 63.6, 61.7, 64, 64.1, 64.5, 63.5, 64.2, 64.3, 62.9, 62.7, 63.4, 65.5, 62.5, 59.9, 60.8, 62.9, 63.4, 63.8, 64.8, 65.5, 65.8, 66.2, 65.3, 65, 64.6, 61.1, 63.8, 64, 64.8, 64.3, 64.2, 64.7, 65.5, 65.8, 64.2, 62.9, 61.3, 60.4, 63.6, 63.1, 64.6, 65.1, 63.9, 64, 64.3, 63.5, 63.8, 63.5, 63.1, 60, 61.4, 62.4, 59, 55.4, 53.4, 54.5, 53.3, 49.7, 43.7, 38.7, 34.9, 35.9, 31.6, 30.9, 30, 29.8, 25.2, 23.2, 21.2, 20.3, 20, 20.4, 21.5, 26.7, 24.7, 25.6, 25.2, 28.3, 31.5, 32.2, 35.6, 38, 38.5, 44.9, 54, 52.5, 59.6, 60.6, 62.2, 63.3, 63.8, 64, 63.7, 62.8, 60.2, 60, 61.4, 59.2)\n"
     ]
    }
   ],
   "source": [
    "tuplex = speed_vector\n",
    "print(tuplex)"
   ]
  },
  {
   "cell_type": "code",
   "execution_count": 19,
   "id": "a8ea6d46",
   "metadata": {},
   "outputs": [
    {
     "name": "stdout",
     "output_type": "stream",
     "text": [
      "(0, 0, 0, 0, 0, 0, 0, 0, 0, 0, 0, 0, 0, 0, 0, 0, 0, 0, 0, 0, 0, 0, 0, 0, 0, 0, 0, 0, 0, 0, 0, 0, 0, 0, 0, 0, 0, 0, 0, 0, 0, 0, 0, 0, 0, 0, 0, 0, 0, 0, 0, 0, 0, 0, 0, 0, 0, 0, 0, 0, 0, 0, 0, 0, 0, 0, 0, 0, 0, 0, 0, 0, 0, 0, 0, 0, 0, 0, 0, 0, 0, 0, 0, 0, 0, 0, 0, 0, 0, 0, 0, 0, 0, 0, 0, 0, 0, 0, 0, 0, 0, 0, 0, 0, 0, 0, 0, 0, 0, 0, 0, 0, 0, 0, 0, 0, 0, 0, 0, 0, 0, 0, 0, 0, 0, 0, 0, 0, 0, 0, 0, 0, 0, 0, 0, 0, 0, 0, 0, 0, 0, 0, 0, 0, 0, 0, 0, 0, 0, 0, 0, 0, 0, 0, 0, 0, 0, 0, 0, 0, 0, 0, 0, 0, 0, 0, 0, 0, 0, 0, 0, 0, 0, 0, 0, 0, 0, 0, 0, 0, 0, 0, 0, 0, 0, 0, 0, 0, 0, 0, 0, 0, 0, 0, 0, 0, 0, 0, 0, 0, 0, 0, 0, 0, 0, 0, 0, 0, 0, 0, 0, 0, 0, 0, 0, 0, 0, 0, 0, 0, 0, 0, 0, 0, 0, 0, 0, 0, 0, 0, 0, 0, 0, 0, 0, 0, 0, 0, 0, 0, 0, 0, 0, 0, 0, 0, 0, 0, 0, 0, 0, 0, 0, 0, 0, 0, 0, 0, 0, 0, 0, 0, 0, 0, 0, 0, 0, 0, 0, 0, 0, 0, 0, 0, 0, 0, 0, 0, 0, 0, 0, 0, 0, 0, 0, 0, 0, 0, 0, 0, 0, 0, 0, 0, 0, 0, 0, 0, 0, 0)\n"
     ]
    }
   ],
   "source": [
    "# How to Create a Python Tuple of Size n?\n",
    "\n",
    "n = 300\n",
    "spd_vector = (0, ) * n\n",
    "print(spd_vector)"
   ]
  },
  {
   "cell_type": "markdown",
   "id": "9e8fd73f",
   "metadata": {},
   "source": [
    "https://www.w3schools.com/python/ref_func_range.asp\n",
    "The range() function returns a sequence of numbers, starting from 0 by default, and increments by 1 (by default), and stops before a specified number.    \n",
    "range(start, stop, step)"
   ]
  },
  {
   "cell_type": "code",
   "execution_count": 20,
   "id": "c65e8aea",
   "metadata": {},
   "outputs": [
    {
     "name": "stdout",
     "output_type": "stream",
     "text": [
      "3\n",
      "4\n",
      "5\n"
     ]
    }
   ],
   "source": [
    "x = range(3, 6)\n",
    "for n in x:\n",
    "    print(n)"
   ]
  },
  {
   "cell_type": "code",
   "execution_count": 2,
   "id": "9be32128",
   "metadata": {},
   "outputs": [
    {
     "ename": "TypeError",
     "evalue": "'tuple' object does not support item assignment",
     "output_type": "error",
     "traceback": [
      "\u001b[1;31m---------------------------------------------------------------------------\u001b[0m",
      "\u001b[1;31mTypeError\u001b[0m                                 Traceback (most recent call last)",
      "\u001b[1;32m<ipython-input-2-70d7dfb22b1f>\u001b[0m in \u001b[0;36m<module>\u001b[1;34m\u001b[0m\n\u001b[0;32m      4\u001b[0m \u001b[0mspd_vector\u001b[0m \u001b[1;33m=\u001b[0m \u001b[1;33m(\u001b[0m\u001b[1;36m0\u001b[0m\u001b[1;33m,\u001b[0m \u001b[1;33m)\u001b[0m \u001b[1;33m*\u001b[0m \u001b[0mn\u001b[0m\u001b[1;33m\u001b[0m\u001b[1;33m\u001b[0m\u001b[0m\n\u001b[0;32m      5\u001b[0m \u001b[1;32mfor\u001b[0m \u001b[0mi\u001b[0m \u001b[1;32min\u001b[0m \u001b[0mrange\u001b[0m\u001b[1;33m(\u001b[0m\u001b[1;36m1\u001b[0m\u001b[1;33m,\u001b[0m \u001b[1;36m168\u001b[0m\u001b[1;33m,\u001b[0m \u001b[1;36m1\u001b[0m\u001b[1;33m)\u001b[0m\u001b[1;33m:\u001b[0m\u001b[1;33m\u001b[0m\u001b[1;33m\u001b[0m\u001b[0m\n\u001b[1;32m----> 6\u001b[1;33m     \u001b[0mspd_vector\u001b[0m\u001b[1;33m[\u001b[0m\u001b[0mi\u001b[0m\u001b[1;33m]\u001b[0m \u001b[1;33m=\u001b[0m \u001b[1;36m1\u001b[0m\u001b[1;33m\u001b[0m\u001b[1;33m\u001b[0m\u001b[0m\n\u001b[0m\u001b[0;32m      7\u001b[0m \u001b[1;33m\u001b[0m\u001b[0m\n\u001b[0;32m      8\u001b[0m \u001b[0mprint\u001b[0m\u001b[1;33m(\u001b[0m\u001b[0mspd_vector\u001b[0m\u001b[1;33m)\u001b[0m\u001b[1;33m\u001b[0m\u001b[1;33m\u001b[0m\u001b[0m\n",
      "\u001b[1;31mTypeError\u001b[0m: 'tuple' object does not support item assignment"
     ]
    }
   ],
   "source": [
    "# 'tuple' object does not support item assignment\n",
    "\n",
    "n = 300\n",
    "spd_vector = (0, ) * n\n",
    "for i in range(1, 168, 1):\n",
    "    spd_vector[i] = 1\n",
    "\n",
    "print(spd_vector)"
   ]
  },
  {
   "cell_type": "markdown",
   "id": "7f45448b",
   "metadata": {},
   "source": [
    "If we need to store our data as a tuple, we can always convert our list back to a tuple once we have changed the values we want to change. We can do this using the tuple() method:"
   ]
  },
  {
   "cell_type": "code",
   "execution_count": 11,
   "id": "459cb96a",
   "metadata": {},
   "outputs": [
    {
     "name": "stdout",
     "output_type": "stream",
     "text": [
      "[0, 1, 1, 1, 1, 1, 1, 1, 1, 1, 1, 1, 1, 1, 1, 1, 1, 1, 1, 1, 1, 1, 1, 1, 1, 1, 1, 1, 1, 1, 1, 1, 1, 1, 1, 1, 1, 1, 1, 1, 1, 1, 1, 1, 1, 1, 1, 1, 1, 1, 1, 1, 1, 1, 1, 1, 1, 1, 1, 1, 1, 1, 1, 1, 1, 1, 1, 1, 1, 1, 1, 1, 1, 1, 1, 1, 1, 1, 1, 1, 1, 1, 1, 1, 1, 1, 1, 1, 1, 1, 1, 1, 1, 1, 1, 1, 1, 1, 1, 1, 1, 1, 1, 1, 1, 1, 1, 1, 1, 1, 1, 1, 1, 1, 1, 1, 1, 1, 1, 1, 1, 1, 1, 1, 1, 1, 1, 1, 1, 1, 1, 1, 1, 1, 1, 1, 1, 1, 1, 1, 1, 1, 1, 1, 1, 1, 1, 1, 1, 1, 1, 1, 1, 1, 1, 1, 1, 1, 1, 1, 1, 1, 1, 1, 1, 1, 1, 1, 0, 0, 0, 0, 0, 0, 0, 0, 0, 0, 0, 0, 0, 0, 0, 0, 0, 0, 0, 0, 0, 0, 0, 0, 0, 0, 0, 0, 0, 0, 0, 0, 0, 0, 0, 0, 0, 0, 0, 0, 0, 0, 0, 0, 0, 0, 0, 0, 0, 0, 0, 0, 0, 0, 0, 0, 0, 0, 0, 0, 0, 0, 0, 0, 0, 0, 0, 0, 0, 0, 0, 0, 0, 0, 0, 0, 0, 0, 0, 0, 0, 0, 0, 0, 0, 0, 0, 0, 0, 0, 0, 0, 0, 0, 0, 0, 0, 0, 0, 0, 0, 0, 0, 0, 0, 0, 0, 0, 0, 0, 0, 0, 0, 0, 0, 0, 0, 0, 0, 0, 0, 0, 0, 0, 0, 0, 0, 0, 0, 0, 0, 0]\n",
      "as_tuple\n",
      "(0, 1, 1, 1, 1, 1, 1, 1, 1, 1, 1, 1, 1, 1, 1, 1, 1, 1, 1, 1, 1, 1, 1, 1, 1, 1, 1, 1, 1, 1, 1, 1, 1, 1, 1, 1, 1, 1, 1, 1, 1, 1, 1, 1, 1, 1, 1, 1, 1, 1, 1, 1, 1, 1, 1, 1, 1, 1, 1, 1, 1, 1, 1, 1, 1, 1, 1, 1, 1, 1, 1, 1, 1, 1, 1, 1, 1, 1, 1, 1, 1, 1, 1, 1, 1, 1, 1, 1, 1, 1, 1, 1, 1, 1, 1, 1, 1, 1, 1, 1, 1, 1, 1, 1, 1, 1, 1, 1, 1, 1, 1, 1, 1, 1, 1, 1, 1, 1, 1, 1, 1, 1, 1, 1, 1, 1, 1, 1, 1, 1, 1, 1, 1, 1, 1, 1, 1, 1, 1, 1, 1, 1, 1, 1, 1, 1, 1, 1, 1, 1, 1, 1, 1, 1, 1, 1, 1, 1, 1, 1, 1, 1, 1, 1, 1, 1, 1, 1, 0, 0, 0, 0, 0, 0, 0, 0, 0, 0, 0, 0, 0, 0, 0, 0, 0, 0, 0, 0, 0, 0, 0, 0, 0, 0, 0, 0, 0, 0, 0, 0, 0, 0, 0, 0, 0, 0, 0, 0, 0, 0, 0, 0, 0, 0, 0, 0, 0, 0, 0, 0, 0, 0, 0, 0, 0, 0, 0, 0, 0, 0, 0, 0, 0, 0, 0, 0, 0, 0, 0, 0, 0, 0, 0, 0, 0, 0, 0, 0, 0, 0, 0, 0, 0, 0, 0, 0, 0, 0, 0, 0, 0, 0, 0, 0, 0, 0, 0, 0, 0, 0, 0, 0, 0, 0, 0, 0, 0, 0, 0, 0, 0, 0, 0, 0, 0, 0, 0, 0, 0, 0, 0, 0, 0, 0, 0, 0, 0, 0, 0, 0)\n"
     ]
    }
   ],
   "source": [
    "# now use list\n",
    "n = 300\n",
    "spd_vector = [0] * n\n",
    "for i in range(1, 168, 1):\n",
    "    spd_vector[i] = 1\n",
    "\n",
    "print(spd_vector)\n",
    "print(\"as_tuple\")\n",
    "as_tuple = tuple(spd_vector)\n",
    "print(as_tuple)"
   ]
  },
  {
   "cell_type": "code",
   "execution_count": 20,
   "id": "63549a26",
   "metadata": {},
   "outputs": [
    {
     "name": "stdout",
     "output_type": "stream",
     "text": [
      "[0, 0, 0, 0, 0, 0, 0, 0, 0, 0, 0, 0, 0, 0, 0, 0, 0, 0, 0, 0, 0, 0, 0, 0, 0, 0, 0, 0, 0, 0, 0, 0, 0, 0, 0, 0, 0, 0, 0, 0, 0, 0, 0, 0, 0, 0, 0, 0, 0, 0, 0, 0, 0, 0, 0, 0, 0, 0, 0, 0, 0, 0, 0, 0, 0, 0, 0, 0, 0, 0, 0, 0, 0, 33.8, 33.2, 33.1, 36.3, 40, 44, 48.8, 53.7, 56.3, 57.7, 55.2, 59.3, 57.1, 54.5, 53, 52.2, 50, 47.6, 47.6, 47.2, 46.2, 44, 41.2, 45, 44.5, 46, 44.8, 40.9, 40.3, 39.8, 37.6, 35.8, 33.7, 32.9, 29.7, 29.4, 27.7, 26.6, 27, 26.7, 26.3, 25.4, 25.2, 25.1, 25.8, 25.7, 31.7, 30.7, 34.8, 40.1, 43.5, 46.2, 54.7, 58.2, 60.9, 61.7, 62, 62.7, 59.2, 62.8, 63, 62.6, 62.5, 63.7, 64.3, 64.3, 63.8, 63.9, 64.2, 63.6, 61.7, 64, 64.1, 64.5, 63.5, 64.2, 64.3, 62.9, 62.7, 63.4, 65.5, 62.5, 59.9, 60.8, 62.9, 63.4, 63.8, 64.8, 65.5, 65.8, 66.2, 65.3, 65, 64.6, 61.1, 63.8, 64, 64.8, 64.3, 64.2, 64.7, 65.5, 65.8, 64.2, 62.9, 61.3, 60.4, 63.6, 63.1, 64.6, 65.1, 63.9, 64, 64.3, 63.5, 63.8, 63.5, 63.1, 60, 61.4, 62.4, 59, 55.4, 53.4, 54.5, 53.3, 49.7, 43.7, 38.7, 34.9, 35.9, 31.6, 30.9, 30, 29.8, 25.2, 23.2, 21.2, 20.3, 20, 20.4, 21.5, 26.7, 24.7, 25.6, 25.2, 28.3, 31.5, 32.2, 35.6, 38, 38.5, 44.9, 54, 52.5, 59.6, 60.6, 62.2, 63.3, 63.8, 64, 63.7, 62.8, 60.2, 60, 61.4, 59.2, 0, 0, 0, 0, 0, 0, 0, 0, 0, 0, 0, 0, 0, 0, 0, 0, 0, 0, 0, 0, 0, 0, 0, 0, 0, 0, 0, 0, 0, 0, 0, 0, 0, 0, 0, 0, 0, 0, 0, 0, 0, 0, 0, 0, 0, 0, 0, 0, 0, 0, 0, 0, 0, 0, 0, 0, 0, 0, 0, 0]\n",
      "index 0 time= 0.0 hour, value= 0\n",
      "index 1 time= 0.08333333333333333 hour, value= 0\n",
      "index 2 time= 0.16666666666666666 hour, value= 0\n",
      "index 3 time= 0.25 hour, value= 0\n",
      "index 4 time= 0.3333333333333333 hour, value= 0\n",
      "index 5 time= 0.4166666666666667 hour, value= 0\n",
      "index 6 time= 0.5 hour, value= 0\n",
      "index 7 time= 0.5833333333333334 hour, value= 0\n",
      "index 8 time= 0.6666666666666666 hour, value= 0\n",
      "index 9 time= 0.75 hour, value= 0\n",
      "index 10 time= 0.8333333333333334 hour, value= 0\n",
      "index 11 time= 0.9166666666666666 hour, value= 0\n",
      "index 12 time= 1.0 hour, value= 0\n",
      "index 13 time= 1.0833333333333333 hour, value= 0\n",
      "index 14 time= 1.1666666666666667 hour, value= 0\n",
      "index 15 time= 1.25 hour, value= 0\n",
      "index 16 time= 1.3333333333333333 hour, value= 0\n",
      "index 17 time= 1.4166666666666667 hour, value= 0\n",
      "index 18 time= 1.5 hour, value= 0\n",
      "index 19 time= 1.5833333333333333 hour, value= 0\n",
      "index 20 time= 1.6666666666666667 hour, value= 0\n",
      "index 21 time= 1.75 hour, value= 0\n",
      "index 22 time= 1.8333333333333333 hour, value= 0\n",
      "index 23 time= 1.9166666666666667 hour, value= 0\n",
      "index 24 time= 2.0 hour, value= 0\n",
      "index 25 time= 2.0833333333333335 hour, value= 0\n",
      "index 26 time= 2.1666666666666665 hour, value= 0\n",
      "index 27 time= 2.25 hour, value= 0\n",
      "index 28 time= 2.3333333333333335 hour, value= 0\n",
      "index 29 time= 2.4166666666666665 hour, value= 0\n",
      "index 30 time= 2.5 hour, value= 0\n",
      "index 31 time= 2.5833333333333335 hour, value= 0\n",
      "index 32 time= 2.6666666666666665 hour, value= 0\n",
      "index 33 time= 2.75 hour, value= 0\n",
      "index 34 time= 2.8333333333333335 hour, value= 0\n",
      "index 35 time= 2.9166666666666665 hour, value= 0\n",
      "index 36 time= 3.0 hour, value= 0\n",
      "index 37 time= 3.0833333333333335 hour, value= 0\n",
      "index 38 time= 3.1666666666666665 hour, value= 0\n",
      "index 39 time= 3.25 hour, value= 0\n",
      "index 40 time= 3.3333333333333335 hour, value= 0\n",
      "index 41 time= 3.4166666666666665 hour, value= 0\n",
      "index 42 time= 3.5 hour, value= 0\n",
      "index 43 time= 3.5833333333333335 hour, value= 0\n",
      "index 44 time= 3.6666666666666665 hour, value= 0\n",
      "index 45 time= 3.75 hour, value= 0\n",
      "index 46 time= 3.8333333333333335 hour, value= 0\n",
      "index 47 time= 3.9166666666666665 hour, value= 0\n",
      "index 48 time= 4.0 hour, value= 0\n",
      "index 49 time= 4.083333333333333 hour, value= 0\n",
      "index 50 time= 4.166666666666667 hour, value= 0\n",
      "index 51 time= 4.25 hour, value= 0\n",
      "index 52 time= 4.333333333333333 hour, value= 0\n",
      "index 53 time= 4.416666666666667 hour, value= 0\n",
      "index 54 time= 4.5 hour, value= 0\n",
      "index 55 time= 4.583333333333333 hour, value= 0\n",
      "index 56 time= 4.666666666666667 hour, value= 0\n",
      "index 57 time= 4.75 hour, value= 0\n",
      "index 58 time= 4.833333333333333 hour, value= 0\n",
      "index 59 time= 4.916666666666667 hour, value= 0\n",
      "index 60 time= 5.0 hour, value= 0\n",
      "index 61 time= 5.083333333333333 hour, value= 0\n",
      "index 62 time= 5.166666666666667 hour, value= 0\n",
      "index 63 time= 5.25 hour, value= 0\n",
      "index 64 time= 5.333333333333333 hour, value= 0\n",
      "index 65 time= 5.416666666666667 hour, value= 0\n",
      "index 66 time= 5.5 hour, value= 0\n",
      "index 67 time= 5.583333333333333 hour, value= 0\n",
      "index 68 time= 5.666666666666667 hour, value= 0\n",
      "index 69 time= 5.75 hour, value= 0\n",
      "index 70 time= 5.833333333333333 hour, value= 0\n",
      "index 71 time= 5.916666666666667 hour, value= 0\n",
      "index 72 time= 6.0 hour, value= 0\n",
      "index 73 time= 6.083333333333333 hour, value= 33.8\n",
      "index 74 time= 6.166666666666667 hour, value= 33.2\n",
      "index 75 time= 6.25 hour, value= 33.1\n",
      "index 76 time= 6.333333333333333 hour, value= 36.3\n",
      "index 77 time= 6.416666666666667 hour, value= 40\n",
      "index 78 time= 6.5 hour, value= 44\n",
      "index 79 time= 6.583333333333333 hour, value= 48.8\n",
      "index 80 time= 6.666666666666667 hour, value= 53.7\n",
      "index 81 time= 6.75 hour, value= 56.3\n",
      "index 82 time= 6.833333333333333 hour, value= 57.7\n",
      "index 83 time= 6.916666666666667 hour, value= 55.2\n",
      "index 84 time= 7.0 hour, value= 59.3\n",
      "index 85 time= 7.083333333333333 hour, value= 57.1\n",
      "index 86 time= 7.166666666666667 hour, value= 54.5\n",
      "index 87 time= 7.25 hour, value= 53\n",
      "index 88 time= 7.333333333333333 hour, value= 52.2\n",
      "index 89 time= 7.416666666666667 hour, value= 50\n",
      "index 90 time= 7.5 hour, value= 47.6\n",
      "index 91 time= 7.583333333333333 hour, value= 47.6\n",
      "index 92 time= 7.666666666666667 hour, value= 47.2\n",
      "index 93 time= 7.75 hour, value= 46.2\n",
      "index 94 time= 7.833333333333333 hour, value= 44\n",
      "index 95 time= 7.916666666666667 hour, value= 41.2\n",
      "index 96 time= 8.0 hour, value= 45\n",
      "index 97 time= 8.083333333333334 hour, value= 44.5\n",
      "index 98 time= 8.166666666666666 hour, value= 46\n",
      "index 99 time= 8.25 hour, value= 44.8\n",
      "index 100 time= 8.333333333333334 hour, value= 40.9\n",
      "index 101 time= 8.416666666666666 hour, value= 40.3\n",
      "index 102 time= 8.5 hour, value= 39.8\n",
      "index 103 time= 8.583333333333334 hour, value= 37.6\n",
      "index 104 time= 8.666666666666666 hour, value= 35.8\n",
      "index 105 time= 8.75 hour, value= 33.7\n",
      "index 106 time= 8.833333333333334 hour, value= 32.9\n",
      "index 107 time= 8.916666666666666 hour, value= 29.7\n",
      "index 108 time= 9.0 hour, value= 29.4\n",
      "index 109 time= 9.083333333333334 hour, value= 27.7\n",
      "index 110 time= 9.166666666666666 hour, value= 26.6\n",
      "index 111 time= 9.25 hour, value= 27\n",
      "index 112 time= 9.333333333333334 hour, value= 26.7\n",
      "index 113 time= 9.416666666666666 hour, value= 26.3\n",
      "index 114 time= 9.5 hour, value= 25.4\n",
      "index 115 time= 9.583333333333334 hour, value= 25.2\n",
      "index 116 time= 9.666666666666666 hour, value= 25.1\n",
      "index 117 time= 9.75 hour, value= 25.8\n",
      "index 118 time= 9.833333333333334 hour, value= 25.7\n",
      "index 119 time= 9.916666666666666 hour, value= 31.7\n",
      "index 120 time= 10.0 hour, value= 30.7\n",
      "index 121 time= 10.083333333333334 hour, value= 34.8\n",
      "index 122 time= 10.166666666666666 hour, value= 40.1\n",
      "index 123 time= 10.25 hour, value= 43.5\n",
      "index 124 time= 10.333333333333334 hour, value= 46.2\n",
      "index 125 time= 10.416666666666666 hour, value= 54.7\n",
      "index 126 time= 10.5 hour, value= 58.2\n",
      "index 127 time= 10.583333333333334 hour, value= 60.9\n",
      "index 128 time= 10.666666666666666 hour, value= 61.7\n",
      "index 129 time= 10.75 hour, value= 62\n",
      "index 130 time= 10.833333333333334 hour, value= 62.7\n",
      "index 131 time= 10.916666666666666 hour, value= 59.2\n",
      "index 132 time= 11.0 hour, value= 62.8\n",
      "index 133 time= 11.083333333333334 hour, value= 63\n",
      "index 134 time= 11.166666666666666 hour, value= 62.6\n",
      "index 135 time= 11.25 hour, value= 62.5\n",
      "index 136 time= 11.333333333333334 hour, value= 63.7\n",
      "index 137 time= 11.416666666666666 hour, value= 64.3\n",
      "index 138 time= 11.5 hour, value= 64.3\n",
      "index 139 time= 11.583333333333334 hour, value= 63.8\n",
      "index 140 time= 11.666666666666666 hour, value= 63.9\n",
      "index 141 time= 11.75 hour, value= 64.2\n",
      "index 142 time= 11.833333333333334 hour, value= 63.6\n",
      "index 143 time= 11.916666666666666 hour, value= 61.7\n",
      "index 144 time= 12.0 hour, value= 64\n",
      "index 145 time= 12.083333333333334 hour, value= 64.1\n",
      "index 146 time= 12.166666666666666 hour, value= 64.5\n",
      "index 147 time= 12.25 hour, value= 63.5\n",
      "index 148 time= 12.333333333333334 hour, value= 64.2\n",
      "index 149 time= 12.416666666666666 hour, value= 64.3\n",
      "index 150 time= 12.5 hour, value= 62.9\n",
      "index 151 time= 12.583333333333334 hour, value= 62.7\n",
      "index 152 time= 12.666666666666666 hour, value= 63.4\n",
      "index 153 time= 12.75 hour, value= 65.5\n",
      "index 154 time= 12.833333333333334 hour, value= 62.5\n",
      "index 155 time= 12.916666666666666 hour, value= 59.9\n",
      "index 156 time= 13.0 hour, value= 60.8\n",
      "index 157 time= 13.083333333333334 hour, value= 62.9\n",
      "index 158 time= 13.166666666666666 hour, value= 63.4\n",
      "index 159 time= 13.25 hour, value= 63.8\n",
      "index 160 time= 13.333333333333334 hour, value= 64.8\n",
      "index 161 time= 13.416666666666666 hour, value= 65.5\n",
      "index 162 time= 13.5 hour, value= 65.8\n",
      "index 163 time= 13.583333333333334 hour, value= 66.2\n",
      "index 164 time= 13.666666666666666 hour, value= 65.3\n",
      "index 165 time= 13.75 hour, value= 65\n",
      "index 166 time= 13.833333333333334 hour, value= 64.6\n",
      "index 167 time= 13.916666666666666 hour, value= 61.1\n",
      "index 168 time= 14.0 hour, value= 63.8\n",
      "index 169 time= 14.083333333333334 hour, value= 64\n",
      "index 170 time= 14.166666666666666 hour, value= 64.8\n",
      "index 171 time= 14.25 hour, value= 64.3\n",
      "index 172 time= 14.333333333333334 hour, value= 64.2\n",
      "index 173 time= 14.416666666666666 hour, value= 64.7\n",
      "index 174 time= 14.5 hour, value= 65.5\n",
      "index 175 time= 14.583333333333334 hour, value= 65.8\n",
      "index 176 time= 14.666666666666666 hour, value= 64.2\n",
      "index 177 time= 14.75 hour, value= 62.9\n",
      "index 178 time= 14.833333333333334 hour, value= 61.3\n",
      "index 179 time= 14.916666666666666 hour, value= 60.4\n",
      "index 180 time= 15.0 hour, value= 63.6\n",
      "index 181 time= 15.083333333333334 hour, value= 63.1\n",
      "index 182 time= 15.166666666666666 hour, value= 64.6\n",
      "index 183 time= 15.25 hour, value= 65.1\n",
      "index 184 time= 15.333333333333334 hour, value= 63.9\n",
      "index 185 time= 15.416666666666666 hour, value= 64\n",
      "index 186 time= 15.5 hour, value= 64.3\n",
      "index 187 time= 15.583333333333334 hour, value= 63.5\n",
      "index 188 time= 15.666666666666666 hour, value= 63.8\n",
      "index 189 time= 15.75 hour, value= 63.5\n",
      "index 190 time= 15.833333333333334 hour, value= 63.1\n",
      "index 191 time= 15.916666666666666 hour, value= 60\n",
      "index 192 time= 16.0 hour, value= 61.4\n",
      "index 193 time= 16.083333333333332 hour, value= 62.4\n",
      "index 194 time= 16.166666666666668 hour, value= 59\n",
      "index 195 time= 16.25 hour, value= 55.4\n",
      "index 196 time= 16.333333333333332 hour, value= 53.4\n",
      "index 197 time= 16.416666666666668 hour, value= 54.5\n",
      "index 198 time= 16.5 hour, value= 53.3\n",
      "index 199 time= 16.583333333333332 hour, value= 49.7\n",
      "index 200 time= 16.666666666666668 hour, value= 43.7\n",
      "index 201 time= 16.75 hour, value= 38.7\n",
      "index 202 time= 16.833333333333332 hour, value= 34.9\n",
      "index 203 time= 16.916666666666668 hour, value= 35.9\n",
      "index 204 time= 17.0 hour, value= 31.6\n",
      "index 205 time= 17.083333333333332 hour, value= 30.9\n",
      "index 206 time= 17.166666666666668 hour, value= 30\n",
      "index 207 time= 17.25 hour, value= 29.8\n",
      "index 208 time= 17.333333333333332 hour, value= 25.2\n",
      "index 209 time= 17.416666666666668 hour, value= 23.2\n",
      "index 210 time= 17.5 hour, value= 21.2\n",
      "index 211 time= 17.583333333333332 hour, value= 20.3\n",
      "index 212 time= 17.666666666666668 hour, value= 20\n",
      "index 213 time= 17.75 hour, value= 20.4\n",
      "index 214 time= 17.833333333333332 hour, value= 21.5\n",
      "index 215 time= 17.916666666666668 hour, value= 26.7\n",
      "index 216 time= 18.0 hour, value= 24.7\n",
      "index 217 time= 18.083333333333332 hour, value= 25.6\n",
      "index 218 time= 18.166666666666668 hour, value= 25.2\n",
      "index 219 time= 18.25 hour, value= 28.3\n",
      "index 220 time= 18.333333333333332 hour, value= 31.5\n",
      "index 221 time= 18.416666666666668 hour, value= 32.2\n",
      "index 222 time= 18.5 hour, value= 35.6\n",
      "index 223 time= 18.583333333333332 hour, value= 38\n",
      "index 224 time= 18.666666666666668 hour, value= 38.5\n",
      "index 225 time= 18.75 hour, value= 44.9\n",
      "index 226 time= 18.833333333333332 hour, value= 54\n",
      "index 227 time= 18.916666666666668 hour, value= 52.5\n",
      "index 228 time= 19.0 hour, value= 59.6\n",
      "index 229 time= 19.083333333333332 hour, value= 60.6\n",
      "index 230 time= 19.166666666666668 hour, value= 62.2\n",
      "index 231 time= 19.25 hour, value= 63.3\n",
      "index 232 time= 19.333333333333332 hour, value= 63.8\n",
      "index 233 time= 19.416666666666668 hour, value= 64\n",
      "index 234 time= 19.5 hour, value= 63.7\n",
      "index 235 time= 19.583333333333332 hour, value= 62.8\n",
      "index 236 time= 19.666666666666668 hour, value= 60.2\n",
      "index 237 time= 19.75 hour, value= 60\n",
      "index 238 time= 19.833333333333332 hour, value= 61.4\n",
      "index 239 time= 19.916666666666668 hour, value= 59.2\n",
      "index 240 time= 20.0 hour, value= 0\n",
      "index 241 time= 20.083333333333332 hour, value= 0\n",
      "index 242 time= 20.166666666666668 hour, value= 0\n",
      "index 243 time= 20.25 hour, value= 0\n",
      "index 244 time= 20.333333333333332 hour, value= 0\n",
      "index 245 time= 20.416666666666668 hour, value= 0\n",
      "index 246 time= 20.5 hour, value= 0\n",
      "index 247 time= 20.583333333333332 hour, value= 0\n",
      "index 248 time= 20.666666666666668 hour, value= 0\n",
      "index 249 time= 20.75 hour, value= 0\n",
      "index 250 time= 20.833333333333332 hour, value= 0\n",
      "index 251 time= 20.916666666666668 hour, value= 0\n",
      "index 252 time= 21.0 hour, value= 0\n",
      "index 253 time= 21.083333333333332 hour, value= 0\n",
      "index 254 time= 21.166666666666668 hour, value= 0\n",
      "index 255 time= 21.25 hour, value= 0\n",
      "index 256 time= 21.333333333333332 hour, value= 0\n",
      "index 257 time= 21.416666666666668 hour, value= 0\n",
      "index 258 time= 21.5 hour, value= 0\n",
      "index 259 time= 21.583333333333332 hour, value= 0\n",
      "index 260 time= 21.666666666666668 hour, value= 0\n",
      "index 261 time= 21.75 hour, value= 0\n",
      "index 262 time= 21.833333333333332 hour, value= 0\n",
      "index 263 time= 21.916666666666668 hour, value= 0\n",
      "index 264 time= 22.0 hour, value= 0\n",
      "index 265 time= 22.083333333333332 hour, value= 0\n",
      "index 266 time= 22.166666666666668 hour, value= 0\n",
      "index 267 time= 22.25 hour, value= 0\n",
      "index 268 time= 22.333333333333332 hour, value= 0\n",
      "index 269 time= 22.416666666666668 hour, value= 0\n",
      "index 270 time= 22.5 hour, value= 0\n",
      "index 271 time= 22.583333333333332 hour, value= 0\n",
      "index 272 time= 22.666666666666668 hour, value= 0\n",
      "index 273 time= 22.75 hour, value= 0\n",
      "index 274 time= 22.833333333333332 hour, value= 0\n",
      "index 275 time= 22.916666666666668 hour, value= 0\n",
      "index 276 time= 23.0 hour, value= 0\n",
      "index 277 time= 23.083333333333332 hour, value= 0\n",
      "index 278 time= 23.166666666666668 hour, value= 0\n",
      "index 279 time= 23.25 hour, value= 0\n",
      "index 280 time= 23.333333333333332 hour, value= 0\n",
      "index 281 time= 23.416666666666668 hour, value= 0\n",
      "index 282 time= 23.5 hour, value= 0\n",
      "index 283 time= 23.583333333333332 hour, value= 0\n",
      "index 284 time= 23.666666666666668 hour, value= 0\n",
      "index 285 time= 23.75 hour, value= 0\n",
      "index 286 time= 23.833333333333332 hour, value= 0\n",
      "index 287 time= 23.916666666666668 hour, value= 0\n",
      "index 288 time= 24.0 hour, value= 0\n",
      "index 289 time= 24.083333333333332 hour, value= 0\n",
      "index 290 time= 24.166666666666668 hour, value= 0\n",
      "index 291 time= 24.25 hour, value= 0\n",
      "index 292 time= 24.333333333333332 hour, value= 0\n",
      "index 293 time= 24.416666666666668 hour, value= 0\n",
      "index 294 time= 24.5 hour, value= 0\n",
      "index 295 time= 24.583333333333332 hour, value= 0\n",
      "index 296 time= 24.666666666666668 hour, value= 0\n",
      "index 297 time= 24.75 hour, value= 0\n",
      "index 298 time= 24.833333333333332 hour, value= 0\n",
      "index 299 time= 24.916666666666668 hour, value= 0\n"
     ]
    }
   ],
   "source": [
    "speed_input = (34.7, 33.8, 33.2, 33.1, 36.3, 40, 44, 48.8, 53.7, 56.3, 57.7,\n",
    "               55.2, 59.3, 57.1, 54.5, 53, 52.2, 50, 47.6, 47.6, 47.2, 46.2,\n",
    "               44, 41.2, 45, 44.5, 46, 44.8, 40.9, 40.3, 39.8, 37.6, 35.8,\n",
    "               33.7, 32.9, 29.7, 29.4, 27.7, 26.6, 27, 26.7, 26.3, 25.4, 25.2,\n",
    "               25.1, 25.8, 25.7, 31.7, 30.7, 34.8, 40.1, 43.5, 46.2, 54.7,\n",
    "               58.2, 60.9, 61.7, 62, 62.7, 59.2, 62.8, 63, 62.6, 62.5, 63.7,\n",
    "               64.3, 64.3, 63.8, 63.9, 64.2, 63.6, 61.7, 64, 64.1, 64.5, 63.5,\n",
    "               64.2, 64.3, 62.9, 62.7, 63.4, 65.5, 62.5, 59.9, 60.8, 62.9,\n",
    "               63.4, 63.8, 64.8, 65.5, 65.8, 66.2, 65.3, 65, 64.6, 61.1, 63.8,\n",
    "               64, 64.8, 64.3, 64.2, 64.7, 65.5, 65.8, 64.2, 62.9, 61.3, 60.4,\n",
    "               63.6, 63.1, 64.6, 65.1, 63.9, 64, 64.3, 63.5, 63.8, 63.5, 63.1,\n",
    "               60, 61.4, 62.4, 59, 55.4, 53.4, 54.5, 53.3, 49.7, 43.7, 38.7,\n",
    "               34.9, 35.9, 31.6, 30.9, 30, 29.8, 25.2, 23.2, 21.2, 20.3, 20,\n",
    "               20.4, 21.5, 26.7, 24.7, 25.6, 25.2, 28.3, 31.5, 32.2, 35.6, 38,\n",
    "               38.5, 44.9, 54, 52.5, 59.6, 60.6, 62.2, 63.3, 63.8, 64, 63.7,\n",
    "               62.8, 60.2, 60, 61.4, 59.2)\n",
    "# original input starts from 6AM to 8PM for each 5 min interval\n",
    "n = 300\n",
    "spd_vector = [0] * n\n",
    "\n",
    "hour_index_vector = [0] * n\n",
    "\n",
    "for i in range(1, 168, 1):\n",
    "    spd_vector[i + 12 * 6] = speed_input[i]  # 12 5-min interval per hour\n",
    "\n",
    "print(spd_vector)\n",
    "\n",
    "i = 0\n",
    "while i < len(spd_vector):\n",
    "    hour_index_vector[i] = i * 5 / 60\n",
    "    print('index', i, 'time=', hour_index_vector[i], 'hour,', 'value=',\n",
    "          spd_vector[i])\n",
    "    i += 1"
   ]
  },
  {
   "cell_type": "code",
   "execution_count": 17,
   "id": "d75bf249",
   "metadata": {},
   "outputs": [
    {
     "data": {
      "image/png": "[encoded data removed]",
      "text/plain": [
       "<Figure size 432x288 with 1 Axes>"
      ]
     },
     "metadata": {
      "needs_background": "light"
     },
     "output_type": "display_data"
    }
   ],
   "source": [
    "import matplotlib.pyplot as plt\n",
    "import datetime\n",
    "import numpy as np\n",
    "\n",
    "x = np.array([datetime.datetime(2013, 9, 28, i, 0) for i in range(24)])\n",
    "y = np.random.randint(100, size=x.shape)\n",
    "\n",
    "plt.plot(x, y)\n",
    "plt.show()"
   ]
  },
  {
   "cell_type": "code",
   "execution_count": 19,
   "id": "61b8fb30",
   "metadata": {},
   "outputs": [
    {
     "data": {
      "text/plain": [
       "[<matplotlib.lines.Line2D at 0x1e45b687970>]"
      ]
     },
     "execution_count": 19,
     "metadata": {},
     "output_type": "execute_result"
    },
    {
     "data": {
      "image/png": "[encoded data removed]",
      "text/plain": [
       "<Figure size 432x288 with 1 Axes>"
      ]
     },
     "metadata": {
      "needs_background": "light"
     },
     "output_type": "display_data"
    }
   ],
   "source": [
    "plt.plot(spd_vector)"
   ]
  },
  {
   "cell_type": "code",
   "execution_count": 22,
   "id": "6cd4d88b",
   "metadata": {},
   "outputs": [
    {
     "data": {
      "text/plain": [
       "[<matplotlib.lines.Line2D at 0x1e45b759700>]"
      ]
     },
     "execution_count": 22,
     "metadata": {},
     "output_type": "execute_result"
    },
    {
     "data": {
      "image/png": "[encoded data removed]",
      "text/plain": [
       "<Figure size 432x288 with 1 Axes>"
      ]
     },
     "metadata": {
      "needs_background": "light"
     },
     "output_type": "display_data"
    }
   ],
   "source": [
    "plt.plot(hour_index_vector, spd_vector)"
   ]
  },
  {
   "cell_type": "markdown",
   "id": "83b72ea3",
   "metadata": {},
   "source": [
    "## 5 Python File Open"
   ]
  },
  {
   "cell_type": "markdown",
   "id": "a837e3de",
   "metadata": {},
   "source": [
    "prepare a file as welcome.txt with three lines\n",
    "\n",
    "welcome\n",
    "Hello! Welcome to demofile\n",
    "This file is for testing purposes."
   ]
  },
  {
   "cell_type": "code",
   "execution_count": 13,
   "id": "79a0b81c",
   "metadata": {},
   "outputs": [
    {
     "name": "stdout",
     "output_type": "stream",
     "text": [
      "welcome\n",
      "Hello! Welcome to demofile\n",
      "This file is for testing purposes.\n"
     ]
    }
   ],
   "source": [
    "f = open(\"D:\\\\myfile\\welcome.txt\", \"r\")\n",
    "print(f.read())\n",
    "f.close()"
   ]
  },
  {
   "cell_type": "markdown",
   "id": "aeb2903c",
   "metadata": {},
   "source": [
    "Go to data set: https://github.com/asu-trans-ai-lab/gmns_education_data_sets/tree/main/Universities/North%20America/United_States/Massachusetts%20Institute%20of%20Technology download node.csv"
   ]
  },
  {
   "cell_type": "code",
   "execution_count": 14,
   "id": "09d8a01a",
   "metadata": {},
   "outputs": [
    {
     "name": "stdout",
     "output_type": "stream",
     "text": [
      "welcome\n",
      "\n",
      "Hello! Welcome to demofile\n",
      "\n"
     ]
    }
   ],
   "source": [
    "#Read two lines of the file:\n",
    "f1 = open(\"D:\\\\myfile\\\\welcome.txt\", \"r\")\n",
    "print(f1.readline())\n",
    "print(f1.readline())\n",
    "f1.close()"
   ]
  },
  {
   "cell_type": "code",
   "execution_count": 17,
   "id": "8d7f2439",
   "metadata": {},
   "outputs": [
    {
     "name": "stdout",
     "output_type": "stream",
     "text": [
      "name,node_id,osm_node_id,osm_highway,zone_id,ctrl_type,node_type,activity_type,is_boundary,x_coord,y_coord,main_node_id,poi_id,notes\n",
      "\n",
      ",0,31419650,,,,,,,-71.0861277,42.3627265,,,\n",
      "\n"
     ]
    }
   ],
   "source": [
    "#Read two lines of the file:\n",
    "f2 = open(\"D:\\\\myfile\\\\node.csv\", \"r\")\n",
    "print(f2.readline())\n",
    "print(f2.readline())\n",
    "f2.close()"
   ]
  },
  {
   "cell_type": "code",
   "execution_count": 19,
   "id": "defaa30d",
   "metadata": {},
   "outputs": [
    {
     "name": "stdout",
     "output_type": "stream",
     "text": [
      "Reading data......\n",
      "0 -71.0861277 42.3627265\n",
      "1 -71.1033176 42.3559928\n",
      "2 -71.0948847 42.3601506\n",
      "4 -71.0968722 42.35663\n",
      "5 -71.0920012 42.3628555\n",
      "7 -71.0913484 42.3628124\n",
      "8 -71.0870814 42.3624726\n",
      "9 -71.0861596 42.3623633\n",
      "10 -71.0871711 42.3592351\n",
      "11 -71.090535 42.3581085\n",
      "12 -71.0927647 42.3611637\n",
      "13 -71.0936993 42.3607137\n",
      "14 -71.0900015 42.3626287\n",
      "15 -71.1044373 42.3554427\n",
      "16 -71.098079 42.363608\n",
      "17 -71.0974813 42.3635742\n",
      "18 -71.1009714 42.3594843\n",
      "19 -71.0981013 42.360739\n",
      "20 -71.1048669 42.3565441\n",
      "21 -71.104251 42.356213\n",
      "22 -71.1013123 42.3613658\n",
      "23 -71.0825632 42.3607708\n",
      "25 -71.1036964 42.3576677\n",
      "26 -71.0931738 42.3638879\n",
      "27 -71.0851184 42.3630762\n",
      "28 -71.0936322 42.3629768\n",
      "29 -71.0933262 42.3636187\n",
      "30 -71.0934258 42.3634432\n",
      "31 -71.104306 42.363136\n",
      "32 -71.10294 42.362326\n",
      "33 -71.103962 42.362928\n",
      "34 -71.0837886 42.3633639\n",
      "35 -71.083472 42.363851\n",
      "36 -71.102432 42.362863\n",
      "37 -71.1007587 42.3618769\n",
      "38 -71.1042222 42.3580112\n",
      "39 -71.0946956 42.3630506\n",
      "40 -71.0983608 42.3633322\n",
      "41 -71.0994207 42.3634171\n",
      "42 -71.0979498 42.3619874\n",
      "43 -71.0990687 42.3626496\n",
      "44 -71.0932315 42.3584923\n",
      "45 -71.099782 42.3634624\n",
      "47 -71.0983715 42.3639782\n",
      "48 -71.0978775 42.3626253\n",
      "49 -71.096784 42.3625318\n",
      "50 -71.1043759 42.3570051\n",
      "51 -71.082131 42.3620991\n",
      "52 -71.1001179 42.3589746\n",
      "53 -71.1033979 42.3574442\n",
      "54 -71.10301 42.357564\n",
      "55 -71.104864 42.358379\n",
      "56 -71.1002356 42.3615522\n",
      "57 -71.103789 42.356663\n",
      "58 -71.103613 42.359393\n",
      "59 -71.104674 42.360011\n",
      "60 -71.104194 42.359734\n",
      "61 -71.0992599 42.3609839\n",
      "62 -71.1016971 42.3598989\n",
      "63 -71.1009438 42.3602342\n",
      "64 -71.1013657 42.3604856\n",
      "65 -71.1034355 42.3617854\n",
      "66 -71.103575 42.361634\n",
      "67 -71.0960005 42.3608275\n",
      "68 -71.0975466 42.3617475\n",
      "69 -71.0862179 42.3618236\n",
      "70 -71.0965909 42.3638831\n",
      "71 -71.0961082 42.3639791\n",
      "72 -71.0937529 42.3636108\n",
      "73 -71.0994561 42.3585681\n",
      "74 -71.0940084 42.3636502\n",
      "75 -71.0991557 42.3559603\n",
      "76 -71.0987844 42.3553541\n",
      "77 -71.0954635 42.3571037\n",
      "78 -71.0952323 42.3574741\n",
      "79 -71.1004929 42.354779\n",
      "80 -71.0988102 42.355067\n",
      "81 -71.0945785 42.3564505\n",
      "82 -71.0902144 42.357907\n",
      "83 -71.0836367 42.3600967\n",
      "84 -71.1002034 42.3623916\n",
      "85 -71.0988224 42.3611841\n",
      "86 -71.0941414 42.3616701\n",
      "87 -71.0941088 42.3616894\n",
      "88 -71.0955375 42.3610374\n",
      "91 -71.101932 42.363418\n",
      "92 -71.1013683 42.3640216\n",
      "93 -71.0990984 42.3639366\n",
      "94 -71.1005392 42.3634996\n",
      "95 -71.0966957 42.3632946\n",
      "96 -71.0975111 42.3632629\n",
      "97 -71.0967089 42.3632016\n",
      "98 -71.103738 42.363651\n",
      "99 -71.0947599 42.3566942\n",
      "100 -71.0974599 42.363925\n",
      "101 -71.0923778 42.3571709\n",
      "102 -71.0950896 42.3572332\n",
      "103 -71.0863957 42.3604316\n",
      "104 -71.1046346 42.3605971\n",
      "105 -71.1045058 42.3607194\n",
      "106 -71.0876411 42.3600151\n",
      "107 -71.103047 42.359866\n",
      "108 -71.1040784 42.3611147\n",
      "109 -71.0996629 42.3620639\n",
      "110 -71.0973002 42.3602606\n",
      "111 -71.1042652 42.3588691\n",
      "112 -71.1011713 42.3639043\n",
      "113 -71.0984709 42.3613352\n",
      "114 -71.0996101 42.3629644\n",
      "115 -71.088157 42.3626182\n",
      "116 -71.0953482 42.3624257\n",
      "117 -71.104792 42.362695\n",
      "118 -71.0867179 42.3603239\n",
      "119 -71.104005 42.361897\n",
      "120 -71.104652 42.362285\n",
      "121 -71.081589 42.361094\n",
      "122 -71.100651 42.362664\n",
      "123 -71.096938 42.3613854\n",
      "124 -71.0843973 42.3610933\n",
      "125 -71.1039695 42.3612422\n",
      "126 -71.102478 42.36035\n",
      "127 -71.0912798 42.3639351\n",
      "128 -71.0821756 42.3627762\n",
      "129 -71.0819799 42.361766\n",
      "130 -71.0871549 42.3619034\n",
      "131 -71.0819455 42.3608719\n",
      "132 -71.104346 42.361567\n",
      "133 -71.0819399 42.361646\n",
      "134 -71.10227 42.3610968\n",
      "135 -71.1047458 42.3591572\n",
      "136 -71.0889188 42.3596023\n",
      "137 -71.0914232 42.3606177\n",
      "138 -71.0925302 42.3602464\n",
      "139 -71.104651 42.359318\n",
      "140 -71.0932348 42.3600124\n",
      "141 -71.0968764 42.3618769\n",
      "142 -71.1017201 42.3616002\n",
      "143 -71.1013473 42.361945\n",
      "144 -71.1020501 42.361291\n",
      "145 -71.1016424 42.3612514\n",
      "146 -71.1017737 42.36113\n",
      "147 -71.1017952 42.3613128\n",
      "148 -71.1012212 42.3616294\n",
      "149 -71.1010763 42.3617642\n",
      "150 -71.1011231 42.3619685\n",
      "151 -71.101342 42.3617211\n",
      "152 -71.0858969 42.3601238\n",
      "153 -71.0929964 42.3610495\n",
      "154 -71.0948317 42.362122\n",
      "155 -71.0927605 42.3606533\n",
      "156 -71.0839971 42.3599848\n",
      "157 -71.0818666 42.3605592\n",
      "158 -71.0853093 42.3607949\n",
      "159 -71.0815395 42.3546776\n",
      "160 -71.0939467 42.3614177\n",
      "161 -71.0987297 42.3599113\n",
      "162 -71.0925551 42.3612678\n",
      "163 -71.0933892 42.3620306\n",
      "164 -71.0902549 42.3606703\n",
      "165 -71.0886202 42.3611459\n",
      "166 -71.0886195 42.3610112\n",
      "167 -71.0919308 42.3611393\n",
      "168 -71.0882959 42.3611079\n",
      "169 -71.0909464 42.3609124\n",
      "170 -71.0895293 42.3611682\n",
      "171 -71.081889 42.3606218\n",
      "172 -71.0819097 42.3606744\n",
      "173 -71.0824092 42.3630222\n",
      "174 -71.0963452 42.3640092\n",
      "175 -71.0960815 42.3638797\n",
      "176 -71.081962 42.3619439\n",
      "177 -71.0953819 42.3621674\n",
      "178 -71.1035653 42.3558711\n",
      "179 -71.1019936 42.3609318\n",
      "180 -71.1024729 42.3620394\n",
      "181 -71.1033737 42.3608836\n",
      "182 -71.1017065 42.3624221\n",
      "183 -71.1027904 42.361416\n",
      "184 -71.1022549 42.3619125\n",
      "185 -71.102447 42.3611959\n",
      "186 -71.1001945 42.3605686\n",
      "187 -71.0999472 42.3606786\n",
      "188 -71.1008534 42.3609691\n",
      "189 -71.1006608 42.3611509\n",
      "190 -71.1002235 42.3609759\n",
      "191 -71.1000062 42.360742\n",
      "192 -71.1008144 42.3610059\n",
      "193 -71.1007438 42.3610789\n",
      "194 -71.1012094 42.3613011\n",
      "195 -71.1005748 42.3608054\n",
      "196 -71.1002508 42.3626437\n",
      "197 -71.1003489 42.3626336\n",
      "198 -71.1028835 42.3605952\n",
      "199 -71.0909768 42.3601081\n",
      "200 -71.0920177 42.360415\n",
      "201 -71.0917238 42.3611052\n",
      "202 -71.0912781 42.3614221\n",
      "203 -71.0933733 42.3599679\n",
      "204 -71.0928712 42.3593864\n",
      "205 -71.092773 42.3592186\n",
      "206 -71.0925171 42.3585888\n",
      "207 -71.0935482 42.3605989\n",
      "208 -71.0936462 42.3605627\n",
      "209 -71.0881972 42.3609441\n",
      "210 -71.0867495 42.3614147\n",
      "211 -71.08705 42.3611455\n",
      "212 -71.0870684 42.3613095\n",
      "213 -71.0873722 42.3610402\n",
      "214 -71.0875994 42.3611754\n",
      "215 -71.0885426 42.360801\n",
      "216 -71.0879963 42.3598889\n",
      "217 -71.0887973 42.3607115\n",
      "218 -71.0882433 42.3598058\n",
      "219 -71.0900206 42.359257\n",
      "220 -71.0904505 42.3599678\n",
      "221 -71.0906247 42.3602555\n",
      "222 -71.0890687 42.3595855\n",
      "223 -71.0902433 42.3596185\n",
      "224 -71.0897559 42.359778\n",
      "225 -71.0893586 42.3606629\n",
      "226 -71.0891745 42.3605943\n",
      "227 -71.0886561 42.3596774\n",
      "228 -71.0884189 42.3599362\n",
      "229 -71.0883391 42.3599624\n",
      "230 -71.0880902 42.3600385\n",
      "231 -71.088016 42.360064\n",
      "232 -71.0886395 42.3603049\n",
      "233 -71.0885556 42.3603296\n",
      "234 -71.0883147 42.3604123\n",
      "235 -71.0882399 42.3604384\n",
      "236 -71.0884002 42.3605547\n",
      "237 -71.088329 42.3605844\n",
      "238 -71.088794 42.3605649\n",
      "239 -71.0887168 42.3605903\n",
      "240 -71.0884679 42.3606664\n",
      "241 -71.0883935 42.3606908\n",
      "242 -71.0902743 42.3606849\n",
      "243 -71.0904317 42.3608397\n",
      "244 -71.0905209 42.3609371\n",
      "245 -71.0925072 42.3607303\n",
      "246 -71.1018642 42.3608498\n",
      "247 -71.1018373 42.3607676\n",
      "248 -71.1012208 42.3621513\n",
      "249 -71.1048195 42.3543465\n",
      "250 -71.1049805 42.3543166\n",
      "251 -71.1038121 42.3574142\n",
      "252 -71.1036815 42.3575919\n",
      "253 -71.0965348 42.3557941\n",
      "255 -71.0961923 42.355908\n",
      "257 -71.0962171 42.3639923\n",
      "258 -71.0966062 42.3637902\n",
      "259 -71.0960365 42.364057\n",
      "260 -71.0952715 42.3638198\n",
      "261 -71.0936036 42.3630722\n",
      "262 -71.0938536 42.3629957\n",
      "263 -71.094424 42.3630307\n",
      "264 -71.0948289 42.3630628\n",
      "265 -71.0948152 42.3631521\n",
      "266 -71.0951561 42.3630889\n",
      "267 -71.0955929 42.3631212\n",
      "268 -71.0959717 42.3631485\n",
      "269 -71.1014357 42.3614352\n",
      "270 -71.100445 42.3625421\n",
      "271 -71.0996953 42.3628614\n",
      "272 -71.0935712 42.3590435\n",
      "273 -71.0965837 42.3580346\n",
      "274 -71.0971866 42.3590049\n",
      "275 -71.0943013 42.3597571\n",
      "276 -71.0943789 42.3594577\n",
      "277 -71.0940503 42.3595532\n",
      "278 -71.0946672 42.3593604\n",
      "279 -71.0940942 42.35887\n",
      "280 -71.0944494 42.3594281\n",
      "281 -71.0944274 42.3593902\n",
      "282 -71.1042168 42.3639472\n",
      "283 -71.1038996 42.3640012\n",
      "284 -71.0914907 42.3617964\n",
      "285 -71.0887329 42.3604621\n",
      "286 -71.0886491 42.3604808\n",
      "287 -71.0887134 42.3639061\n",
      "288 -71.0886275 42.3640136\n",
      "289 -71.082798 42.363594\n",
      "290 -71.0933468 42.3591286\n",
      "291 -71.0905617 42.3601521\n",
      "293 -71.0926848 42.3573759\n",
      "294 -71.084445 42.3627823\n",
      "295 -71.0872576 42.3639777\n",
      "298 -71.084515 42.362706\n",
      "300 -71.0881662 42.3625586\n",
      "301 -71.0967167 42.3631323\n",
      "302 -71.0968695 42.3625406\n",
      "303 -71.0967969 42.3632083\n",
      "304 -71.096638 42.3631965\n",
      "305 -71.0965967 42.3638453\n",
      "306 -71.0967228 42.3638915\n",
      "307 -71.0967304 42.362526\n",
      "308 -71.0889835 42.3633273\n",
      "309 -71.08908 42.3635899\n",
      "310 -71.0889654 42.3635159\n",
      "311 -71.0890183 42.3639625\n",
      "312 -71.0889003 42.3639819\n",
      "313 -71.0894609 42.363904\n",
      "314 -71.0890317 42.3632703\n",
      "315 -71.0896499 42.3630062\n",
      "316 -71.089481 42.3629473\n",
      "317 -71.0892396 42.3629289\n",
      "318 -71.0891739 42.3627768\n",
      "319 -71.0896996 42.3630102\n",
      "320 -71.0936365 42.3640868\n",
      "321 -71.0820245 42.3629856\n",
      "322 -71.0817421 42.3630485\n",
      "323 -71.0820171 42.3630326\n",
      "324 -71.0823777 42.3630885\n",
      "325 -71.0819194 42.3633129\n",
      "326 -71.0819014 42.3636781\n",
      "327 -71.0834159 42.3639496\n",
      "328 -71.0843696 42.3630249\n",
      "329 -71.0842593 42.3631718\n",
      "330 -71.0849643 42.3632749\n",
      "331 -71.084148 42.3633198\n",
      "332 -71.0848512 42.3634191\n",
      "333 -71.0861137 42.3634923\n",
      "334 -71.0847331 42.3635696\n",
      "335 -71.0860339 42.3635998\n",
      "336 -71.086527 42.3636639\n",
      "337 -71.0864454 42.36377\n",
      "338 -71.0860574 42.3638157\n",
      "339 -71.0880641 42.3625548\n",
      "340 -71.0880493 42.3626108\n",
      "342 -71.087253 42.3638732\n",
      "343 -71.0871931 42.3639496\n",
      "344 -71.087608 42.3640086\n",
      "345 -71.0875298 42.3640974\n",
      "346 -71.0861444 42.3624719\n",
      "347 -71.1001368 42.362572\n",
      "348 -71.0999686 42.3627293\n",
      "349 -71.1000158 42.3627593\n",
      "350 -71.0996418 42.3628296\n",
      "351 -71.0997762 42.3629093\n",
      "352 -71.0998082 42.3629614\n",
      "353 -71.099914 42.3630242\n",
      "354 -71.0997699 42.3630508\n",
      "355 -71.0997436 42.3631471\n",
      "356 -71.1006382 42.363411\n",
      "357 -71.1008382 42.3619256\n",
      "358 -71.1002706 42.3624334\n",
      "359 -71.1036963 42.3574348\n",
      "360 -71.103282 42.3574512\n",
      "361 -71.1036876 42.3574939\n",
      "362 -71.1037599 42.3574986\n",
      "363 -71.1034054 42.357505\n",
      "364 -71.1035368 42.357505\n",
      "365 -71.103321 42.3575104\n",
      "366 -71.1035085 42.3575315\n",
      "367 -71.103187 42.3575469\n",
      "368 -71.1036046 42.3576817\n",
      "369 -71.102364 42.3579533\n",
      "370 -71.1039149 42.3573377\n",
      "371 -71.1033751 42.357375\n",
      "372 -71.1037936 42.357375\n",
      "373 -71.1031439 42.3574998\n",
      "374 -71.1002611 42.3589917\n",
      "375 -71.1041131 42.3573362\n",
      "376 -71.1040201 42.3573735\n",
      "377 -71.1038422 42.3574408\n",
      "378 -71.103826 42.3574438\n",
      "379 -71.1037754 42.3574572\n",
      "380 -71.1037613 42.357644\n",
      "381 -71.1040282 42.3578203\n",
      "382 -71.1030987 42.3574505\n",
      "383 -71.1034129 42.3570785\n",
      "384 -71.1027352 42.3572042\n",
      "385 -71.1032653 42.3573886\n",
      "386 -71.1029692 42.3575164\n",
      "387 -71.1021704 42.3575877\n",
      "388 -71.1029482 42.3575951\n",
      "389 -71.1029917 42.3576433\n",
      "390 -71.1030732 42.3576442\n",
      "391 -71.1030177 42.3576726\n",
      "392 -71.1029148 42.3576813\n",
      "393 -71.1031062 42.3577326\n",
      "394 -71.1023739 42.3578111\n",
      "395 -71.1024178 42.3578646\n",
      "396 -71.1023283 42.3579051\n",
      "397 -71.1020018 42.3580531\n",
      "398 -71.1020501 42.3581078\n",
      "399 -71.1048376 42.3565059\n",
      "400 -71.1048223 42.35652\n",
      "401 -71.1047946 42.3565457\n",
      "402 -71.1047098 42.3566262\n",
      "403 -71.103941 42.3573744\n",
      "404 -71.1039756 42.3573932\n",
      "405 -71.1037578 42.3575196\n",
      "406 -71.1039879 42.357796\n",
      "407 -71.1039389 42.3578394\n",
      "408 -71.10373 42.3577009\n",
      "409 -71.1041537 42.3569767\n",
      "410 -71.1040773 42.3570523\n",
      "411 -71.1042258 42.357146\n",
      "412 -71.1038814 42.3572462\n",
      "413 -71.0899876 42.3625012\n",
      "414 -71.0882512 42.3624491\n",
      "415 -71.089823 42.3619913\n",
      "416 -71.0888839 42.3611139\n",
      "417 -71.0888943 42.3619749\n",
      "418 -71.0898395 42.3620441\n",
      "419 -71.0895761 42.361155\n",
      "420 -71.0894505 42.3611696\n",
      "421 -71.0892517 42.3614744\n",
      "422 -71.0907717 42.3584265\n",
      "423 -71.0911816 42.3587821\n",
      "424 -71.0908915 42.3588707\n",
      "425 -71.091939 42.3585248\n",
      "426 -71.0916348 42.3586312\n",
      "427 -71.0915586 42.358167\n",
      "428 -71.0916553 42.3586242\n",
      "429 -71.0912006 42.3587772\n",
      "430 -71.0911666 42.3582963\n",
      "431 -71.0943949 42.3586121\n",
      "432 -71.094273 42.3584122\n",
      "433 -71.0941901 42.3586811\n",
      "434 -71.094136 42.3588567\n",
      "435 -71.0944739 42.3587418\n",
      "436 -71.0944675 42.3589282\n",
      "437 -71.0943375 42.3587886\n",
      "438 -71.094306 42.3587991\n",
      "439 -71.0947477 42.3586487\n",
      "440 -71.0948377 42.3588046\n",
      "441 -71.082054 42.3627529\n",
      "442 -71.0875191 42.361741\n",
      "443 -71.0854133 42.364073\n",
      "444 -71.0847637 42.3636358\n",
      "445 -71.0900992 42.3638488\n",
      "446 -71.0897237 42.3592065\n",
      "447 -71.0898442 42.3591679\n",
      "448 -71.089664 42.3590406\n",
      "449 -71.089501 42.3587726\n",
      "450 -71.0899311 42.3592931\n",
      "451 -71.0885004 42.3588845\n",
      "452 -71.0878402 42.3591058\n",
      "453 -71.0850435 42.3604251\n",
      "454 -71.0962611 42.3562072\n",
      "455 -71.092537 42.3570628\n",
      "456 -71.0870464 42.3611842\n",
      "457 -71.0883219 42.3609825\n",
      "458 -71.088271 42.3610656\n",
      "459 -71.0882671 42.3608926\n",
      "460 -71.087995 42.3610425\n",
      "461 -71.0879471 42.3610577\n",
      "462 -71.0882238 42.3612541\n",
      "463 -71.0878839 42.3610781\n",
      "464 -71.0881628 42.3601593\n",
      "465 -71.0880867 42.3601817\n",
      "466 -71.0882529 42.3603094\n",
      "467 -71.0885012 42.3602373\n",
      "468 -71.0884955 42.3600628\n",
      "469 -71.0885848 42.3602134\n",
      "470 -71.0881772 42.3603341\n",
      "471 -71.088413 42.3600877\n",
      "472 -71.088999 42.3612285\n",
      "473 -71.0895564 42.3617673\n",
      "474 -71.0897418 42.3617178\n",
      "475 -71.0889364 42.3619388\n",
      "476 -71.0894372 42.3616541\n",
      "477 -71.0894109 42.3618067\n",
      "478 -71.0893719 42.3620127\n",
      "479 -71.0893208 42.3613802\n",
      "480 -71.0894687 42.3614649\n",
      "481 -71.0897089 42.3616113\n",
      "482 -71.0888246 42.3596165\n",
      "483 -71.0884121 42.3589137\n",
      "484 -71.0878834 42.3597849\n",
      "485 -71.0875811 42.3599063\n",
      "486 -71.0879303 42.359771\n",
      "487 -71.0886049 42.3595688\n",
      "488 -71.0832506 42.3617638\n",
      "489 -71.0831891 42.3619836\n",
      "490 -71.0829825 42.3617665\n",
      "491 -71.0861212 42.3596818\n",
      "492 -71.0861131 42.3601337\n",
      "493 -71.0856759 42.3601535\n",
      "495 -71.0863251 42.36153\n",
      "496 -71.0861231 42.3621591\n",
      "497 -71.0863495 42.3617926\n",
      "498 -71.0861875 42.3622821\n",
      "499 -71.0838224 42.3622846\n",
      "500 -71.0946879 42.35791\n",
      "501 -71.0944715 42.357981\n",
      "502 -71.09456 42.3580023\n",
      "503 -71.0936196 42.3580124\n",
      "504 -71.0943403 42.3580241\n",
      "505 -71.0937631 42.35805\n",
      "506 -71.0946985 42.3580599\n",
      "507 -71.0936609 42.35808\n",
      "508 -71.0938435 42.3581824\n",
      "509 -71.0942138 42.3582154\n",
      "510 -71.0939396 42.3583408\n",
      "511 -71.0939566 42.3583688\n",
      "512 -71.0938405 42.3583737\n",
      "513 -71.093971 42.3583928\n",
      "514 -71.0939896 42.3584244\n",
      "515 -71.0938887 42.3584524\n",
      "516 -71.0948488 42.3586143\n",
      "517 -71.0941733 42.3587354\n",
      "518 -71.0861884 42.3624661\n",
      "519 -71.0861701 42.3625991\n",
      "520 -71.0861523 42.3627279\n",
      "521 -71.0906141 42.3600415\n",
      "522 -71.0815521 42.3627773\n",
      "523 -71.0829943 42.3620479\n",
      "524 -71.0931967 42.3591789\n",
      "525 -71.0912803 42.3598195\n",
      "526 -71.090787 42.3602626\n",
      "527 -71.0901868 42.3591445\n",
      "528 -71.0921272 42.3585191\n",
      "529 -71.0934181 42.359104\n",
      "530 -71.090754 42.3589514\n",
      "531 -71.0926342 42.3593675\n",
      "532 -71.0908588 42.3602175\n",
      "533 -71.0919518 42.357955\n",
      "534 -71.0907233 42.3600058\n",
      "535 -71.0926529 42.3583261\n",
      "537 -71.0927519 42.3570408\n",
      "538 -71.0923814 42.3570704\n",
      "539 -71.1025728 42.3548324\n",
      "540 -71.1026144 42.354849\n",
      "541 -71.1037939 42.3561252\n",
      "542 -71.1036945 42.3560149\n",
      "543 -71.1022954 42.3568028\n",
      "544 -71.102686 42.3566084\n",
      "545 -71.091021 42.3580458\n",
      "546 -71.0914127 42.3579153\n",
      "547 -71.0906301 42.358176\n",
      "548 -71.0927577 42.3570626\n",
      "549 -71.0923918 42.3572025\n",
      "550 -71.0927701 42.3569396\n",
      "551 -71.0927411 42.3570082\n",
      "552 -71.0926795 42.3569885\n",
      "553 -71.0817426 42.3606051\n",
      "554 -71.0989169 42.3552752\n",
      "555 -71.0988332 42.3554308\n",
      "556 -71.09481 42.3567768\n",
      "557 -71.0989686 42.3553841\n",
      "559 -71.0987925 42.3550323\n",
      "560 -71.0989324 42.3553068\n",
      "561 -71.0988262 42.3550984\n",
      "562 -71.0967383 42.3561345\n",
      "563 -71.0964954 42.3557302\n",
      "564 -71.0895558 42.3588656\n",
      "565 -71.0895408 42.3588401\n",
      "566 -71.0881014 42.3590181\n",
      "568 -71.0873473 42.3591762\n",
      "570 -71.0870885 42.3593629\n",
      "571 -71.0873982 42.3592531\n",
      "573 -71.0835967 42.360021\n",
      "574 -71.0838476 42.3604462\n",
      "575 -71.097686 42.3618305\n",
      "576 -71.0989631 42.3581321\n",
      "577 -71.0827093 42.3637754\n",
      "578 -71.0839681 42.3615231\n",
      "579 -71.0832991 42.3619984\n",
      "580 -71.0841777 42.3621476\n",
      "581 -71.1026081 42.3608555\n",
      "582 -71.0817648 42.3633816\n",
      "583 -71.0899401 42.3615447\n",
      "584 -71.0863863 42.3604876\n",
      "585 -71.0862078 42.3604974\n",
      "586 -71.0852149 42.3608259\n",
      "587 -71.0838571 42.3622573\n",
      "588 -71.0833435 42.3620042\n",
      "589 -71.0833352 42.3619568\n",
      "590 -71.0837455 42.3623568\n",
      "591 -71.0836945 42.3633275\n",
      "592 -71.0843121 42.3625049\n",
      "593 -71.0862468 42.3635475\n",
      "594 -71.0838463 42.3632839\n",
      "595 -71.086308 42.3634642\n",
      "596 -71.0837302 42.3634488\n",
      "597 -71.0901246 42.3627276\n",
      "598 -71.0901126 42.3625214\n",
      "599 -71.0940072 42.357883\n",
      "600 -71.0945509 42.3577016\n",
      "601 -71.0956065 42.3575016\n",
      "602 -71.0958058 42.3574685\n",
      "603 -71.0958413 42.3578832\n",
      "604 -71.0955418 42.3579771\n",
      "605 -71.0858375 42.363418\n",
      "606 -71.0859612 42.3632575\n",
      "607 -71.0857161 42.3631419\n",
      "608 -71.0857534 42.3636384\n",
      "609 -71.0842949 42.3625178\n",
      "610 -71.0841611 42.3626911\n",
      "611 -71.0965122 42.3557575\n",
      "612 -71.0965543 42.3558258\n",
      "613 -71.0966668 42.3560144\n",
      "614 -71.0954764 42.3571433\n",
      "615 -71.0870828 42.3589163\n",
      "616 -71.086847 42.3589933\n",
      "617 -71.0871242 42.3589816\n",
      "618 -71.0937046 42.3589954\n",
      "619 -71.0868823 42.3590621\n",
      "620 -71.0873256 42.3591417\n",
      "621 -71.087732 42.3599804\n",
      "622 -71.0954988 42.3598385\n",
      "623 -71.0908598 42.3603252\n",
      "624 -71.0901935 42.3605705\n",
      "625 -71.0901027 42.3604197\n",
      "626 -71.0914779 42.3613562\n",
      "627 -71.0915353 42.3614641\n",
      "628 -71.0913384 42.3615259\n",
      "629 -71.0926254 42.3609341\n",
      "630 -71.0906259 42.3614052\n",
      "631 -71.089456 42.360822\n",
      "632 -71.0886202 42.3609374\n",
      "633 -71.0920292 42.361529\n",
      "634 -71.0919563 42.3595919\n",
      "635 -71.0904338 42.3595587\n",
      "636 -71.0903462 42.3616192\n",
      "637 -71.0898883 42.3622006\n",
      "638 -71.0926951 42.3583459\n",
      "639 -71.0928577 42.3586102\n",
      "640 -71.0866659 42.3614417\n",
      "641 -71.087041 42.36122\n",
      "642 -71.0899135 42.3621287\n",
      "643 -71.0904219 42.3623696\n",
      "644 -71.0898678 42.3591984\n",
      "645 -71.0895535 42.3593019\n",
      "646 -71.0891704 42.3595493\n",
      "647 -71.0891123 42.3594481\n",
      "648 -71.0896294 42.3590523\n",
      "649 -71.0894394 42.3591139\n",
      "650 -71.0942229 42.3596942\n",
      "651 -71.0934679 42.3596262\n",
      "652 -71.0946094 42.3599766\n",
      "653 -71.0940558 42.3602484\n",
      "654 -71.0944266 42.3600668\n",
      "655 -71.0914333 42.3606362\n",
      "656 -71.0882484 42.3612561\n",
      "657 -71.084191 42.3626403\n",
      "658 -71.084258 42.3625554\n",
      "659 -71.0836417 42.3623935\n",
      "660 -71.0821204 42.3621907\n",
      "661 -71.0845862 42.3626386\n",
      "662 -71.0844021 42.3628429\n",
      "663 -71.0843472 42.3628617\n",
      "664 -71.084241 42.3627949\n",
      "665 -71.084138 42.3627286\n",
      "666 -71.0892129 42.3627063\n",
      "667 -71.0908003 42.3627763\n",
      "668 -71.0898801 42.3632051\n",
      "669 -71.0866469 42.3637153\n",
      "670 -71.0895796 42.3638764\n",
      "671 -71.0855886 42.3631648\n",
      "672 -71.0954329 42.3598704\n",
      "673 -71.0941614 42.3604942\n",
      "674 -71.0963856 42.36066\n",
      "675 -71.0999747 42.3626025\n",
      "676 -71.0990249 42.3626272\n",
      "677 -71.1001797 42.3632995\n",
      "678 -71.0994284 42.3633247\n",
      "679 -71.1017226 42.3636435\n",
      "680 -71.1007673 42.3636479\n",
      "681 -71.0905436 42.3623091\n",
      "682 -71.0848456 42.3597022\n",
      "683 -71.0897704 42.3636292\n",
      "684 -71.0882806 42.3609144\n",
      "685 -71.0891867 42.3606131\n",
      "686 -71.0883544 42.3610391\n",
      "687 -71.0881172 42.360949\n",
      "688 -71.0881849 42.3609241\n",
      "689 -71.0872959 42.3612357\n",
      "690 -71.0864203 42.3615227\n",
      "691 -71.0863836 42.3615349\n",
      "692 -71.0896115 42.3610605\n",
      "693 -71.0897317 42.3616851\n",
      "694 -71.0901085 42.3614418\n",
      "695 -71.0899899 42.3616467\n",
      "696 -71.0896557 42.3611292\n",
      "697 -71.0897555 42.3613809\n",
      "698 -71.0907854 42.3609723\n",
      "699 -71.0906552 42.3611436\n",
      "700 -71.0899678 42.3614869\n",
      "701 -71.0899211 42.3615032\n",
      "702 -71.0896704 42.3614818\n",
      "703 -71.09012 42.3614408\n",
      "704 -71.091108 42.3607415\n",
      "705 -71.090595 42.3600477\n",
      "706 -71.0906071 42.3600669\n",
      "707 -71.0906217 42.3600908\n",
      "708 -71.0905699 42.3600046\n",
      "709 -71.0905833 42.3600274\n",
      "710 -71.0901576 42.3590995\n",
      "711 -71.0900819 42.3586622\n",
      "712 -71.0908592 42.3588802\n",
      "713 -71.0919723 42.3585141\n",
      "714 -71.0918699 42.3594502\n",
      "715 -71.0918847 42.3594741\n",
      "716 -71.0918919 42.3594858\n",
      "717 -71.0920544 42.3597505\n",
      "718 -71.0922336 42.3598683\n",
      "719 -71.0922513 42.3598774\n",
      "720 -71.0922095 42.3595086\n",
      "721 -71.0922603 42.3595893\n",
      "722 -71.0923283 42.3595677\n",
      "723 -71.0927476 42.3596958\n",
      "724 -71.0931232 42.3595745\n",
      "725 -71.0899051 42.3592498\n",
      "726 -71.0898908 42.3592261\n",
      "727 -71.0893926 42.3585877\n",
      "728 -71.0891569 42.3595259\n",
      "729 -71.0891346 42.3594862\n",
      "730 -71.0888466 42.3594784\n",
      "731 -71.08876 42.3595063\n",
      "732 -71.0922769 42.3599179\n",
      "733 -71.0922649 42.3598986\n",
      "734 -71.0923933 42.3598275\n",
      "735 -71.0923439 42.3595846\n",
      "736 -71.0923005 42.3601493\n",
      "737 -71.0923356 42.3598662\n",
      "738 -71.0922994 42.3598791\n",
      "739 -71.0922598 42.3598907\n",
      "740 -71.092062 42.3599227\n",
      "741 -71.092062 42.3599385\n",
      "742 -71.0920741 42.3599613\n",
      "743 -71.0920862 42.3599821\n",
      "744 -71.0942061 42.359041\n",
      "745 -71.0941579 42.3590689\n",
      "746 -71.0937948 42.3591283\n",
      "747 -71.0944334 42.3594022\n",
      "748 -71.0944302 42.3597197\n",
      "749 -71.0940347 42.3595402\n",
      "750 -71.0948929 42.3592398\n",
      "751 -71.0946124 42.3588464\n",
      "752 -71.0945605 42.3588635\n",
      "753 -71.0946738 42.3588269\n",
      "754 -71.0947273 42.3588105\n",
      "755 -71.0946433 42.3588366\n",
      "756 -71.0945947 42.3587558\n",
      "757 -71.094587 42.3587436\n",
      "758 -71.0945666 42.3587103\n",
      "759 -71.0941838 42.3590056\n",
      "760 -71.0941703 42.3589845\n",
      "761 -71.0941874 42.3590113\n",
      "762 -71.0944633 42.3589213\n",
      "763 -71.0946944 42.3586668\n",
      "764 -71.09432 42.3584892\n",
      "765 -71.094378 42.358775\n",
      "766 -71.0927425 42.3583303\n",
      "767 -71.0929799 42.3585716\n",
      "768 -71.0930464 42.3585507\n",
      "769 -71.0940065 42.3602745\n",
      "770 -71.0934525 42.3596008\n",
      "771 -71.0946237 42.3579311\n",
      "772 -71.0946048 42.3578965\n",
      "773 -71.0945397 42.3579586\n",
      "774 -71.0945197 42.3579234\n",
      "775 -71.0944494 42.3579883\n",
      "776 -71.0944292 42.3579536\n",
      "777 -71.0943666 42.3580155\n",
      "778 -71.0943474 42.3579814\n",
      "779 -71.0942817 42.3580428\n",
      "780 -71.0942635 42.3580091\n",
      "781 -71.0941978 42.3580695\n",
      "782 -71.0941773 42.3580377\n",
      "783 -71.0946644 42.3578581\n",
      "784 -71.0946379 42.3577488\n",
      "785 -71.0946595 42.3576653\n",
      "786 -71.0946757 42.3575891\n",
      "787 -71.0940133 42.3579889\n",
      "788 -71.094064 42.3579726\n",
      "789 -71.0945838 42.3577654\n",
      "790 -71.0981171 42.3566338\n",
      "791 -71.0941151 42.3580958\n",
      "792 -71.0940882 42.3580483\n",
      "793 -71.0952732 42.3574074\n",
      "794 -71.0830598 42.3621794\n",
      "795 -71.0829268 42.3622436\n",
      "796 -71.0831872 42.3620864\n",
      "797 -71.0834016 42.3621379\n",
      "798 -71.0938619 42.3619059\n",
      "799 -71.085107 42.3629643\n",
      "800 -71.0947141 42.3614114\n",
      "801 -71.093883 42.3618856\n",
      "802 -71.0857634 42.3638645\n",
      "803 -71.085891 42.3627776\n",
      "804 -71.0861418 42.3624847\n",
      "805 -71.1024245 42.36102\n",
      "806 -71.102313 42.3611186\n",
      "807 -71.1013206 42.3639932\n",
      "808 -71.1014671 42.3639172\n",
      "809 -71.1010721 42.3639936\n",
      "810 -71.0816056 42.3612131\n",
      "811 -71.0877889 42.3635214\n",
      "812 -71.1039709 42.3544866\n",
      "813 -71.086798 42.3589055\n",
      "814 -71.0835715 42.3599769\n",
      "815 -71.083401 42.3600433\n",
      "816 -71.0870302 42.3588271\n",
      "817 -71.090083 42.3628243\n",
      "818 -71.0996284 42.3633625\n",
      "819 -71.0996607 42.3631341\n",
      "820 -71.0995485 42.3630705\n",
      "821 -71.0996154 42.3634335\n",
      "822 -71.0998287 42.363528\n",
      "823 -71.0993109 42.36341\n",
      "825 -71.0842271 42.3610185\n",
      "826 -71.0843022 42.3611314\n",
      "827 -71.0843021 42.3611888\n",
      "828 -71.0840964 42.3610541\n",
      "829 -71.0842748 42.3614083\n",
      "830 -71.0841857 42.3610305\n",
      "831 -71.0838796 42.3604348\n",
      "832 -71.1018693 42.3552437\n",
      "833 -71.1019632 42.355392\n",
      "834 -71.1020571 42.3555388\n",
      "835 -71.1027127 42.3553156\n",
      "836 -71.1028864 42.3552778\n",
      "837 -71.1028661 42.3552442\n",
      "838 -71.1021544 42.3556909\n",
      "839 -71.1022446 42.3558318\n",
      "840 -71.102333 42.35597\n",
      "841 -71.1031325 42.355901\n",
      "842 -71.1032375 42.35586\n",
      "843 -71.1017652 42.3550829\n",
      "844 -71.0975625 42.3638109\n",
      "845 -71.0980113 42.3633037\n",
      "846 -71.100273 42.3640203\n",
      "847 -71.0937707 42.3613099\n",
      "848 -71.0962603 42.3604862\n",
      "849 -71.0964265 42.3606422\n",
      "850 -71.0963714 42.3606662\n",
      "851 -71.096106 42.3605953\n",
      "852 -71.0959163 42.3604887\n",
      "853 -71.0957488 42.360676\n",
      "854 -71.0996636 42.359187\n",
      "855 -71.1000081 42.3592449\n",
      "856 -71.099881 42.3593254\n",
      "857 -71.1003318 42.3596023\n",
      "858 -71.0998222 42.3591157\n",
      "859 -71.1004365 42.3595428\n",
      "860 -71.1007976 42.3593827\n",
      "861 -71.1006376 42.3594596\n",
      "862 -71.1001173 42.3591435\n",
      "863 -71.100017 42.359019\n",
      "864 -71.1015897 42.3593044\n",
      "865 -71.1021922 42.35913\n",
      "866 -71.1031562 42.359633\n",
      "867 -71.1012003 42.3596151\n",
      "868 -71.0847701 42.3605166\n",
      "869 -71.084858 42.3609461\n",
      "870 -71.1034244 42.3587104\n",
      "871 -71.1036589 42.3585072\n",
      "872 -71.1032259 42.3586093\n",
      "873 -71.1034582 42.3583898\n",
      "874 -71.1029577 42.3585895\n",
      "875 -71.1032889 42.3582919\n",
      "876 -71.1020881 42.3565969\n",
      "877 -71.1024655 42.3566174\n",
      "878 -71.1023458 42.3564703\n",
      "879 -71.0850211 42.3623099\n",
      "880 -71.0844072 42.3625996\n",
      "881 -71.0862704 42.3621661\n",
      "882 -71.0872114 42.3618601\n",
      "883 -71.0871228 42.3624759\n",
      "884 -71.0874064 42.3617319\n",
      "885 -71.0873895 42.3618542\n",
      "886 -71.086472 42.3604804\n",
      "887 -71.0867513 42.3603824\n",
      "888 -71.0874059 42.3610294\n",
      "889 -71.0868149 42.360593\n",
      "890 -71.0867831 42.3608018\n",
      "891 -71.0868027 42.3604937\n",
      "892 -71.086923 42.3604575\n",
      "893 -71.0859256 42.363305\n",
      "894 -71.0858614 42.3633871\n",
      "895 -71.0819672 42.3618914\n",
      "896 -71.0879395 42.3597873\n",
      "898 -71.0908682 42.3608656\n",
      "899 -71.093621 42.3598826\n",
      "900 -71.0816487 42.3611843\n",
      "901 -71.0975114 42.3618525\n",
      "902 -71.0970165 42.3615545\n",
      "903 -71.0969241 42.3614967\n",
      "904 -71.0968788 42.3614757\n",
      "905 -71.0959809 42.3609488\n",
      "906 -71.0975945 42.3619031\n",
      "907 -71.0979353 42.3621149\n",
      "908 -71.098749 42.3626033\n",
      "909 -71.0988561 42.36266\n",
      "910 -71.0989571 42.3627247\n",
      "911 -71.0969612 42.3618506\n",
      "912 -71.0969514 42.3619429\n",
      "913 -71.0968742 42.3624983\n",
      "914 -71.0962531 42.36084\n",
      "915 -71.0961248 42.3608913\n",
      "916 -71.0958576 42.3608923\n",
      "917 -71.0957576 42.3608465\n",
      "918 -71.0957171 42.3607967\n",
      "919 -71.0958797 42.3607651\n",
      "920 -71.096056 42.3607308\n",
      "921 -71.09614 42.3607762\n",
      "922 -71.0962163 42.3608177\n",
      "923 -71.0975502 42.3616026\n",
      "924 -71.0977725 42.3617323\n",
      "925 -71.0976886 42.3616842\n",
      "926 -71.0945844 42.360115\n",
      "927 -71.094747 42.360216\n",
      "928 -71.0944628 42.3600489\n",
      "929 -71.0940581 42.3597454\n",
      "930 -71.0934343 42.3590976\n",
      "931 -71.0930951 42.3585365\n",
      "932 -71.0929661 42.3582752\n",
      "933 -71.0925952 42.3575259\n",
      "934 -71.0924283 42.3572226\n",
      "935 -71.0925142 42.3574323\n",
      "936 -71.0924592 42.357335\n",
      "937 -71.0928188 42.3572118\n",
      "938 -71.0927896 42.357151\n",
      "939 -71.0927405 42.3571185\n",
      "940 -71.0928368 42.3573012\n",
      "941 -71.0928835 42.3574148\n",
      "942 -71.0925137 42.3574035\n",
      "943 -71.0928489 42.3573292\n",
      "944 -71.0969579 42.3618822\n",
      "945 -71.0975293 42.3617372\n",
      "946 -71.0945449 42.3573827\n",
      "947 -71.0945197 42.3573447\n",
      "948 -71.0949678 42.3572377\n",
      "949 -71.0947092 42.3568107\n",
      "950 -71.094156 42.3577577\n",
      "951 -71.0953254 42.3575171\n",
      "952 -71.0951072 42.3574529\n",
      "953 -71.095194 42.3575614\n",
      "954 -71.0951471 42.3575026\n",
      "955 -71.0952034 42.3574265\n",
      "956 -71.0952969 42.3574558\n",
      "957 -71.0899422 42.3627194\n",
      "958 -71.0983692 42.3598769\n",
      "959 -71.0982736 42.3597588\n",
      "960 -71.1049779 42.360194\n",
      "961 -71.0943905 42.3585357\n",
      "962 -71.0857375 42.3631092\n",
      "963 -71.0858216 42.3625252\n",
      "964 -71.0861327 42.3625458\n",
      "965 -71.0847813 42.3624373\n",
      "966 -71.0861542 42.3624019\n",
      "967 -71.0936923 42.3630851\n",
      "968 -71.0935474 42.363064\n",
      "969 -71.0937509 42.3630577\n",
      "970 -71.0937497 42.3629868\n",
      "971 -71.0936442 42.3628862\n",
      "972 -71.0935557 42.3629071\n",
      "973 -71.0935444 42.3629702\n",
      "974 -71.0935274 42.3630413\n",
      "975 -71.0938423 42.3630787\n",
      "976 -71.0937533 42.3630752\n",
      "977 -71.0937051 42.3630949\n",
      "978 -71.0935137 42.3630639\n",
      "979 -71.0937514 42.3629004\n",
      "980 -71.0937396 42.3628967\n",
      "981 -71.1017665 42.3547785\n",
      "982 -71.1017702 42.354646\n",
      "983 -71.1015751 42.3546171\n",
      "984 -71.1019346 42.3546337\n",
      "985 -71.1026017 42.3547413\n",
      "986 -71.1013327 42.3551775\n",
      "987 -71.101356 42.3552205\n",
      "988 -71.1011555 42.354851\n",
      "989 -71.1015085 42.3549543\n",
      "990 -71.1012235 42.3549763\n",
      "991 -71.1013589 42.354788\n",
      "992 -71.1011756 42.3548881\n",
      "993 -71.1023381 42.3548902\n",
      "994 -71.1023104 42.3548415\n",
      "995 -71.1022289 42.3546983\n",
      "996 -71.0874184 42.3639323\n",
      "997 -71.0881008 42.3626121\n",
      "998 -71.0843129 42.3609919\n",
      "999 -71.0842752 42.3614789\n",
      "1000 -71.0840813 42.3613493\n",
      "1001 -71.1034285 42.354654\n",
      "1002 -71.1032791 42.354412\n",
      "1003 -71.0904729 42.3626598\n",
      "1004 -71.0912292 42.3619374\n",
      "1005 -71.0858825 42.3628336\n",
      "1006 -71.0999191 42.3635469\n",
      "1007 -71.1004188 42.3636073\n",
      "1008 -71.0997962 42.3629547\n",
      "1009 -71.0933719 42.3635391\n",
      "1010 -71.0935977 42.3635951\n",
      "1011 -71.0955435 42.3632106\n",
      "1012 -71.0955544 42.3631184\n",
      "1013 -71.087635 42.3625166\n",
      "1014 -71.087521 42.3625075\n",
      "1015 -71.0866431 42.3603489\n",
      "1016 -71.1019446 42.3621999\n",
      "1017 -71.1024089 42.362476\n",
      "1018 -71.1014598 42.3583109\n",
      "1019 -71.1014189 42.3582784\n",
      "1020 -71.1015737 42.357841\n",
      "1021 -71.0836013 42.3639045\n",
      "1022 -71.0832827 42.3639168\n",
      "1023 -71.0833631 42.3640425\n",
      "1024 -71.0844656 42.3626019\n",
      "1025 -71.0847286 42.3624017\n",
      "1026 -71.0863126 42.3610804\n",
      "1027 -71.0858957 42.3610603\n",
      "1028 -71.0863313 42.3609354\n",
      "1029 -71.0859095 42.360915\n",
      "1030 -71.0919133 42.3615862\n",
      "1031 -71.0919691 42.3616491\n",
      "1032 -71.0927738 42.3616572\n",
      "1033 -71.0971967 42.356522\n",
      "1034 -71.0970727 42.3563214\n",
      "1035 -71.1038151 42.3557484\n",
      "1036 -71.0958478 42.3596634\n",
      "1037 -71.0841756 42.3626635\n",
      "1038 -71.0829589 42.3622288\n",
      "1039 -71.0821225 42.3621644\n",
      "1040 -71.0997462 42.3577474\n",
      "1041 -71.0999244 42.3576598\n",
      "1042 -71.1016751 42.3624823\n",
      "1043 -71.1015817 42.3624273\n",
      "1044 -71.1016287 42.3623787\n",
      "1045 -71.1045014 42.3599114\n",
      "1046 -71.1039644 42.3604027\n",
      "1047 -71.1037512 42.359282\n",
      "1048 -71.1029347 42.3587872\n",
      "1049 -71.1029302 42.3587504\n",
      "1050 -71.1035812 42.359179\n",
      "1051 -71.0928579 42.3573567\n",
      "1052 -71.0878218 42.3585605\n",
      "1053 -71.0814017 42.3546259\n",
      "1054 -71.0987865 42.3549547\n",
      "1055 -71.098781 42.3550038\n",
      "1056 -71.0901115 42.3578287\n",
      "1057 -71.0878509 42.3586074\n",
      "1058 -71.0850035 42.3595018\n",
      "1059 -71.0852408 42.3594207\n",
      "1060 -71.0868279 42.35896\n",
      "1061 -71.0923637 42.3571471\n",
      "1062 -71.1007308 42.3545984\n",
      "1063 -71.1003808 42.3544672\n",
      "1064 -71.0870615 42.3588808\n",
      "1065 -71.0925158 42.3574883\n",
      "1067 -71.0965224 42.356212\n",
      "1068 -71.0966691 42.356156\n",
      "1069 -71.0968077 42.3565269\n",
      "1070 -71.0964553 42.3556653\n",
      "1071 -71.0989102 42.3554048\n",
      "1072 -71.0987428 42.3554605\n",
      "1073 -71.083791 42.360327\n",
      "1074 -71.0836592 42.3601366\n",
      "1075 -71.0836171 42.360063\n",
      "1076 -71.0824457 42.3608956\n",
      "1077 -71.0817332 42.3611263\n",
      "1078 -71.0820128 42.361006\n",
      "1079 -71.0819798 42.3609419\n",
      "1080 -71.0819972 42.3609758\n",
      "1081 -71.0868651 42.359029\n",
      "1082 -71.0869929 42.3592528\n",
      "1086 -71.0881421 42.3609398\n",
      "1087 -71.0882248 42.3610813\n",
      "1088 -71.0875899 42.3600322\n",
      "1089 -71.0881091 42.3625536\n",
      "1091 -71.0878953 42.3586827\n",
      "1092 -71.0880521 42.3589379\n",
      "1093 -71.0828197 42.3602347\n",
      "1094 -71.0827955 42.3601939\n",
      "1095 -71.1015659 42.3606952\n",
      "1096 -71.1016828 42.3605861\n",
      "1097 -71.0841698 42.3605264\n",
      "1098 -71.0839416 42.3605999\n",
      "1099 -71.0875114 42.3599995\n",
      "1100 -71.084436 42.3610189\n",
      "1101 -71.0839984 42.360391\n",
      "1102 -71.0848261 42.3608919\n",
      "1103 -71.0852791 42.3607386\n",
      "1104 -71.0865891 42.3602961\n",
      "1105 -71.0832607 42.3640417\n",
      "1106 -71.0834565 42.3640431\n",
      "1107 -71.0837169 42.3632881\n",
      "1108 -71.0832502 42.3639739\n",
      "1109 -71.0836485 42.3634093\n",
      "1110 -71.0836488 42.3633981\n",
      "1111 -71.0833152 42.3638678\n",
      "1112 -71.082734 42.3637249\n",
      "1113 -71.0821917 42.3635899\n",
      "1114 -71.0818202 42.3636596\n",
      "1115 -71.0835466 42.3639565\n",
      "1116 -71.0834032 42.3620121\n",
      "1117 -71.0838239 42.3622219\n",
      "1118 -71.0838737 42.3622479\n",
      "1119 -71.0843467 42.3622582\n",
      "1120 -71.0839308 42.3622774\n",
      "1121 -71.0843932 42.362568\n",
      "1122 -71.0844261 42.3625843\n",
      "1123 -71.0846996 42.3623648\n",
      "1124 -71.0847556 42.3624397\n",
      "1125 -71.0849132 42.362813\n",
      "1126 -71.0850976 42.3628675\n",
      "1127 -71.0874884 42.3638403\n",
      "1128 -71.0875322 42.3638566\n",
      "1129 -71.0871592 42.3639939\n",
      "1130 -71.0873055 42.3638015\n",
      "1131 -71.0874234 42.3638131\n",
      "1132 -71.0879186 42.3635741\n",
      "1133 -71.0876715 42.3639174\n",
      "1134 -71.0876782 42.3639313\n",
      "1135 -71.0836472 42.3638577\n",
      "1136 -71.0838476 42.3635017\n",
      "1137 -71.0850954 42.3631062\n",
      "1138 -71.085138 42.3631244\n",
      "1139 -71.0860886 42.3635261\n",
      "1140 -71.0864981 42.3637015\n",
      "1141 -71.0865551 42.3637252\n",
      "1142 -71.0872228 42.3640221\n",
      "1143 -71.0873122 42.3640629\n",
      "1144 -71.0876955 42.3599241\n",
      "1145 -71.0875582 42.3599803\n",
      "1146 -71.0876096 42.3599593\n",
      "1147 -71.0875827 42.360116\n",
      "1148 -71.0875414 42.3600484\n",
      "1149 -71.0877711 42.3600559\n",
      "1150 -71.0876301 42.3601009\n",
      "1151 -71.0876824 42.3600842\n",
      "1152 -71.08644 42.3603465\n",
      "1153 -71.0865567 42.3604507\n",
      "1154 -71.0864973 42.3603976\n",
      "1155 -71.0861801 42.3604342\n",
      "1156 -71.0862249 42.3605366\n",
      "1157 -71.0851981 42.360766\n",
      "1158 -71.0852319 42.3608862\n",
      "1159 -71.084522 42.3611275\n",
      "1160 -71.0844762 42.3610728\n",
      "1161 -71.0844292 42.361248\n",
      "1162 -71.0843831 42.3609627\n",
      "1163 -71.0859961 42.360361\n",
      "1164 -71.0846587 42.3609063\n",
      "1165 -71.0847595 42.3610768\n",
      "1166 -71.0847627 42.3609129\n",
      "1167 -71.0846785 42.360775\n",
      "1168 -71.0846959 42.3608035\n",
      "1169 -71.084711 42.3608283\n",
      "1170 -71.0835155 42.3605609\n",
      "1171 -71.0835527 42.360621\n",
      "1172 -71.0829957 42.3607328\n",
      "1173 -71.0830046 42.3607713\n",
      "1174 -71.0828101 42.3609866\n",
      "1175 -71.0826482 42.3609949\n",
      "1176 -71.0825628 42.3609702\n",
      "1177 -71.0823716 42.3609189\n",
      "1178 -71.0824958 42.3609508\n",
      "1179 -71.0816457 42.3612594\n",
      "1180 -71.0814997 42.3613114\n",
      "1181 -71.0815974 42.3612766\n",
      "1182 -71.0876347 42.3639792\n",
      "1183 -71.0872707 42.363849\n",
      "1184 -71.0842837 42.3625292\n",
      "1185 -71.0819655 42.3619089\n",
      "1186 -71.0832248 42.3620565\n",
      "1187 -71.0833685 42.3620908\n",
      "1188 -71.0844448 42.3626196\n",
      "1189 -71.0845454 42.3626731\n",
      "1190 -71.0859387 42.3632876\n",
      "1191 -71.0874366 42.3639063\n",
      "1192 -71.0874843 42.3639191\n",
      "1193 -71.081989 42.3627385\n",
      "1194 -71.0820609 42.3621862\n",
      "1195 -71.0821863 42.3621965\n",
      "1196 -71.0872956 42.3640556\n",
      "1197 -71.0873392 42.3640744\n",
      "1198 -71.0967439 42.3628893\n",
      "1199 -71.0972304 42.3629254\n",
      "1200 -71.1009093 42.3585824\n",
      "1201 -71.1008601 42.3585499\n",
      "1202 -71.1004206 42.3582683\n",
      "1203 -71.0926746 42.3573563\n",
      "1204 -71.0874375 42.3630058\n",
      "1205 -71.088032 42.3626906\n",
      "1206 -71.0880392 42.3630413\n",
      "1207 -71.0881257 42.3630458\n",
      "1208 -71.088005 42.3630392\n",
      "1209 -71.0953167 42.3621654\n",
      "1210 -71.094201 42.362057\n",
      "1211 -71.0954529 42.3604979\n",
      "1212 -71.0951433 42.3604584\n",
      "1213 -71.0941832 42.3622145\n",
      "1214 -71.0928623 42.3616124\n",
      "1215 -71.0927908 42.3607051\n",
      "1216 -71.0976684 42.3604805\n",
      "1217 -71.0969681 42.3614033\n",
      "1218 -71.0963912 42.3618575\n",
      "1219 -71.0968603 42.361991\n",
      "1220 -71.0954101 42.361951\n",
      "1221 -71.092938 42.3609479\n",
      "1222 -71.0951553 42.3621469\n",
      "1223 -71.0965844 42.3613059\n",
      "1224 -71.093851 42.3614743\n",
      "1225 -71.0926867 42.3610351\n",
      "1226 -71.0925364 42.3607834\n",
      "1227 -71.0953173 42.3605632\n",
      "1228 -71.0952767 42.3603909\n",
      "1229 -71.0940074 42.3620584\n",
      "1230 -71.0973568 42.3606077\n",
      "1231 -71.0936098 42.3612342\n",
      "1232 -71.0938267 42.3612829\n",
      "1233 -71.0940759 42.3611626\n",
      "1234 -71.0937285 42.3611742\n",
      "1235 -71.093975 42.3610495\n",
      "1236 -71.0934966 42.3612915\n",
      "1237 -71.0923901 42.3570214\n",
      "1238 -71.0926113 42.3569616\n",
      "1239 -71.0924275 42.3572752\n",
      "1240 -71.0977694 42.3553851\n",
      "1241 -71.0966817 42.3557449\n",
      "1242 -71.087813 42.3585462\n",
      "1243 -71.0852922 42.3595025\n",
      "1244 -71.0852708 42.3594669\n",
      "1245 -71.0879148 42.3587145\n",
      "1246 -71.088035 42.3589101\n",
      "1247 -71.0849836 42.3594678\n",
      "1248 -71.0820123 42.3629831\n",
      "1249 -71.0881107 42.3629281\n",
      "1252 -71.0992063 42.3558823\n",
      "1253 -71.09904 42.3559368\n",
      "1254 -71.0991245 42.3559091\n",
      "1255 -71.096964 42.3565721\n",
      "1256 -71.0966816 42.3561521\n",
      "1257 -71.0968892 42.3565016\n",
      "1258 -71.0967642 42.3565404\n",
      "1259 -71.0967856 42.3566207\n",
      "1260 -71.0954526 42.3570696\n",
      "1261 -71.0954593 42.3574719\n",
      "1262 -71.0956685 42.3578376\n",
      "1263 -71.0957691 42.3579932\n",
      "1264 -71.0957221 42.3579206\n",
      "1265 -71.0959233 42.3582526\n",
      "1266 -71.0931968 42.3580804\n",
      "1267 -71.0937349 42.3580583\n",
      "1268 -71.0936165 42.3579374\n",
      "1269 -71.0936727 42.3579947\n",
      "1270 -71.0932599 42.3582053\n",
      "1271 -71.0932284 42.3581429\n",
      "1272 -71.093178 42.3580398\n",
      "1273 -71.0928909 42.3581171\n",
      "1275 -71.093285 42.3582546\n",
      "1276 -71.0929919 42.3583298\n",
      "1277 -71.093134 42.3582933\n",
      "1278 -71.0971815 42.3564974\n",
      "1279 -71.1039429 42.3573247\n",
      "1280 -71.1039939 42.357294\n",
      "1281 -71.1041696 42.3571374\n",
      "1282 -71.1042232 42.3570839\n",
      "1283 -71.1041851 42.3571203\n",
      "1284 -71.1042996 42.3570135\n",
      "1285 -71.1043627 42.3569461\n",
      "1286 -71.1043313 42.3569797\n",
      "1287 -71.1047497 42.3565883\n",
      "1288 -71.1048426 42.356643\n",
      "1289 -71.1047928 42.3566137\n",
      "1290 -71.081848 42.3608201\n",
      "1291 -71.0815707 42.3609434\n",
      "1292 -71.081795 42.3635771\n",
      "1293 -71.0912751 42.3619886\n",
      "1294 -71.0926155 42.3613347\n",
      "1295 -71.09468 42.3602478\n",
      "1296 -71.0878773 42.3586502\n",
      "1297 -71.0880848 42.3589911\n",
      "1298 -71.0881482 42.3590932\n",
      "1299 -71.0881751 42.3591385\n",
      "1300 -71.0819231 42.3618881\n",
      "1301 -71.081687 42.3611711\n",
      "1302 -71.0938032 42.3598781\n",
      "1303 -71.1009225 42.3595057\n",
      "1304 -71.100989 42.3595488\n",
      "1305 -71.1008697 42.3594785\n",
      "1306 -71.0980957 42.3606883\n",
      "1307 -71.0981506 42.3607217\n",
      "1308 -71.0982082 42.3607593\n",
      "1309 -71.0973822 42.3603078\n",
      "1310 -71.0977398 42.3619944\n",
      "1311 -71.0920105 42.3627662\n",
      "1312 -71.0918561 42.3627595\n",
      "1313 -71.0954828 42.3619569\n",
      "1314 -71.0967315 42.3625917\n",
      "1315 -71.0968128 42.361991\n",
      "1316 -71.0967375 42.36249\n",
      "1317 -71.0988886 42.3611538\n",
      "1318 -71.0989545 42.3611948\n",
      "1319 -71.0985531 42.3613854\n",
      "1320 -71.0985871 42.3613712\n",
      "1321 -71.0983429 42.3613923\n",
      "1322 -71.098316 42.3613583\n",
      "1323 -71.0983862 42.361447\n",
      "1324 -71.0984664 42.3614217\n",
      "1325 -71.0987709 42.3611523\n",
      "1326 -71.0970328 42.359081\n",
      "1327 -71.0969835 42.359022\n",
      "1328 -71.0970898 42.359149\n",
      "1329 -71.0947578 42.3600704\n",
      "1330 -71.0948936 42.3600355\n",
      "1331 -71.0949917 42.3600886\n",
      "1332 -71.0950358 42.3602432\n",
      "1333 -71.0948995 42.3603085\n",
      "1334 -71.0951604 42.3601836\n",
      "1335 -71.0948329 42.360273\n",
      "1336 -71.0913068 42.3620203\n",
      "1337 -71.0926331 42.3613541\n",
      "1338 -71.0921283 42.3627714\n",
      "1339 -71.0937659 42.361927\n",
      "1340 -71.093775 42.3618824\n",
      "1341 -71.0939657 42.3618009\n",
      "1342 -71.093885 42.3617216\n",
      "1343 -71.0954616 42.3610719\n",
      "1344 -71.0954521 42.3610153\n",
      "1345 -71.0985071 42.3596796\n",
      "1346 -71.0955273 42.3611102\n",
      "1347 -71.0938171 42.3619811\n",
      "1348 -71.0937591 42.3619608\n",
      "1349 -71.093349 42.3619811\n",
      "1350 -71.0937987 42.3617656\n",
      "1351 -71.0938892 42.3620064\n",
      "1352 -71.094034 42.3618419\n",
      "1353 -71.0954717 42.3611324\n",
      "1354 -71.095591 42.3610848\n",
      "1355 -71.0959469 42.3609355\n",
      "1356 -71.0941632 42.3594957\n",
      "1357 -71.0971468 42.3589409\n",
      "1358 -71.0949138 42.3600492\n",
      "1359 -71.0990555 42.3582024\n",
      "1360 -71.0950962 42.3601414\n",
      "1361 -71.1001575 42.3590533\n",
      "1362 -71.0988365 42.3611288\n",
      "1363 -71.0974465 42.3602895\n",
      "1364 -71.0976521 42.3616627\n",
      "1365 -71.0986984 42.3611829\n",
      "1366 -71.0972849 42.3603376\n",
      "1367 -71.0970549 42.3613231\n",
      "1368 -71.1037463 42.3637093\n",
      "1369 -71.1038241 42.3636513\n",
      "1370 -71.1042935 42.3632154\n",
      "1371 -71.1029491 42.3623883\n",
      "1372 -71.1025273 42.362857\n",
      "1373 -71.1037339 42.3635769\n",
      "1374 -71.104205 42.3631519\n",
      "1375 -71.1045555 42.3623064\n",
      "1376 -71.1039336 42.3628721\n",
      "1377 -71.1040085 42.3629171\n",
      "1378 -71.1046254 42.3623482\n",
      "1379 -71.1042868 42.3630845\n",
      "1380 -71.1030157 42.3623188\n",
      "1381 -71.1035666 42.361715\n",
      "1382 -71.1049023 42.3625137\n",
      "1383 -71.1040869 42.361176\n",
      "1384 -71.1036444 42.3616338\n",
      "1385 -71.1049962 42.3624305\n",
      "1386 -71.1047937 42.3627565\n",
      "1387 -71.1043713 42.363142\n",
      "1388 -71.1048742 42.3626907\n",
      "1389 -71.0993073 42.3633293\n",
      "1390 -71.0994735 42.363028\n",
      "1391 -71.099613 42.3628405\n",
      "1392 -71.1000904 42.3623948\n",
      "1393 -71.102218 42.3618909\n",
      "1394 -71.1017025 42.3623849\n",
      "1395 -71.1011877 42.3620874\n",
      "1396 -71.1008804 42.3618924\n",
      "1397 -71.1007913 42.3619583\n",
      "1398 -71.1011271 42.362161\n",
      "1399 -71.1006515 42.3625908\n",
      "1400 -71.1007505 42.3626555\n",
      "1401 -71.1012237 42.3622135\n",
      "1402 -71.1015415 42.3624037\n",
      "1403 -71.1017258 42.3625122\n",
      "1404 -71.102352 42.3628807\n",
      "1405 -71.102428 42.3627998\n",
      "1406 -71.1018218 42.3624583\n",
      "1407 -71.1020446 42.3622594\n",
      "1408 -71.1029316 42.3622725\n",
      "1409 -71.1028635 42.3623443\n",
      "1410 -71.1019249 42.3633584\n",
      "1411 -71.1003156 42.3623923\n",
      "1412 -71.1002235 42.3624754\n",
      "1413 -71.1004125 42.3625731\n",
      "1414 -71.1014222 42.3638931\n",
      "1415 -71.1018587 42.3634257\n",
      "1416 -71.0996043 42.3634997\n",
      "1417 -71.0997444 42.3635289\n",
      "1418 -71.0984587 42.3634242\n",
      "1419 -71.0994628 42.3640794\n",
      "1420 -71.0980016 42.3633927\n",
      "1421 -71.0981666 42.3634046\n",
      "1422 -71.0996187 42.3621075\n",
      "1423 -71.1042077 42.3639843\n",
      "1424 -71.0994052 42.3629879\n",
      "1425 -71.0995025 42.3629018\n",
      "1426 -71.0995859 42.362828\n",
      "1427 -71.0991575 42.3625621\n",
      "1428 -71.0991308 42.3625457\n",
      "1429 -71.0991992 42.3625878\n",
      "1430 -71.1011788 42.3621891\n",
      "1431 -71.1007003 42.3626196\n",
      "1432 -71.1001345 42.3623498\n",
      "1433 -71.1002496 42.3623488\n",
      "1434 -71.1001803 42.3623032\n",
      "1435 -71.1001565 42.3624348\n"
     ]
    },
    {
     "name": "stdout",
     "output_type": "stream",
     "text": [
      "1436 -71.0993278 42.3634824\n",
      "1437 -71.0983551 42.3634158\n",
      "1438 -71.0990373 42.363979\n",
      "1439 -71.1010976 42.3640064\n",
      "1440 -71.1012574 42.3640554\n",
      "1441 -71.1015107 42.3639407\n",
      "1442 -71.1019658 42.3633804\n",
      "1443 -71.1018898 42.3633931\n",
      "1444 -71.1019846 42.3634495\n",
      "1445 -71.1019498 42.3634845\n",
      "1446 -71.1037899 42.3636045\n",
      "1447 -71.103847 42.3636327\n",
      "1448 -71.1037847 42.3636799\n",
      "1449 -71.1037005 42.3636851\n",
      "1450 -71.1036905 42.3636223\n",
      "1451 -71.1024693 42.3628236\n",
      "1452 -71.1023916 42.3628385\n",
      "1453 -71.1023951 42.362904\n",
      "1454 -71.1024895 42.3628977\n",
      "1455 -71.102022 42.3634108\n",
      "1456 -71.1036538 42.3636563\n",
      "1457 -71.1024541 42.3629359\n",
      "1458 -71.1029698 42.3622935\n",
      "1459 -71.1029022 42.3623662\n",
      "1460 -71.1029839 42.362352\n",
      "1461 -71.1036187 42.3616607\n",
      "1462 -71.1042589 42.3631075\n",
      "1463 -71.1043496 42.3631624\n",
      "1464 -71.1039873 42.3629044\n",
      "1465 -71.1046003 42.3623332\n",
      "1466 -71.1048714 42.3627423\n",
      "1467 -71.1048524 42.3626363\n",
      "1468 -71.1048049 42.3626168\n",
      "1469 -71.1049001 42.3626558\n",
      "1470 -71.1049546 42.3624674\n",
      "1471 -71.1011332 42.3639813\n",
      "1472 -71.0984208 42.3640313\n",
      "1473 -71.099001 42.3639617\n",
      "1474 -71.0991303 42.3640343\n",
      "1475 -71.1010334 42.3639742\n",
      "1476 -71.088396 42.3611089\n",
      "1477 -71.087666 42.3598781\n",
      "1478 -71.087297 42.3593025\n",
      "1479 -71.0880768 42.362486\n",
      "1480 -71.0820815 42.3624792\n",
      "1481 -71.0951833 42.3571605\n",
      "1482 -71.0952544 42.3572972\n",
      "1483 -71.0952011 42.3571946\n",
      "1484 -71.081624 42.361147\n",
      "1485 -71.1017288 42.3624011\n",
      "1486 -71.1039094 42.3612061\n",
      "1487 -71.1010372 42.3595795\n",
      "1488 -71.1010758 42.359544\n",
      "1489 -71.1011155 42.3595127\n",
      "1490 -71.1008816 42.3602294\n",
      "1491 -71.1009023 42.3602527\n",
      "1492 -71.1010294 42.3602852\n",
      "1493 -71.099516 42.362045\n",
      "1494 -71.0995663 42.3620049\n",
      "1495 -71.0996097 42.3619694\n",
      "1496 -71.1001117 42.3615551\n",
      "1497 -71.1001716 42.3615149\n",
      "1498 -71.1002774 42.3615127\n",
      "1499 -71.1008685 42.3610382\n",
      "1500 -71.1007886 42.3611044\n",
      "1501 -71.099358 42.3610424\n",
      "1502 -71.0994132 42.3610184\n",
      "1503 -71.1002716 42.3606211\n",
      "1504 -71.1009635 42.3603118\n",
      "1505 -71.1008164 42.3609474\n",
      "1506 -71.1006226 42.3611266\n",
      "1507 -71.1002192 42.3614921\n",
      "1508 -71.1019532 42.3607774\n",
      "1509 -71.1020368 42.3608166\n",
      "1510 -71.1011969 42.3605863\n",
      "1511 -71.1012327 42.3606111\n",
      "1512 -71.1013062 42.3606517\n",
      "1513 -71.1017389 42.3608493\n",
      "1514 -71.1018164 42.3608949\n",
      "1515 -71.1019396 42.3608976\n",
      "1516 -71.1019487 42.3609723\n",
      "1517 -71.1022295 42.3611325\n",
      "1518 -71.1027277 42.3614128\n",
      "1519 -71.102845 42.3614507\n",
      "1520 -71.1028612 42.361505\n",
      "1521 -71.1023534 42.3619693\n",
      "1522 -71.1028156 42.3614822\n",
      "1523 -71.103352 42.3618013\n",
      "1524 -71.1019787 42.3608648\n",
      "1525 -71.102352 42.3610841\n",
      "1526 -71.1033856 42.3617559\n",
      "1527 -71.1034727 42.361745\n",
      "1528 -71.1035213 42.3617646\n",
      "1529 -71.103415 42.361722\n",
      "1530 -71.1028786 42.3614148\n",
      "1531 -71.1033735 42.3609698\n",
      "1532 -71.1038683 42.3612577\n",
      "1533 -71.1041178 42.3611383\n",
      "1534 -71.1015746 42.3599542\n",
      "1535 -71.1014942 42.3598619\n",
      "1536 -71.1015965 42.3598414\n",
      "1537 -71.1016657 42.359832\n",
      "1538 -71.1017703 42.3600204\n",
      "1539 -71.1018166 42.359968\n",
      "1540 -71.1018424 42.3599353\n",
      "1541 -71.1018728 42.3607399\n",
      "1542 -71.1010882 42.3602583\n",
      "1543 -71.10174 42.3600017\n",
      "1544 -71.1028075 42.3613414\n",
      "1545 -71.1032555 42.3609163\n",
      "1546 -71.1028365 42.3606397\n",
      "1547 -71.1024142 42.3602869\n",
      "1548 -71.1023969 42.3603032\n",
      "1549 -71.1023314 42.3603678\n",
      "1550 -71.1024073 42.3604076\n",
      "1551 -71.1024662 42.3604409\n",
      "1552 -71.1025658 42.3604063\n",
      "1553 -71.1026083 42.3603747\n",
      "1554 -71.102521 42.3602743\n",
      "1555 -71.1025434 42.3602944\n",
      "1556 -71.1026009 42.3603348\n",
      "1557 -71.1031066 42.3599009\n",
      "1558 -71.1039327 42.361172\n",
      "1559 -71.1025788 42.3603575\n",
      "1560 -71.1030744 42.3599382\n",
      "1561 -71.1044155 42.3607226\n",
      "1562 -71.1044526 42.3606883\n",
      "1563 -71.1046189 42.3605332\n",
      "1564 -71.1046706 42.3605629\n",
      "1565 -71.1046817 42.3606259\n",
      "1566 -71.1034935 42.359448\n",
      "1567 -71.1035259 42.3594658\n",
      "1568 -71.103589 42.3594956\n",
      "1569 -71.1036672 42.3594248\n",
      "1570 -71.1044893 42.3606527\n",
      "1571 -71.1039947 42.360375\n",
      "1572 -71.1031482 42.3598609\n",
      "1573 -71.1036336 42.3594586\n",
      "1574 -71.1044595 42.3599497\n",
      "1575 -71.10415 42.3610997\n",
      "1576 -71.1046314 42.3606626\n",
      "1577 -71.1049493 42.3602286\n",
      "1578 -71.1047159 42.3605913\n",
      "1579 -71.1007163 42.3619162\n",
      "1580 -71.1006937 42.3618366\n",
      "1581 -71.1007943 42.3618439\n",
      "1582 -71.101183 42.3616075\n",
      "1583 -71.1013947 42.3614121\n",
      "1584 -71.1015957 42.3612257\n",
      "1585 -71.1018942 42.3609411\n",
      "1586 -71.1003305 42.3615337\n",
      "1587 -71.1007261 42.3618072\n",
      "1588 -71.1012393 42.3613199\n",
      "1589 -71.1017856 42.3608093\n",
      "1590 -71.0992992 42.361064\n",
      "1591 -71.1006483 42.3618795\n",
      "1592 -71.1001535 42.3605398\n",
      "1593 -71.1015429 42.3599452\n",
      "1594 -71.101559 42.3599263\n",
      "1595 -71.1008283 42.3594484\n",
      "1596 -71.1008566 42.3594172\n",
      "1597 -71.1008911 42.3593762\n",
      "1598 -71.1007505 42.3594053\n",
      "1599 -71.0999885 42.3589879\n",
      "1600 -71.100086 42.3590858\n",
      "1601 -71.1001432 42.3589106\n",
      "1602 -71.100188 42.3589399\n",
      "1603 -71.100203 42.3590254\n",
      "1604 -71.1000726 42.3589468\n",
      "1605 -71.1042729 42.3579649\n",
      "1606 -71.1036547 42.3577053\n",
      "1607 -71.1010208 42.3594594\n",
      "1608 -71.1012263 42.359575\n",
      "1609 -71.1024655 42.3603138\n",
      "1610 -71.1037164 42.3592609\n",
      "1611 -71.104232 42.3588485\n",
      "1612 -71.1049139 42.3583319\n",
      "1613 -71.1048675 42.3583061\n",
      "1614 -71.1048158 42.3583477\n",
      "1615 -71.1047857 42.3583764\n",
      "1616 -71.1048255 42.3584105\n",
      "1617 -71.104917 42.3584105\n",
      "1618 -71.1047092 42.3599793\n",
      "1619 -71.1042345 42.3596971\n",
      "1620 -71.1037081 42.3593858\n",
      "1621 -71.1043096 42.3588957\n",
      "1622 -71.1048701 42.3584418\n",
      "1623 -71.1049727 42.3583693\n",
      "1624 -71.1007382 42.3571918\n",
      "1625 -71.1007794 42.3572398\n",
      "1626 -71.1008562 42.357319\n",
      "1627 -71.1034007 42.3558736\n",
      "1628 -71.1034494 42.3559281\n",
      "1629 -71.1035159 42.3560041\n",
      "1630 -71.1044082 42.3555509\n",
      "1631 -71.1043542 42.3554835\n",
      "1632 -71.0989057 42.3580852\n",
      "1633 -71.1032808 42.3559318\n",
      "1634 -71.1043122 42.3554331\n",
      "1635 -71.1044088 42.3553843\n",
      "1636 -71.1045027 42.3553399\n",
      "1637 -71.104897 42.3543321\n",
      "1638 -71.0991302 42.3581651\n",
      "1639 -71.0998171 42.3578273\n",
      "1640 -71.0999937 42.3577397\n",
      "1641 -71.1021535 42.3566755\n",
      "1642 -71.1024091 42.3565511\n",
      "1643 -71.1036327 42.3559457\n",
      "1644 -71.1027753 42.3613685\n",
      "1645 -71.102766 42.3614431\n",
      "1646 -71.1028396 42.3613745\n",
      "1647 -71.1033129 42.3609394\n",
      "1648 -71.1041144 42.3610029\n",
      "1649 -71.1041623 42.3610346\n",
      "1650 -71.1041982 42.3610559\n",
      "1651 -71.0932146 42.3639612\n",
      "1652 -71.0967443 42.36392\n",
      "1653 -71.0974156 42.3639657\n",
      "1654 -71.097448 42.3639704\n",
      "1655 -71.097514 42.3639687\n",
      "1656 -71.098323 42.3640194\n",
      "1657 -71.0983556 42.3640216\n",
      "1658 -71.0965435 42.3638407\n",
      "1659 -71.0967014 42.3638586\n",
      "1660 -71.0974189 42.3638882\n",
      "1661 -71.097462 42.3638909\n",
      "1662 -71.0975141 42.3638978\n",
      "1663 -71.0975139 42.3639282\n",
      "1664 -71.0974164 42.363923\n",
      "1665 -71.0975325 42.3635771\n",
      "1666 -71.0932337 42.3639137\n",
      "1667 -71.0933865 42.363637\n",
      "1668 -71.0934667 42.3634565\n",
      "1669 -71.0935588 42.3628841\n",
      "1670 -71.0932485 42.3638797\n",
      "1671 -71.0936651 42.3640518\n",
      "1672 -71.0965516 42.3637874\n",
      "1673 -71.0965357 42.3638917\n",
      "1674 -71.0968108 42.3628943\n",
      "1675 -71.0967896 42.3631411\n",
      "1676 -71.0966631 42.3631339\n",
      "1677 -71.0953451 42.3630381\n",
      "1678 -71.0952332 42.3630287\n",
      "1679 -71.0947053 42.3629842\n",
      "1680 -71.0944031 42.3631259\n",
      "1681 -71.0951422 42.3631765\n",
      "1682 -71.0953403 42.3631908\n",
      "1683 -71.0955832 42.363209\n",
      "1684 -71.0959563 42.3632425\n",
      "1685 -71.0966383 42.3632908\n",
      "1686 -71.0967926 42.3633064\n",
      "1687 -71.0974588 42.3633522\n",
      "1688 -71.0975017 42.363361\n",
      "1689 -71.0975489 42.3633613\n",
      "1690 -71.0930696 42.3639071\n",
      "1691 -71.0931438 42.3639349\n",
      "1692 -71.0931211 42.3638155\n",
      "1693 -71.093194 42.3638522\n",
      "1694 -71.0914171 42.362891\n",
      "1695 -71.0913365 42.3628889\n",
      "1696 -71.0912643 42.3628894\n",
      "1697 -71.089961 42.362826\n",
      "1698 -71.0898673 42.3628273\n",
      "1699 -71.0897454 42.362829\n",
      "1700 -71.0883968 42.3627114\n",
      "1701 -71.088311 42.3625122\n",
      "1702 -71.089769 42.3626227\n",
      "1703 -71.0901652 42.362633\n",
      "1704 -71.0953026 42.3623723\n",
      "1705 -71.0953547 42.362376\n",
      "1706 -71.0953469 42.3631035\n",
      "1707 -71.0954258 42.3624312\n",
      "1708 -71.0954301 42.3623894\n",
      "1709 -71.0954286 42.3624904\n",
      "1710 -71.0903239 42.3623063\n",
      "1711 -71.0914619 42.3617453\n",
      "1712 -71.0920154 42.3614648\n",
      "1713 -71.092964 42.3609932\n",
      "1714 -71.0936763 42.3606759\n",
      "1715 -71.0946642 42.3601646\n",
      "1716 -71.0897562 42.3627345\n",
      "1717 -71.0897613 42.3626898\n",
      "1718 -71.0919986 42.3616824\n",
      "1719 -71.1019194 42.3617151\n",
      "1720 -71.1019591 42.3617384\n",
      "1721 -71.1021541 42.3610887\n",
      "1722 -71.1021401 42.3612115\n",
      "1723 -71.1009269 42.3619219\n",
      "1724 -71.1010738 42.3620151\n",
      "1725 -71.0871581 42.3620635\n",
      "1726 -71.0871327 42.3622305\n",
      "1727 -71.0927271 42.3611018\n",
      "1728 -71.0923837 42.3570576\n",
      "1729 -71.0881912 42.3610914\n",
      "1730 -71.0881915 42.3610918\n",
      "1731 -71.0943815 42.3596933\n",
      "1732 -71.1036404 42.3560409\n",
      "1733 -71.1040375 42.3618655\n",
      "1734 -71.0975825 42.3605156\n",
      "1735 -71.0997473 42.3592403\n",
      "1736 -71.0999007 42.3591703\n",
      "1737 -71.0940655 42.3616407\n",
      "1738 -71.0947537 42.3614586\n",
      "1739 -71.0963913 42.3605983\n",
      "1740 -71.0963249 42.3606272\n",
      "1741 -71.0958239 42.360592\n",
      "1742 -71.1024971 42.3604575\n",
      "1743 -71.0941769 42.3595071\n",
      "1744 -71.1049053 42.362711\n",
      "1745 -71.104833 42.3627777\n",
      "1746 -71.1047275 42.3626867\n",
      "1747 -71.1047625 42.3627236\n",
      "1748 -71.1042975 42.3630749\n",
      "1749 -71.1043449 42.3631007\n",
      "1750 -71.1043909 42.3631241\n",
      "1751 -71.1039751 42.3573565\n",
      "1752 -71.0965764 42.3594046\n",
      "1753 -71.0965508 42.3593229\n",
      "1754 -71.096529 42.3592476\n",
      "1755 -71.086054 42.3623938\n",
      "1756 -71.0860448 42.3624639\n",
      "1757 -71.086275 42.3624811\n",
      "1758 -71.0862845 42.3624113\n",
      "1759 -71.0862934 42.3623456\n",
      "1760 -71.0862649 42.3625559\n",
      "1761 -71.0860349 42.3625393\n",
      "1762 -71.0860625 42.3623287\n",
      "1763 -71.0880889 42.3624356\n",
      "1765 -71.0871332 42.3624033\n",
      "1766 -71.0843083 42.362162\n",
      "1767 -71.0851251 42.3622571\n",
      "1768 -71.0852551 42.362265\n",
      "1769 -71.0861686 42.3623371\n",
      "1770 -71.0870469 42.3623968\n",
      "1771 -71.0871521 42.3624047\n",
      "1772 -71.0883387 42.3625765\n",
      "1773 -71.088365 42.3626376\n",
      "1774 -71.0817929 42.3628228\n",
      "1775 -71.0820396 42.362867\n",
      "1776 -71.0818245 42.3632933\n",
      "1777 -71.0820221 42.3630008\n",
      "1778 -71.0819927 42.3631026\n",
      "1779 -71.081463 42.3635018\n",
      "1780 -71.0814379 42.3635723\n",
      "1781 -71.0814536 42.3635282\n",
      "1782 -71.0814905 42.3635368\n",
      "1783 -71.0814148 42.3635192\n",
      "1784 -71.0819854 42.3628571\n",
      "1785 -71.1006591 42.3548196\n",
      "1786 -71.0967226 42.3593318\n",
      "1787 -71.0820817 42.3619001\n",
      "1788 -71.0926373 42.3606936\n",
      "1789 -71.0920765 42.3610066\n",
      "1790 -71.0937037 42.3598561\n",
      "1791 -71.0913204 42.3606727\n",
      "1792 -71.0923952 42.3602908\n",
      "1793 -71.0982765 42.3569633\n",
      "1794 -71.0995188 42.3641\n",
      "1795 -71.0974141 42.3641\n",
      "1796 -71.1048008 42.3543\n",
      "1797 -71.105 42.3546975\n",
      "1798 -71.0983263 42.3641\n",
      "1799 -71.0878247 42.3641\n",
      "1800 -71.1032506 42.3641\n",
      "1801 -71.105 42.3624979\n",
      "1802 -71.105 42.3635551\n",
      "1803 -71.0840735 42.3641\n",
      "1804 -71.105 42.361668\n",
      "1805 -71.105 42.3602501\n",
      "1806 -71.0833304 42.3641\n",
      "1807 -71.1009551 42.3641\n",
      "1808 -71.1038814 42.3543\n",
      "1809 -71.105 42.3584599\n",
      "1810 -71.105 42.3582506\n",
      "1811 -71.0843625 42.3641\n",
      "1812 -71.0959857 42.3641\n",
      "1813 -71.0814 42.3607008\n",
      "1814 -71.105 42.3624948\n",
      "1815 -71.105 42.3602077\n",
      "1816 -71.0871618 42.3641\n",
      "1817 -71.096537 42.3641\n",
      "1818 -71.105 42.3593366\n",
      "1819 -71.105 42.3589259\n",
      "1820 -71.105 42.3628196\n",
      "1821 -71.105 42.3608207\n",
      "1822 -71.0936665 42.3641\n",
      "1823 -71.0914197 42.3641\n",
      "1824 -71.0814 42.3626053\n",
      "1825 -71.0911809 42.3543\n",
      "1826 -71.0814 42.3546247\n",
      "1827 -71.0963511 42.3641\n",
      "1828 -71.105 42.3564191\n",
      "1829 -71.105 42.3573299\n",
      "1830 -71.0962196 42.3641\n",
      "1831 -71.1040484 42.3641\n",
      "1832 -71.1040656 42.3641\n",
      "1833 -71.0891913 42.3641\n",
      "1834 -71.0814 42.3611451\n",
      "1835 -71.0814 42.3608675\n",
      "1836 -71.0894113 42.3641\n",
      "1837 -71.0940367 42.3641\n",
      "1838 -71.0814 42.3628708\n",
      "1839 -71.0817816 42.3641\n",
      "1840 -71.0814 42.3635637\n",
      "1841 -71.0858838 42.3641\n",
      "1842 -71.0861629 42.3641\n",
      "1843 -71.105 42.3564945\n",
      "1844 -71.0844459 42.3641\n",
      "1845 -71.0814 42.3618483\n",
      "1846 -71.0814 42.3547168\n",
      "1847 -71.091055 42.3543\n",
      "1848 -71.1049761 42.3543\n",
      "1849 -71.105 42.3543412\n",
      "1850 -71.0814 42.3606581\n",
      "1851 -71.0814 42.3620437\n",
      "1852 -71.0897625 42.3641\n",
      "1853 -71.1044639 42.3641\n",
      "1854 -71.0875358 42.3641\n",
      "1855 -71.0895192 42.3641\n",
      "1856 -71.1015001 42.3641\n",
      "1857 -71.0896564 42.3641\n",
      "1858 -71.0930385 42.3641\n",
      "1859 -71.0993752 42.3641\n",
      "1860 -71.1001882 42.3641\n",
      "1861 -71.1004065 42.3641\n",
      "1862 -71.0999371 42.3641\n",
      "1863 -71.1019396 42.3543\n",
      "1864 -71.105 42.3551663\n",
      "1865 -71.1030713 42.3641\n",
      "1866 -71.0929562 42.3641\n",
      "1867 -71.0872811 42.3641\n",
      "1868 -71.1024675 42.3543\n",
      "1869 -71.105 42.3597469\n",
      "1870 -71.0814 42.3621139\n",
      "1871 -71.0814 42.3619019\n",
      "1872 -71.0814 42.354633\n",
      "1873 -71.0814 42.3608115\n",
      "1874 -71.0814 42.3609351\n",
      "1875 -71.0817027 42.3641\n",
      "1876 -71.0875276 42.3641\n",
      "1877 -71.088158 42.3641\n",
      "1878 -71.0879185 42.3641\n",
      "1879 -71.0814 42.3618655\n",
      "1880 -71.0833206 42.3543\n",
      "1881 -71.0913049 42.3543\n",
      "1882 -71.101629 42.3543\n",
      "1883 -71.0814 42.3610153\n",
      "1884 -71.0814 42.3621358\n",
      "1885 -71.0814 42.3612745\n",
      "1886 -71.1043909 42.3641\n",
      "1887 -71.105 42.3636353\n",
      "1888 -71.105 42.3624271\n",
      "1889 -71.105 42.3625662\n",
      "1890 -71.105 42.361718\n",
      "1891 -71.105 42.3627676\n",
      "1892 -71.105 42.3628802\n",
      "1893 -71.105 42.3635175\n",
      "1894 -71.1045692 42.3641\n",
      "1895 -71.1033164 42.3641\n",
      "1896 -71.0994499 42.3641\n",
      "1897 -71.0994927 42.3641\n",
      "1898 -71.1017715 42.3641\n",
      "1899 -71.1029772 42.3641\n",
      "1900 -71.1031445 42.3641\n",
      "1901 -71.1031746 42.3641\n",
      "1902 -71.1013324 42.3641\n",
      "1903 -71.1010053 42.3641\n",
      "1904 -71.1009034 42.3641\n",
      "1905 -71.0995849 42.3641\n",
      "1906 -71.105 42.3563544\n",
      "1907 -71.0814 42.3612126\n",
      "1908 -71.0983952 42.3641\n",
      "1909 -71.0992409 42.3641\n",
      "1910 -71.0834245 42.3641\n",
      "1911 -71.0818823 42.3641\n",
      "1912 -71.0842163 42.3641\n",
      "1913 -71.0832296 42.3641\n",
      "1914 -71.0838858 42.3641\n",
      "1915 -71.0873981 42.3641\n",
      "1916 -71.105 42.3616083\n",
      "1917 -71.105 42.3608813\n",
      "1918 -71.105 42.3601763\n",
      "1919 -71.105 42.3603179\n",
      "1920 -71.105 42.3607653\n",
      "1921 -71.105 42.3581944\n",
      "1922 -71.105 42.358519\n",
      "1923 -71.105 42.3601517\n",
      "1924 -71.105 42.3583419\n",
      "1925 -71.105 42.358386\n",
      "1926 -71.105 42.3545382\n",
      "1927 -71.1048803 42.3543\n",
      "1928 -71.105 42.3550834\n",
      "1929 -71.0974733 42.3641\n",
      "1930 -71.0973922 42.3641\n",
      "1931 -71.0937746 42.3641\n",
      "1932 -71.0935244 42.3641\n",
      "1933 -71.0964856 42.3641\n",
      "1934 -71.0966568 42.3641\n",
      "1935 -71.0931306 42.3641\n",
      "1936 -71.0982922 42.3641\n",
      "1937 -71.0814 42.363052\n",
      "1938 -71.0814 42.3632071\n",
      "1939 -71.0814 42.3635158\n",
      "1940 -71.1021911 42.3543\n",
      "1941 -71.105 42.3552725\n",
      "1942 -71.0966132 42.3561173\n",
      "1943 -71.088155 42.362442\n",
      "1944 -71.0838808 42.3603638\n",
      "1945 -71.0930566 42.3581354\n",
      "1946 -71.0926254 42.3574697\n",
      "1947 -71.0925137 42.3570132\n",
      "1948 -71.0926226 42.3572475\n",
      "1949 -71.0843631 42.362685\n",
      "1950 -71.0874005 42.3639996\n",
      "1951 -71.088127 42.3626974\n",
      "1952 -71.087131 42.3593009\n",
      "1953 -71.0869943 42.3589579\n",
      "nodes_numbers:1924\n"
     ]
    }
   ],
   "source": [
    "class Node:\n",
    "        def __init__(self):\n",
    "                self.node_id = 0\n",
    "                self.x = 0.0\n",
    "                self.y = 0.0\n",
    "\n",
    "def g_ReadInputData():\n",
    "        g_node_list = []\n",
    "        g_number_of_nodes = 0\n",
    "        with open('D:\\\\myfile\\\\node.csv','r') as fp:\n",
    "                lines = fp.readlines()   \n",
    "                for l in lines[1:]:\n",
    "                    l = l.strip().split(',')  \n",
    "                    node = Node()\n",
    "                    node.node_id = int(l[1])\n",
    "                    node.x = float(l[9]) ## you have to check the # of columns in the file\n",
    "                    node.y = float(l[10])\n",
    "                    print (node.node_id, node.x, node.y)\n",
    "                                \n",
    "                    g_node_list.append(node)\n",
    "                    g_number_of_nodes += 1\n",
    "                               \n",
    "                print('nodes_numbers:{}'.format(g_number_of_nodes))\n",
    "\n",
    "              \n",
    "if __name__=='__main__':\n",
    "        print('Reading data......')\n",
    "        g_ReadInputData()\n",
    "\n"
   ]
  },
  {
   "cell_type": "code",
   "execution_count": 23,
   "id": "a62fe8b2",
   "metadata": {},
   "outputs": [
    {
     "ename": "NameError",
     "evalue": "name 'g_number_of_nodes' is not defined",
     "output_type": "error",
     "traceback": [
      "\u001b[1;31m---------------------------------------------------------------------------\u001b[0m",
      "\u001b[1;31mNameError\u001b[0m                                 Traceback (most recent call last)",
      "\u001b[1;32m<ipython-input-23-f4af9aff54b0>\u001b[0m in \u001b[0;36m<module>\u001b[1;34m\u001b[0m\n\u001b[1;32m----> 1\u001b[1;33m \u001b[0mprint\u001b[0m\u001b[1;33m(\u001b[0m\u001b[1;34m'# of nodes = '\u001b[0m\u001b[1;33m,\u001b[0m \u001b[0mg_number_of_nodes\u001b[0m \u001b[1;33m)\u001b[0m\u001b[1;33m\u001b[0m\u001b[1;33m\u001b[0m\u001b[0m\n\u001b[0m",
      "\u001b[1;31mNameError\u001b[0m: name 'g_number_of_nodes' is not defined"
     ]
    }
   ],
   "source": [
    "#try this line. what is the source of error: answer: g_number_of_nodes is defined as internal variable other than global variable.\n",
    "print('# of nodes = ', g_number_of_nodes)\n"
   ]
  },
  {
   "cell_type": "markdown",
   "id": "940f30f1",
   "metadata": {},
   "source": [
    "## 6. Pandas Reading "
   ]
  },
  {
   "cell_type": "code",
   "execution_count": 24,
   "id": "3a3960e4",
   "metadata": {},
   "outputs": [
    {
     "name": "stdout",
     "output_type": "stream",
     "text": [
      "Pandas version is 1.2.4\n"
     ]
    }
   ],
   "source": [
    "import pandas as pd \n",
    "print('Pandas version is ' + pd.__version__) "
   ]
  },
  {
   "cell_type": "code",
   "execution_count": 25,
   "id": "9c3b6aee",
   "metadata": {},
   "outputs": [
    {
     "data": {
      "text/html": [
       "<div>\n",
       "<style scoped>\n",
       "    .dataframe tbody tr th:only-of-type {\n",
       "        vertical-align: middle;\n",
       "    }\n",
       "\n",
       "    .dataframe tbody tr th {\n",
       "        vertical-align: top;\n",
       "    }\n",
       "\n",
       "    .dataframe thead th {\n",
       "        text-align: right;\n",
       "    }\n",
       "</style>\n",
       "<table border=\"1\" class=\"dataframe\">\n",
       "  <thead>\n",
       "    <tr style=\"text-align: right;\">\n",
       "      <th></th>\n",
       "      <th>node_id</th>\n",
       "      <th>name</th>\n",
       "      <th>x_coord</th>\n",
       "      <th>y_coord</th>\n",
       "      <th>node_type</th>\n",
       "      <th>ctrl_type</th>\n",
       "      <th>zone_id</th>\n",
       "      <th>geometry</th>\n",
       "    </tr>\n",
       "  </thead>\n",
       "  <tbody>\n",
       "    <tr>\n",
       "      <th>0</th>\n",
       "      <td>1</td>\n",
       "      <td>NaN</td>\n",
       "      <td>0.017882</td>\n",
       "      <td>-0.125179</td>\n",
       "      <td>NaN</td>\n",
       "      <td>NaN</td>\n",
       "      <td>1</td>\n",
       "      <td>POINT (0.017882 -0.125179)</td>\n",
       "    </tr>\n",
       "    <tr>\n",
       "      <th>1</th>\n",
       "      <td>2</td>\n",
       "      <td>NaN</td>\n",
       "      <td>40.253933</td>\n",
       "      <td>0.053648</td>\n",
       "      <td>NaN</td>\n",
       "      <td>NaN</td>\n",
       "      <td>2</td>\n",
       "      <td>POINT (40.253933 0.053648)</td>\n",
       "    </tr>\n",
       "    <tr>\n",
       "      <th>2</th>\n",
       "      <td>3</td>\n",
       "      <td>NaN</td>\n",
       "      <td>19.778254</td>\n",
       "      <td>14.806867</td>\n",
       "      <td>NaN</td>\n",
       "      <td>NaN</td>\n",
       "      <td>0</td>\n",
       "      <td>POINT (19.778254 14.806867)</td>\n",
       "    </tr>\n",
       "    <tr>\n",
       "      <th>3</th>\n",
       "      <td>4</td>\n",
       "      <td>NaN</td>\n",
       "      <td>19.688841</td>\n",
       "      <td>-9.692418</td>\n",
       "      <td>NaN</td>\n",
       "      <td>NaN</td>\n",
       "      <td>0</td>\n",
       "      <td>POINT (19.688841 -9.692418)</td>\n",
       "    </tr>\n",
       "  </tbody>\n",
       "</table>\n",
       "</div>"
      ],
      "text/plain": [
       "   node_id  name    x_coord    y_coord  node_type  ctrl_type  zone_id  \\\n",
       "0        1   NaN   0.017882  -0.125179        NaN        NaN        1   \n",
       "1        2   NaN  40.253933   0.053648        NaN        NaN        2   \n",
       "2        3   NaN  19.778254  14.806867        NaN        NaN        0   \n",
       "3        4   NaN  19.688841  -9.692418        NaN        NaN        0   \n",
       "\n",
       "                      geometry  \n",
       "0   POINT (0.017882 -0.125179)  \n",
       "1   POINT (40.253933 0.053648)  \n",
       "2  POINT (19.778254 14.806867)  \n",
       "3  POINT (19.688841 -9.692418)  "
      ]
     },
     "execution_count": 25,
     "metadata": {},
     "output_type": "execute_result"
    }
   ],
   "source": [
    "import pandas as pd\n",
    "import io\n",
    "import requests\n",
    "url='https://raw.github.com/asu-trans-ai-lab/DTALite/main/dataset/01_two_corridor/node.csv'\n",
    "# https://raw.githubusercontent.com/cs109/2014_data/master/countries.csv\n",
    "# https://raw.githubusercontent.com/asu-trans-ai-lab/QGIS_NeXTA4GMNS/master/datasets/ASU/macronet/zone.csv\n",
    "# https://raw.github.com/asu-trans-ai-lab/DTALite/main/dataset/01_two_corridor/node.csv\n",
    "s=requests.get(url).content\n",
    "pd_url=pd.read_csv(io.StringIO(s.decode('utf-8')))\n",
    "pd_url.head()"
   ]
  },
  {
   "cell_type": "code",
   "execution_count": 26,
   "id": "9477ebf9",
   "metadata": {},
   "outputs": [
    {
     "data": {
      "text/html": [
       "<div>\n",
       "<style scoped>\n",
       "    .dataframe tbody tr th:only-of-type {\n",
       "        vertical-align: middle;\n",
       "    }\n",
       "\n",
       "    .dataframe tbody tr th {\n",
       "        vertical-align: top;\n",
       "    }\n",
       "\n",
       "    .dataframe thead th {\n",
       "        text-align: right;\n",
       "    }\n",
       "</style>\n",
       "<table border=\"1\" class=\"dataframe\">\n",
       "  <thead>\n",
       "    <tr style=\"text-align: right;\">\n",
       "      <th></th>\n",
       "      <th>Unix Timestamp (local time)</th>\n",
       "      <th>StationID</th>\n",
       "      <th>Total Flow_per_obs_interval</th>\n",
       "      <th>Avg Density</th>\n",
       "      <th>Avg Speed</th>\n",
       "    </tr>\n",
       "  </thead>\n",
       "  <tbody>\n",
       "    <tr>\n",
       "      <th>0</th>\n",
       "      <td>03/17/2010 00:00</td>\n",
       "      <td>400009</td>\n",
       "      <td>35</td>\n",
       "      <td>0.0103</td>\n",
       "      <td>68.9</td>\n",
       "    </tr>\n",
       "    <tr>\n",
       "      <th>1</th>\n",
       "      <td>03/17/2010 00:00</td>\n",
       "      <td>400126</td>\n",
       "      <td>24</td>\n",
       "      <td>0.0082</td>\n",
       "      <td>70.6</td>\n",
       "    </tr>\n",
       "    <tr>\n",
       "      <th>2</th>\n",
       "      <td>03/17/2010 00:00</td>\n",
       "      <td>400176</td>\n",
       "      <td>52</td>\n",
       "      <td>0.0139</td>\n",
       "      <td>71.3</td>\n",
       "    </tr>\n",
       "    <tr>\n",
       "      <th>3</th>\n",
       "      <td>03/17/2010 00:00</td>\n",
       "      <td>400367</td>\n",
       "      <td>48</td>\n",
       "      <td>0.0148</td>\n",
       "      <td>70.4</td>\n",
       "    </tr>\n",
       "    <tr>\n",
       "      <th>4</th>\n",
       "      <td>03/17/2010 00:00</td>\n",
       "      <td>400432</td>\n",
       "      <td>53</td>\n",
       "      <td>0.0150</td>\n",
       "      <td>68.3</td>\n",
       "    </tr>\n",
       "  </tbody>\n",
       "</table>\n",
       "</div>"
      ],
      "text/plain": [
       "  Unix Timestamp (local time)  StationID  Total Flow_per_obs_interval  \\\n",
       "0            03/17/2010 00:00     400009                           35   \n",
       "1            03/17/2010 00:00     400126                           24   \n",
       "2            03/17/2010 00:00     400176                           52   \n",
       "3            03/17/2010 00:00     400367                           48   \n",
       "4            03/17/2010 00:00     400432                           53   \n",
       "\n",
       "   Avg Density  Avg Speed  \n",
       "0       0.0103       68.9  \n",
       "1       0.0082       70.6  \n",
       "2       0.0139       71.3  \n",
       "3       0.0148       70.4  \n",
       "4       0.0150       68.3  "
      ]
     },
     "execution_count": 26,
     "metadata": {},
     "output_type": "execute_result"
    }
   ],
   "source": [
    "import pandas as pd\n",
    "import io\n",
    "import numpy as np\n",
    "import requests\n",
    "url='https://raw.githubusercontent.com/asu-trans-ai-lab/DTALite/main/dataset/11_Berkeley_Highway_Lab-Network/SensorDataDay013.csv'\n",
    "s=requests.get(url).content\n",
    "pd_SensorData=pd.read_csv(io.StringIO(s.decode('utf-8')))\n",
    "pd_SensorData.head()"
   ]
  },
  {
   "cell_type": "code",
   "execution_count": 27,
   "id": "e841cdac",
   "metadata": {},
   "outputs": [
    {
     "data": {
      "text/html": [
       "<div>\n",
       "<style scoped>\n",
       "    .dataframe tbody tr th:only-of-type {\n",
       "        vertical-align: middle;\n",
       "    }\n",
       "\n",
       "    .dataframe tbody tr th {\n",
       "        vertical-align: top;\n",
       "    }\n",
       "\n",
       "    .dataframe thead th {\n",
       "        text-align: right;\n",
       "    }\n",
       "</style>\n",
       "<table border=\"1\" class=\"dataframe\">\n",
       "  <thead>\n",
       "    <tr style=\"text-align: right;\">\n",
       "      <th>StationID</th>\n",
       "      <th>400009</th>\n",
       "      <th>400126</th>\n",
       "      <th>400176</th>\n",
       "      <th>400367</th>\n",
       "      <th>400432</th>\n",
       "      <th>400679</th>\n",
       "      <th>400691</th>\n",
       "      <th>400728</th>\n",
       "      <th>400803</th>\n",
       "      <th>400808</th>\n",
       "      <th>401198</th>\n",
       "      <th>401242</th>\n",
       "    </tr>\n",
       "    <tr>\n",
       "      <th>Unix Timestamp (local time)</th>\n",
       "      <th></th>\n",
       "      <th></th>\n",
       "      <th></th>\n",
       "      <th></th>\n",
       "      <th></th>\n",
       "      <th></th>\n",
       "      <th></th>\n",
       "      <th></th>\n",
       "      <th></th>\n",
       "      <th></th>\n",
       "      <th></th>\n",
       "      <th></th>\n",
       "    </tr>\n",
       "  </thead>\n",
       "  <tbody>\n",
       "    <tr>\n",
       "      <th>03/17/2010 00:00</th>\n",
       "      <td>0.0103</td>\n",
       "      <td>0.0082</td>\n",
       "      <td>0.0139</td>\n",
       "      <td>0.0148</td>\n",
       "      <td>0.0150</td>\n",
       "      <td>0.0173</td>\n",
       "      <td>0.0067</td>\n",
       "      <td>0.0054</td>\n",
       "      <td>0.0066</td>\n",
       "      <td>0.0140</td>\n",
       "      <td>0.0167</td>\n",
       "      <td>0.0061</td>\n",
       "    </tr>\n",
       "    <tr>\n",
       "      <th>03/17/2010 00:05</th>\n",
       "      <td>0.0143</td>\n",
       "      <td>0.0111</td>\n",
       "      <td>0.0136</td>\n",
       "      <td>0.0176</td>\n",
       "      <td>0.0165</td>\n",
       "      <td>0.0171</td>\n",
       "      <td>0.0085</td>\n",
       "      <td>0.0097</td>\n",
       "      <td>0.0092</td>\n",
       "      <td>0.0189</td>\n",
       "      <td>0.0170</td>\n",
       "      <td>0.0104</td>\n",
       "    </tr>\n",
       "    <tr>\n",
       "      <th>03/17/2010 00:10</th>\n",
       "      <td>0.0135</td>\n",
       "      <td>0.0116</td>\n",
       "      <td>0.0139</td>\n",
       "      <td>0.0148</td>\n",
       "      <td>0.0159</td>\n",
       "      <td>0.0166</td>\n",
       "      <td>0.0104</td>\n",
       "      <td>0.0087</td>\n",
       "      <td>0.0104</td>\n",
       "      <td>0.0147</td>\n",
       "      <td>0.0167</td>\n",
       "      <td>0.0110</td>\n",
       "    </tr>\n",
       "    <tr>\n",
       "      <th>03/17/2010 00:15</th>\n",
       "      <td>0.0128</td>\n",
       "      <td>0.0109</td>\n",
       "      <td>0.0143</td>\n",
       "      <td>0.0145</td>\n",
       "      <td>0.0150</td>\n",
       "      <td>0.0153</td>\n",
       "      <td>0.0099</td>\n",
       "      <td>0.0080</td>\n",
       "      <td>0.0108</td>\n",
       "      <td>0.0163</td>\n",
       "      <td>0.0155</td>\n",
       "      <td>0.0094</td>\n",
       "    </tr>\n",
       "    <tr>\n",
       "      <th>03/17/2010 00:20</th>\n",
       "      <td>0.0117</td>\n",
       "      <td>0.0089</td>\n",
       "      <td>0.0143</td>\n",
       "      <td>0.0160</td>\n",
       "      <td>0.0134</td>\n",
       "      <td>0.0181</td>\n",
       "      <td>0.0073</td>\n",
       "      <td>0.0051</td>\n",
       "      <td>0.0087</td>\n",
       "      <td>0.0167</td>\n",
       "      <td>0.0175</td>\n",
       "      <td>0.0079</td>\n",
       "    </tr>\n",
       "    <tr>\n",
       "      <th>...</th>\n",
       "      <td>...</td>\n",
       "      <td>...</td>\n",
       "      <td>...</td>\n",
       "      <td>...</td>\n",
       "      <td>...</td>\n",
       "      <td>...</td>\n",
       "      <td>...</td>\n",
       "      <td>...</td>\n",
       "      <td>...</td>\n",
       "      <td>...</td>\n",
       "      <td>...</td>\n",
       "      <td>...</td>\n",
       "    </tr>\n",
       "    <tr>\n",
       "      <th>03/17/2010 23:35</th>\n",
       "      <td>0.0184</td>\n",
       "      <td>0.0184</td>\n",
       "      <td>0.0200</td>\n",
       "      <td>0.0213</td>\n",
       "      <td>0.0191</td>\n",
       "      <td>0.0244</td>\n",
       "      <td>0.0161</td>\n",
       "      <td>0.0116</td>\n",
       "      <td>0.0148</td>\n",
       "      <td>0.0219</td>\n",
       "      <td>0.0253</td>\n",
       "      <td>0.0164</td>\n",
       "    </tr>\n",
       "    <tr>\n",
       "      <th>03/17/2010 23:40</th>\n",
       "      <td>0.0146</td>\n",
       "      <td>0.0127</td>\n",
       "      <td>0.0183</td>\n",
       "      <td>0.0229</td>\n",
       "      <td>0.0186</td>\n",
       "      <td>0.0246</td>\n",
       "      <td>0.0104</td>\n",
       "      <td>0.0080</td>\n",
       "      <td>0.0116</td>\n",
       "      <td>0.0251</td>\n",
       "      <td>0.0227</td>\n",
       "      <td>0.0110</td>\n",
       "    </tr>\n",
       "    <tr>\n",
       "      <th>03/17/2010 23:45</th>\n",
       "      <td>0.0147</td>\n",
       "      <td>0.0152</td>\n",
       "      <td>0.0219</td>\n",
       "      <td>0.0235</td>\n",
       "      <td>0.0174</td>\n",
       "      <td>0.0260</td>\n",
       "      <td>0.0117</td>\n",
       "      <td>0.0097</td>\n",
       "      <td>0.0128</td>\n",
       "      <td>0.0244</td>\n",
       "      <td>0.0260</td>\n",
       "      <td>0.0125</td>\n",
       "    </tr>\n",
       "    <tr>\n",
       "      <th>03/17/2010 23:50</th>\n",
       "      <td>0.0124</td>\n",
       "      <td>0.0096</td>\n",
       "      <td>0.0149</td>\n",
       "      <td>0.0150</td>\n",
       "      <td>0.0170</td>\n",
       "      <td>0.0174</td>\n",
       "      <td>0.0087</td>\n",
       "      <td>0.0094</td>\n",
       "      <td>0.0032</td>\n",
       "      <td>0.0060</td>\n",
       "      <td>0.0178</td>\n",
       "      <td>0.0095</td>\n",
       "    </tr>\n",
       "    <tr>\n",
       "      <th>03/17/2010 23:55</th>\n",
       "      <td>0.0128</td>\n",
       "      <td>0.0119</td>\n",
       "      <td>0.0133</td>\n",
       "      <td>0.0174</td>\n",
       "      <td>0.0154</td>\n",
       "      <td>0.0215</td>\n",
       "      <td>0.0102</td>\n",
       "      <td>0.0071</td>\n",
       "      <td>0.0026</td>\n",
       "      <td>0.0049</td>\n",
       "      <td>0.0180</td>\n",
       "      <td>0.0089</td>\n",
       "    </tr>\n",
       "  </tbody>\n",
       "</table>\n",
       "<p>288 rows × 12 columns</p>\n",
       "</div>"
      ],
      "text/plain": [
       "StationID                    400009  400126  400176  400367  400432  400679  \\\n",
       "Unix Timestamp (local time)                                                   \n",
       "03/17/2010 00:00             0.0103  0.0082  0.0139  0.0148  0.0150  0.0173   \n",
       "03/17/2010 00:05             0.0143  0.0111  0.0136  0.0176  0.0165  0.0171   \n",
       "03/17/2010 00:10             0.0135  0.0116  0.0139  0.0148  0.0159  0.0166   \n",
       "03/17/2010 00:15             0.0128  0.0109  0.0143  0.0145  0.0150  0.0153   \n",
       "03/17/2010 00:20             0.0117  0.0089  0.0143  0.0160  0.0134  0.0181   \n",
       "...                             ...     ...     ...     ...     ...     ...   \n",
       "03/17/2010 23:35             0.0184  0.0184  0.0200  0.0213  0.0191  0.0244   \n",
       "03/17/2010 23:40             0.0146  0.0127  0.0183  0.0229  0.0186  0.0246   \n",
       "03/17/2010 23:45             0.0147  0.0152  0.0219  0.0235  0.0174  0.0260   \n",
       "03/17/2010 23:50             0.0124  0.0096  0.0149  0.0150  0.0170  0.0174   \n",
       "03/17/2010 23:55             0.0128  0.0119  0.0133  0.0174  0.0154  0.0215   \n",
       "\n",
       "StationID                    400691  400728  400803  400808  401198  401242  \n",
       "Unix Timestamp (local time)                                                  \n",
       "03/17/2010 00:00             0.0067  0.0054  0.0066  0.0140  0.0167  0.0061  \n",
       "03/17/2010 00:05             0.0085  0.0097  0.0092  0.0189  0.0170  0.0104  \n",
       "03/17/2010 00:10             0.0104  0.0087  0.0104  0.0147  0.0167  0.0110  \n",
       "03/17/2010 00:15             0.0099  0.0080  0.0108  0.0163  0.0155  0.0094  \n",
       "03/17/2010 00:20             0.0073  0.0051  0.0087  0.0167  0.0175  0.0079  \n",
       "...                             ...     ...     ...     ...     ...     ...  \n",
       "03/17/2010 23:35             0.0161  0.0116  0.0148  0.0219  0.0253  0.0164  \n",
       "03/17/2010 23:40             0.0104  0.0080  0.0116  0.0251  0.0227  0.0110  \n",
       "03/17/2010 23:45             0.0117  0.0097  0.0128  0.0244  0.0260  0.0125  \n",
       "03/17/2010 23:50             0.0087  0.0094  0.0032  0.0060  0.0178  0.0095  \n",
       "03/17/2010 23:55             0.0102  0.0071  0.0026  0.0049  0.0180  0.0089  \n",
       "\n",
       "[288 rows x 12 columns]"
      ]
     },
     "execution_count": 27,
     "metadata": {},
     "output_type": "execute_result"
    }
   ],
   "source": [
    "pd_SensorData.pivot(index='Unix Timestamp (local time)', columns='StationID',values='Avg Density')"
   ]
  },
  {
   "cell_type": "markdown",
   "id": "ab971ce8",
   "metadata": {},
   "source": [
    "## 7. string"
   ]
  },
  {
   "cell_type": "code",
   "execution_count": 24,
   "id": "939baa21",
   "metadata": {},
   "outputs": [
    {
     "name": "stdout",
     "output_type": "stream",
     "text": [
      "hello\n"
     ]
    }
   ],
   "source": [
    "str = 'hello AI'\n",
    "print(str[0:5])"
   ]
  },
  {
   "cell_type": "markdown",
   "id": "d0ceb217",
   "metadata": {},
   "source": [
    "install GEOPandas https://geopandas.org/en/stable/getting_started/install.html"
   ]
  },
  {
   "cell_type": "markdown",
   "id": "3286ebec",
   "metadata": {},
   "source": [
    "## 8. dictionary"
   ]
  },
  {
   "cell_type": "code",
   "execution_count": 25,
   "id": "a2bf7796",
   "metadata": {},
   "outputs": [
    {
     "name": "stdout",
     "output_type": "stream",
     "text": [
      "{'node 1': 10, 'node 2': 20}\n"
     ]
    }
   ],
   "source": [
    "dic = {\"node 1\": 10, \"node 2\": 20}\n",
    "print(dic)"
   ]
  },
  {
   "cell_type": "markdown",
   "id": "0a1d6421",
   "metadata": {},
   "source": [
    "clear and copy"
   ]
  },
  {
   "cell_type": "code",
   "execution_count": 29,
   "id": "a677060c",
   "metadata": {},
   "outputs": [
    {
     "name": "stdout",
     "output_type": "stream",
     "text": [
      "{}\n"
     ]
    }
   ],
   "source": [
    "dic = {\"node 1\": 10, \"node 2\": 20}\n",
    "dict1 = dic.copy()\n",
    "dic.clear()\n",
    "print(dic)"
   ]
  },
  {
   "cell_type": "code",
   "execution_count": 30,
   "id": "17a03762",
   "metadata": {},
   "outputs": [
    {
     "name": "stdout",
     "output_type": "stream",
     "text": [
      "{'node 1': 10, 'node 2': 20}\n"
     ]
    }
   ],
   "source": [
    "print(dict1)"
   ]
  },
  {
   "cell_type": "markdown",
   "id": "18e004bb",
   "metadata": {},
   "source": [
    " dict get value: get(self, key, default=None)"
   ]
  },
  {
   "cell_type": "code",
   "execution_count": 32,
   "id": "0a9e76fa",
   "metadata": {},
   "outputs": [
    {
     "name": "stdout",
     "output_type": "stream",
     "text": [
      "10\n"
     ]
    }
   ],
   "source": [
    "dic = {\"node 1\": 10, \"node 2\": 20}\n",
    "dict_index = dic.get(\"node 1\")\n",
    "print(dict_index)"
   ]
  },
  {
   "cell_type": "markdown",
   "id": "2620c47a",
   "metadata": {},
   "source": [
    "get value sequences"
   ]
  },
  {
   "cell_type": "code",
   "execution_count": 35,
   "id": "413079c1",
   "metadata": {},
   "outputs": [
    {
     "name": "stdout",
     "output_type": "stream",
     "text": [
      "4 8 9\n"
     ]
    }
   ],
   "source": [
    "values = 4, 8, 9\n",
    "x, y, z = values\n",
    "print(x, y, z)"
   ]
  },
  {
   "cell_type": "code",
   "execution_count": 36,
   "id": "72157111",
   "metadata": {},
   "outputs": [
    {
     "name": "stdout",
     "output_type": "stream",
     "text": [
      "9\n"
     ]
    }
   ],
   "source": [
    "x = 1\n",
    "x += 2\n",
    "x *= 3\n",
    "print(x)"
   ]
  },
  {
   "cell_type": "markdown",
   "id": "fd205557",
   "metadata": {},
   "source": [
    "## 9. if then condition"
   ]
  },
  {
   "cell_type": "code",
   "execution_count": 39,
   "id": "6b05fe86",
   "metadata": {},
   "outputs": [
    {
     "name": "stdout",
     "output_type": "stream",
     "text": [
      "AI for traffic\n"
     ]
    }
   ],
   "source": [
    "flag = False\n",
    "name = \"AI for traffic\"\n",
    "if name == 'AI':\n",
    "    flag = True\n",
    "    print('welcome to AI')\n",
    "else:\n",
    "    print(name)"
   ]
  },
  {
   "cell_type": "markdown",
   "id": "d2d5002b",
   "metadata": {},
   "source": [
    "## 10. while loop"
   ]
  },
  {
   "cell_type": "code",
   "execution_count": 41,
   "id": "333dc1a7",
   "metadata": {},
   "outputs": [
    {
     "name": "stdout",
     "output_type": "stream",
     "text": [
      "The number is: 0\n",
      "The number is: 1\n",
      "The number is: 2\n",
      "The number is: 3\n",
      "The number is: 4\n",
      "Good JOB!\n"
     ]
    }
   ],
   "source": [
    "num = 0\n",
    "while (num < 5):\n",
    "    print('The number is:', num)\n",
    "    num = num + 1\n",
    "print(\"Good JOB!\")"
   ]
  },
  {
   "cell_type": "markdown",
   "id": "d28cc019",
   "metadata": {},
   "source": [
    "## 11. for loop"
   ]
  },
  {
   "cell_type": "code",
   "execution_count": 44,
   "id": "e129936e",
   "metadata": {},
   "outputs": [
    {
     "name": "stdout",
     "output_type": "stream",
     "text": [
      "2\n",
      "3\n",
      "4\n"
     ]
    }
   ],
   "source": [
    "for i in range(1, 4):\n",
    "    for j in range(1, 2):\n",
    "        print(i + j)"
   ]
  },
  {
   "cell_type": "markdown",
   "id": "683d3fda",
   "metadata": {},
   "source": [
    "## Homework 1.1 Python program for implementation of Bubble Sort"
   ]
  },
  {
   "cell_type": "code",
   "execution_count": null,
   "id": "22bb2d86",
   "metadata": {},
   "outputs": [],
   "source": [
    "# Python program for implementation of Bubble Sort\n",
    "\n",
    "def bubbleSort(arr):\n",
    "    n = len(arr)\n",
    "    # optimize code, so if the array is already sorted, it doesn't need\n",
    "    # to go through the entire process\n",
    "    swapped = False\n",
    "    # Traverse through all array elements\n",
    "    for i in range(n - 1):\n",
    "        # range(n) also work but outer loop will\n",
    "        # repeat one time more than needed.\n",
    "        # Last i elements are already in place\n",
    "        for j in range(0, n - i - 1):\n",
    "\n",
    "            # traverse the array from 0 to n-i-1\n",
    "            # Swap if the element found is greater\n",
    "            # than the next element\n",
    "            if arr[j] > arr[j + 1]:\n",
    "                swapped = True\n",
    "                arr[j], arr[j + 1] = arr[j + 1], arr[j]\n",
    "\n",
    "        if not swapped:\n",
    "            # if we haven't needed to make a single swap, we\n",
    "            # can just exit the main loop.\n",
    "            return\n",
    "\n",
    "\n",
    "# Driver code to test above\n",
    "arr = [5, 4, 3, 2, 1, 0, -1]\n",
    "\n",
    "bubbleSort(arr)\n",
    "\n",
    "print(\"Sorted array is:\")\n",
    "for i in range(len(arr)):\n",
    "    print(\"% d\" % arr[i], end=\" \")"
   ]
  },
  {
   "cell_type": "markdown",
   "id": "0f50129b",
   "metadata": {},
   "source": [
    "## 12. package Numpy \n",
    "matrix "
   ]
  },
  {
   "cell_type": "code",
   "execution_count": 3,
   "id": "1d848c85",
   "metadata": {},
   "outputs": [
    {
     "name": "stdout",
     "output_type": "stream",
     "text": [
      "[[1. 1.]\n",
      " [1. 1.]]\n"
     ]
    }
   ],
   "source": [
    "import numpy as np\n",
    "\n",
    "one_matrix = np.ones([2, 2])\n",
    "print(one_matrix)"
   ]
  },
  {
   "cell_type": "code",
   "execution_count": 4,
   "id": "885b4e65",
   "metadata": {},
   "outputs": [
    {
     "data": {
      "text/plain": [
       "array([[0., 0.],\n",
       "       [0., 0.]])"
      ]
     },
     "execution_count": 4,
     "metadata": {},
     "output_type": "execute_result"
    }
   ],
   "source": [
    "zero_matrix = np.zeros_like(one_matrix)\n",
    "zero_matrix"
   ]
  },
  {
   "cell_type": "code",
   "execution_count": 5,
   "id": "368bcce8",
   "metadata": {},
   "outputs": [
    {
     "name": "stdout",
     "output_type": "stream",
     "text": [
      "[[0. 0.]\n",
      " [0. 2.]]\n"
     ]
    }
   ],
   "source": [
    "zero_matrix[1, 1] = 2\n",
    "print(zero_matrix)"
   ]
  },
  {
   "cell_type": "code",
   "execution_count": 6,
   "id": "7cc10f44",
   "metadata": {},
   "outputs": [
    {
     "name": "stdout",
     "output_type": "stream",
     "text": [
      "[ 3.84670942 -4.46723048 13.02364855  0.82395016  3.06349315]\n"
     ]
    }
   ],
   "source": [
    "random_arry = np.random.normal(1, 20, 5)\n",
    "print(random_arry)"
   ]
  },
  {
   "cell_type": "markdown",
   "id": "5c61e59f",
   "metadata": {},
   "source": [
    "matrix transpose and reshape"
   ]
  },
  {
   "cell_type": "code",
   "execution_count": 7,
   "id": "33488a98",
   "metadata": {},
   "outputs": [
    {
     "data": {
      "text/plain": [
       "array([[1, 3],\n",
       "       [2, 4]])"
      ]
     },
     "execution_count": 7,
     "metadata": {},
     "output_type": "execute_result"
    }
   ],
   "source": [
    "arr = np.array([[1, 2], [3, 4]])\n",
    "arr.T  # [[1, 3],[2, 4]]"
   ]
  },
  {
   "cell_type": "code",
   "execution_count": 8,
   "id": "786a81ca",
   "metadata": {},
   "outputs": [
    {
     "data": {
      "text/plain": [
       "array([[1, 2, 3, 4]])"
      ]
     },
     "execution_count": 8,
     "metadata": {},
     "output_type": "execute_result"
    }
   ],
   "source": [
    "new_arr = arr.reshape([1, 4])\n",
    "new_arr  # [[1, 2, 3, 4]]"
   ]
  },
  {
   "cell_type": "markdown",
   "id": "1f455bf6",
   "metadata": {},
   "source": [
    "abs values"
   ]
  },
  {
   "cell_type": "code",
   "execution_count": 9,
   "id": "dc21c979",
   "metadata": {},
   "outputs": [
    {
     "name": "stdout",
     "output_type": "stream",
     "text": [
      "[1 2 3 4]\n"
     ]
    }
   ],
   "source": [
    "a = [-1, 2, -3, 4]\n",
    "print(np.abs(a))"
   ]
  },
  {
   "cell_type": "code",
   "execution_count": 10,
   "id": "292033f1",
   "metadata": {},
   "outputs": [
    {
     "name": "stdout",
     "output_type": "stream",
     "text": [
      "2.0\n"
     ]
    }
   ],
   "source": [
    "one_matrix = np.ones([2, 2])\n",
    "print(np.trace(one_matrix))"
   ]
  },
  {
   "cell_type": "code",
   "execution_count": 11,
   "id": "b469b05f",
   "metadata": {},
   "outputs": [
    {
     "data": {
      "text/plain": [
       "0.0"
      ]
     },
     "execution_count": 11,
     "metadata": {},
     "output_type": "execute_result"
    }
   ],
   "source": [
    "np.linalg.det(one_matrix)"
   ]
  },
  {
   "cell_type": "markdown",
   "id": "93beeb64",
   "metadata": {},
   "source": [
    "statistics\n"
   ]
  },
  {
   "cell_type": "code",
   "execution_count": 12,
   "id": "54c7727c",
   "metadata": {},
   "outputs": [
    {
     "name": "stdout",
     "output_type": "stream",
     "text": [
      "6\n"
     ]
    }
   ],
   "source": [
    "a = np.array([[1, 2, 3]])\n",
    "print(np.sum(a))"
   ]
  },
  {
   "cell_type": "markdown",
   "id": "d0e7d437",
   "metadata": {},
   "source": [
    "## 13. plot"
   ]
  },
  {
   "cell_type": "code",
   "execution_count": 16,
   "id": "e52f121c",
   "metadata": {},
   "outputs": [
    {
     "data": {
      "text/plain": [
       "[<matplotlib.lines.Line2D at 0x1f522841820>]"
      ]
     },
     "execution_count": 16,
     "metadata": {},
     "output_type": "execute_result"
    },
    {
     "data": {
      "image/png": "[encoded data removed]",
      "text/plain": [
       "<Figure size 720x360 with 1 Axes>"
      ]
     },
     "metadata": {
      "needs_background": "light"
     },
     "output_type": "display_data"
    }
   ],
   "source": [
    "import matplotlib.pyplot as plt\n",
    "\n",
    "\n",
    "def function_obj(x):\n",
    "    return x**2 + 20\n",
    "\n",
    "\n",
    "plt.figure(figsize=(10, 5))\n",
    "x = np.arange(-15, 15, 0.1)\n",
    "plt.xlabel('x')\n",
    "plt.ylabel('y')\n",
    "plt.title('optimize')\n",
    "plt.plot(x, function_obj(x), 'b-', label='$f(x)=x^2+20$')"
   ]
  },
  {
   "cell_type": "code",
   "execution_count": 17,
   "id": "13b7a6c4",
   "metadata": {},
   "outputs": [
    {
     "data": {
      "image/png": "[encoded data removed]",
      "text/plain": [
       "<Figure size 432x288 with 1 Axes>"
      ]
     },
     "metadata": {
      "needs_background": "light"
     },
     "output_type": "display_data"
    }
   ],
   "source": [
    "a = function_obj(0)\n",
    "plt.plot(x, function_obj(x), 'b-', label='$f(x)=x^2+20$')\n",
    "plt.annotate('min',\n",
    "             xy=(0, a),\n",
    "             xytext=(3, 20),\n",
    "             arrowprops=dict(facecolor='black', shrink=0.05))\n",
    "plt.legend()\n",
    "plt.show()"
   ]
  },
  {
   "cell_type": "markdown",
   "id": "337d638a",
   "metadata": {},
   "source": [
    "## 14. optimization"
   ]
  },
  {
   "cell_type": "code",
   "execution_count": 18,
   "id": "53996d89",
   "metadata": {},
   "outputs": [
    {
     "name": "stdout",
     "output_type": "stream",
     "text": [
      "Optimization terminated successfully.\n",
      "         Current function value: 20.000000\n",
      "         Iterations: 0\n",
      "         Function evaluations: 2\n",
      "         Gradient evaluations: 1\n"
     ]
    },
    {
     "data": {
      "text/plain": [
       "array([0])"
      ]
     },
     "execution_count": 18,
     "metadata": {},
     "output_type": "execute_result"
    }
   ],
   "source": [
    "from scipy import optimize\n",
    "import numpy as np\n",
    "\n",
    "optimize.fmin_bfgs(function_obj, 0)"
   ]
  },
  {
   "cell_type": "markdown",
   "id": "2d9df495",
   "metadata": {},
   "source": [
    "## 15. regression"
   ]
  },
  {
   "cell_type": "markdown",
   "id": "463162bb",
   "metadata": {},
   "source": [
    "https://www.w3schools.com/python/python_functions.asp "
   ]
  },
  {
   "cell_type": "code",
   "execution_count": null,
   "id": "4214fd63",
   "metadata": {},
   "outputs": [],
   "source": [
    "def func(x, m):\n",
    "    a, K, b = m\n",
    "    return a * np.sin(2 * K * np.pi * x + b)"
   ]
  },
  {
   "cell_type": "markdown",
   "id": "7eb4898d",
   "metadata": {},
   "source": [
    "m is parameter vector\n",
    "\n",
    "def error(m,x,y):\n",
    "    return y-func(x,m)\n",
    "    \n"
   ]
  },
  {
   "cell_type": "code",
   "execution_count": 65,
   "id": "d0686972",
   "metadata": {},
   "outputs": [
    {
     "name": "stdout",
     "output_type": "stream",
     "text": [
      "a= 19.88285622395582 K= 0.5004610088393348 b= 0.7736013010652957\n"
     ]
    }
   ],
   "source": [
    "def func(x, m):\n",
    "    a, K, b = m\n",
    "    return a * np.sin(2 * K * np.pi * x + b)\n",
    "\n",
    "\n",
    "def error(m, x, y):\n",
    "    return y - func(x, m)\n",
    "\n",
    "\n",
    "# error is the objective function to be minimized\n",
    "# pass parameters m\n",
    "# pass vectors x and y\n",
    "# compute the fitted values based on m and x\n",
    "# compare return vector with y, as the error values\n",
    "\n",
    "# starting point of the program\n",
    "p = [20, 0.5, np.pi / 4]  # p is a list now\n",
    "a, K, b = p  # assigh the first, second, and third element of the list p to a, K, b\n",
    "# https://stackoverflow.com/questions/31426095/assign-multiple-values-of-a-list\n",
    "x = np.linspace(0, 2 * np.pi, 1000)\n",
    "\n",
    "y = func(\n",
    "    x, [a, K, b]\n",
    ")  # now the the [a,K,b] list is packcked and passed to the func as a \"list\", which will be unpacked to a,K,b inside func()\n",
    "# add noise\n",
    "y_ = y + 2 * np.random.randn(len(x))\n",
    "\n",
    "Para = optimize.leastsq(error, p, args=(x, y_))\n",
    "# https://docs.scipy.org/doc/scipy/reference/generated/scipy.optimize.leastsq.html\n",
    "# return as parameters\n",
    "a, K, b = Para[0]\n",
    "# unpack the values to parameter a, K, b\n",
    "print('a=', a, 'K=', K, 'b=', b)"
   ]
  },
  {
   "cell_type": "markdown",
   "id": "07ef7d48",
   "metadata": {},
   "source": [
    "https://www.datatechnotes.com/2020/09/curve-fitting-with-leastsq-function-in-python.html"
   ]
  },
  {
   "cell_type": "markdown",
   "id": "a8a47b08",
   "metadata": {},
   "source": [
    "plot\n"
   ]
  },
  {
   "cell_type": "code",
   "execution_count": 66,
   "id": "f154e6cd",
   "metadata": {},
   "outputs": [
    {
     "data": {
      "image/png": "[encoded data removed]",
      "text/plain": [
       "<Figure size 1440x576 with 1 Axes>"
      ]
     },
     "metadata": {
      "needs_background": "light"
     },
     "output_type": "display_data"
    }
   ],
   "source": [
    "plt.figure(figsize=(20, 8))\n",
    "ax1 = plt.subplot()\n",
    "plt.sca(ax1)"
   ]
  },
  {
   "cell_type": "code",
   "execution_count": 67,
   "id": "19ced600",
   "metadata": {},
   "outputs": [
    {
     "data": {
      "text/plain": [
       "[<matplotlib.lines.Line2D at 0x24a12f8e100>]"
      ]
     },
     "execution_count": 67,
     "metadata": {},
     "output_type": "execute_result"
    },
    {
     "data": {
      "image/png": "[encoded data removed]",
      "text/plain": [
       "<Figure size 432x288 with 1 Axes>"
      ]
     },
     "metadata": {
      "needs_background": "light"
     },
     "output_type": "display_data"
    }
   ],
   "source": [
    "plt.scatter(x, y_, color='gray', label='Sample Points', linewidth=3)\n",
    "plt.xlabel('x')\n",
    "plt.xlabel('y')\n",
    "y = func(x, p)\n",
    "plt.plot(x, y, color='red', label='Target line', linewidth=2)"
   ]
  },
  {
   "cell_type": "code",
   "execution_count": 1,
   "id": "2953d4d3",
   "metadata": {},
   "outputs": [],
   "source": [
    "from numpy import array\n",
    "from scipy.optimize import leastsq\n",
    "import matplotlib.pyplot as plt"
   ]
  },
  {
   "cell_type": "markdown",
   "id": "d6bdef7b",
   "metadata": {},
   "source": [
    "y = array([12, 8, 11, 7, 5, 2, 3, 5, 6, 4, 5, 7, 8, 13, 19, 22, 25])\n",
    "x = array(range(len(y)))"
   ]
  },
  {
   "cell_type": "code",
   "execution_count": 2,
   "id": "45f2756b",
   "metadata": {},
   "outputs": [],
   "source": [
    "y = array([12, 8, 11, 7, 5, 2, 3, 5, 6, 4, 5, 7, 8, 13, 19, 22, 25])\n",
    "x = array(range(len(y)))"
   ]
  },
  {
   "cell_type": "code",
   "execution_count": 3,
   "id": "91293591",
   "metadata": {},
   "outputs": [
    {
     "name": "stdout",
     "output_type": "stream",
     "text": [
      "[12  8 11  7  5  2  3  5  6  4  5  7  8 13 19 22 25]\n"
     ]
    }
   ],
   "source": [
    "print(y)"
   ]
  },
  {
   "cell_type": "code",
   "execution_count": 4,
   "id": "70c86af1",
   "metadata": {},
   "outputs": [
    {
     "name": "stdout",
     "output_type": "stream",
     "text": [
      "[ 0  1  2  3  4  5  6  7  8  9 10 11 12 13 14 15 16]\n"
     ]
    }
   ],
   "source": [
    "print(x)"
   ]
  },
  {
   "cell_type": "markdown",
   "id": "c7fd7cf1",
   "metadata": {},
   "source": [
    "vector x is a set of values with initial values from 0 to k"
   ]
  },
  {
   "cell_type": "code",
   "execution_count": null,
   "id": "af355ee3",
   "metadata": {},
   "outputs": [],
   "source": [
    "def func1(params, x, y):\n",
    "    a, b, c = params[0], params[1], params[2]\n",
    "    residual = y - (a * x**2 + b * x + c)\n",
    "    return residual"
   ]
  },
  {
   "cell_type": "markdown",
   "id": "a27e66c0",
   "metadata": {},
   "source": [
    "x is vector, y is vector, residual is now a vector"
   ]
  },
  {
   "cell_type": "code",
   "execution_count": 5,
   "id": "20f6bc32",
   "metadata": {},
   "outputs": [
    {
     "name": "stdout",
     "output_type": "stream",
     "text": [
      "1\n"
     ]
    }
   ],
   "source": [
    "def func1(params, x, y):\n",
    "    a, b, c = params[0], params[1], params[2]\n",
    "    residual = y - (a * x**2 + b * x + c)\n",
    "    return residual\n",
    "\n",
    "\n",
    "params = [0, 0, 0]\n",
    "x = 1\n",
    "y = 1\n",
    "ret = func1(params, x, y)\n",
    "print(ret)"
   ]
  },
  {
   "cell_type": "markdown",
   "id": "4d0dd652",
   "metadata": {},
   "source": [
    "We define x and y as values "
   ]
  },
  {
   "cell_type": "markdown",
   "id": "2c9ab88c",
   "metadata": {},
   "source": [
    "We now define x and y as VECTORs"
   ]
  },
  {
   "cell_type": "code",
   "execution_count": 7,
   "id": "70e6494e",
   "metadata": {},
   "outputs": [
    {
     "name": "stdout",
     "output_type": "stream",
     "text": [
      "[1 2]\n"
     ]
    }
   ],
   "source": [
    "def func1(params, x, y):\n",
    "    a, b, c = params[0], params[1], params[2]\n",
    "    residual = y - (a * x**2 + b * x + c)\n",
    "    return residual\n",
    "\n",
    "\n",
    "params = [0, 0, 0]\n",
    "x = array([0, 0])\n",
    "y = array([1, 2])\n",
    "ret = func1(params, x, y)\n",
    "print(ret)"
   ]
  },
  {
   "cell_type": "code",
   "execution_count": 8,
   "id": "abfdc574",
   "metadata": {},
   "outputs": [
    {
     "name": "stdout",
     "output_type": "stream",
     "text": [
      "[12  8 11  7  5  2  3  5  6  4  5  7  8 13 19 22 25]\n"
     ]
    }
   ],
   "source": [
    "def func1(params, x, y):\n",
    "    a, b, c = params[0], params[1], params[2]\n",
    "    residual = y - (a * x**2 + b * x + c)\n",
    "    return residual\n",
    "\n",
    "\n",
    "params = [0, 0, 0]\n",
    "y = array([12, 8, 11, 7, 5, 2, 3, 5, 6, 4, 5, 7, 8, 13, 19, 22, 25])\n",
    "x = array(range(len(y)))\n",
    "ret = func1(params, x, y)\n",
    "print(ret)"
   ]
  },
  {
   "cell_type": "markdown",
   "id": "7c4a2790",
   "metadata": {},
   "source": [
    "Finally, we'll visualize the results in a plot to check the deference visually."
   ]
  },
  {
   "cell_type": "code",
   "execution_count": 9,
   "id": "bf7c450b",
   "metadata": {},
   "outputs": [
    {
     "name": "stdout",
     "output_type": "stream",
     "text": [
      "[13.04850363 10.20923634  7.84984521  5.97033024  4.57069143  3.65092879\n",
      "  3.2110423   3.25103198  3.77089782  4.77063983  6.25025799  8.20975232\n",
      " 10.6491228  13.56836945 16.96749226 20.84649124 25.20536637]\n"
     ]
    }
   ],
   "source": [
    "result = leastsq(func1, params, (x, y))\n",
    "a, b, c = result[0][0], result[0][1], result[0][2]\n",
    "yfit1 = a * x**2 + b * x + c\n",
    "print(yfit1)"
   ]
  },
  {
   "cell_type": "code",
   "execution_count": 10,
   "id": "0daa59fa",
   "metadata": {},
   "outputs": [
    {
     "data": {
      "image/png": "[encoded data removed]",
      "text/plain": [
       "<Figure size 432x288 with 1 Axes>"
      ]
     },
     "metadata": {
      "needs_background": "light"
     },
     "output_type": "display_data"
    }
   ],
   "source": [
    "plt.plot(x, y, 'bo', label=\"y-original\")\n",
    "plt.plot(x, yfit1, color=\"red\", label=\"y=ax^2+bx+c\")\n",
    "plt.xlabel('x')\n",
    "plt.ylabel('y')\n",
    "plt.legend(loc='best', fancybox=True, shadow=True)\n",
    "plt.grid(True)\n",
    "plt.show()"
   ]
  },
  {
   "cell_type": "code",
   "execution_count": 12,
   "id": "b95577b2",
   "metadata": {},
   "outputs": [
    {
     "name": "stdout",
     "output_type": "stream",
     "text": [
      "[0.         0.00628947 0.01257895 0.01886842 0.0251579  0.03144737\n",
      " 0.03773685 0.04402632 0.0503158  0.05660527 0.06289475 0.06918422\n",
      " 0.0754737  0.08176317 0.08805265 0.09434212 0.1006316  0.10692107\n",
      " 0.11321055 0.11950002 0.1257895  0.13207897 0.13836845 0.14465792\n",
      " 0.15094739 0.15723687 0.16352634 0.16981582 0.17610529 0.18239477\n",
      " 0.18868424 0.19497372 0.20126319 0.20755267 0.21384214 0.22013162\n",
      " 0.22642109 0.23271057 0.23900004 0.24528952 0.25157899 0.25786847\n",
      " 0.26415794 0.27044742 0.27673689 0.28302637 0.28931584 0.29560531\n",
      " 0.30189479 0.30818426 0.31447374 0.32076321 0.32705269 0.33334216\n",
      " 0.33963164 0.34592111 0.35221059 0.35850006 0.36478954 0.37107901\n",
      " 0.37736849 0.38365796 0.38994744 0.39623691 0.40252639 0.40881586\n",
      " 0.41510534 0.42139481 0.42768429 0.43397376 0.44026323 0.44655271\n",
      " 0.45284218 0.45913166 0.46542113 0.47171061 0.47800008 0.48428956\n",
      " 0.49057903 0.49686851 0.50315798 0.50944746 0.51573693 0.52202641\n",
      " 0.52831588 0.53460536 0.54089483 0.54718431 0.55347378 0.55976326\n",
      " 0.56605273 0.57234221 0.57863168 0.58492115 0.59121063 0.5975001\n",
      " 0.60378958 0.61007905 0.61636853 0.622658   0.62894748 0.63523695\n",
      " 0.64152643 0.6478159  0.65410538 0.66039485 0.66668433 0.6729738\n",
      " 0.67926328 0.68555275 0.69184223 0.6981317  0.70442118 0.71071065\n",
      " 0.71700013 0.7232896  0.72957907 0.73586855 0.74215802 0.7484475\n",
      " 0.75473697 0.76102645 0.76731592 0.7736054  0.77989487 0.78618435\n",
      " 0.79247382 0.7987633  0.80505277 0.81134225 0.81763172 0.8239212\n",
      " 0.83021067 0.83650015 0.84278962 0.8490791  0.85536857 0.86165805\n",
      " 0.86794752 0.87423699 0.88052647 0.88681594 0.89310542 0.89939489\n",
      " 0.90568437 0.91197384 0.91826332 0.92455279 0.93084227 0.93713174\n",
      " 0.94342122 0.94971069 0.95600017 0.96228964 0.96857912 0.97486859\n",
      " 0.98115807 0.98744754 0.99373702 1.00002649 1.00631597 1.01260544\n",
      " 1.01889491 1.02518439 1.03147386 1.03776334 1.04405281 1.05034229\n",
      " 1.05663176 1.06292124 1.06921071 1.07550019 1.08178966 1.08807914\n",
      " 1.09436861 1.10065809 1.10694756 1.11323704 1.11952651 1.12581599\n",
      " 1.13210546 1.13839494 1.14468441 1.15097389 1.15726336 1.16355283\n",
      " 1.16984231 1.17613178 1.18242126 1.18871073 1.19500021 1.20128968\n",
      " 1.20757916 1.21386863 1.22015811 1.22644758 1.23273706 1.23902653\n",
      " 1.24531601 1.25160548 1.25789496 1.26418443 1.27047391 1.27676338\n",
      " 1.28305286 1.28934233 1.29563181 1.30192128 1.30821075 1.31450023\n",
      " 1.3207897  1.32707918 1.33336865 1.33965813 1.3459476  1.35223708\n",
      " 1.35852655 1.36481603 1.3711055  1.37739498 1.38368445 1.38997393\n",
      " 1.3962634  1.40255288 1.40884235 1.41513183 1.4214213  1.42771078\n",
      " 1.43400025 1.44028973 1.4465792  1.45286867 1.45915815 1.46544762\n",
      " 1.4717371  1.47802657 1.48431605 1.49060552 1.496895   1.50318447\n",
      " 1.50947395 1.51576342 1.5220529  1.52834237 1.53463185 1.54092132\n",
      " 1.5472108  1.55350027 1.55978975 1.56607922 1.5723687  1.57865817\n",
      " 1.58494765 1.59123712 1.59752659 1.60381607 1.61010554 1.61639502\n",
      " 1.62268449 1.62897397 1.63526344 1.64155292 1.64784239 1.65413187\n",
      " 1.66042134 1.66671082 1.67300029 1.67928977 1.68557924 1.69186872\n",
      " 1.69815819 1.70444767 1.71073714 1.71702662 1.72331609 1.72960557\n",
      " 1.73589504 1.74218451 1.74847399 1.75476346 1.76105294 1.76734241\n",
      " 1.77363189 1.77992136 1.78621084 1.79250031 1.79878979 1.80507926\n",
      " 1.81136874 1.81765821 1.82394769 1.83023716 1.83652664 1.84281611\n",
      " 1.84910559 1.85539506 1.86168454 1.86797401 1.87426349 1.88055296\n",
      " 1.88684243 1.89313191 1.89942138 1.90571086 1.91200033 1.91828981\n",
      " 1.92457928 1.93086876 1.93715823 1.94344771 1.94973718 1.95602666\n",
      " 1.96231613 1.96860561 1.97489508 1.98118456 1.98747403 1.99376351\n",
      " 2.00005298 2.00634246 2.01263193 2.01892141 2.02521088 2.03150035\n",
      " 2.03778983 2.0440793  2.05036878 2.05665825 2.06294773 2.0692372\n",
      " 2.07552668 2.08181615 2.08810563 2.0943951  2.10068458 2.10697405\n",
      " 2.11326353 2.119553   2.12584248 2.13213195 2.13842143 2.1447109\n",
      " 2.15100038 2.15728985 2.16357932 2.1698688  2.17615827 2.18244775\n",
      " 2.18873722 2.1950267  2.20131617 2.20760565 2.21389512 2.2201846\n",
      " 2.22647407 2.23276355 2.23905302 2.2453425  2.25163197 2.25792145\n",
      " 2.26421092 2.2705004  2.27678987 2.28307935 2.28936882 2.2956583\n",
      " 2.30194777 2.30823724 2.31452672 2.32081619 2.32710567 2.33339514\n",
      " 2.33968462 2.34597409 2.35226357 2.35855304 2.36484252 2.37113199\n",
      " 2.37742147 2.38371094 2.39000042 2.39628989 2.40257937 2.40886884\n",
      " 2.41515832 2.42144779 2.42773727 2.43402674 2.44031622 2.44660569\n",
      " 2.45289516 2.45918464 2.46547411 2.47176359 2.47805306 2.48434254\n",
      " 2.49063201 2.49692149 2.50321096 2.50950044 2.51578991 2.52207939\n",
      " 2.52836886 2.53465834 2.54094781 2.54723729 2.55352676 2.55981624\n",
      " 2.56610571 2.57239519 2.57868466 2.58497414 2.59126361 2.59755308\n",
      " 2.60384256 2.61013203 2.61642151 2.62271098 2.62900046 2.63528993\n",
      " 2.64157941 2.64786888 2.65415836 2.66044783 2.66673731 2.67302678\n",
      " 2.67931626 2.68560573 2.69189521 2.69818468 2.70447416 2.71076363\n",
      " 2.71705311 2.72334258 2.72963206 2.73592153 2.742211   2.74850048\n",
      " 2.75478995 2.76107943 2.7673689  2.77365838 2.77994785 2.78623733\n",
      " 2.7925268  2.79881628 2.80510575 2.81139523 2.8176847  2.82397418\n",
      " 2.83026365 2.83655313 2.8428426  2.84913208 2.85542155 2.86171103\n",
      " 2.8680005  2.87428998 2.88057945 2.88686892 2.8931584  2.89944787\n",
      " 2.90573735 2.91202682 2.9183163  2.92460577 2.93089525 2.93718472\n",
      " 2.9434742  2.94976367 2.95605315 2.96234262 2.9686321  2.97492157\n",
      " 2.98121105 2.98750052 2.99379    3.00007947 3.00636895 3.01265842\n",
      " 3.0189479  3.02523737 3.03152684 3.03781632 3.04410579 3.05039527\n",
      " 3.05668474 3.06297422 3.06926369 3.07555317 3.08184264 3.08813212\n",
      " 3.09442159 3.10071107 3.10700054 3.11329002 3.11957949 3.12586897\n",
      " 3.13215844 3.13844792 3.14473739 3.15102687 3.15731634 3.16360582\n",
      " 3.16989529 3.17618476 3.18247424 3.18876371 3.19505319 3.20134266\n",
      " 3.20763214 3.21392161 3.22021109 3.22650056 3.23279004 3.23907951\n",
      " 3.24536899 3.25165846 3.25794794 3.26423741 3.27052689 3.27681636\n",
      " 3.28310584 3.28939531 3.29568479 3.30197426 3.30826374 3.31455321\n",
      " 3.32084268 3.32713216 3.33342163 3.33971111 3.34600058 3.35229006\n",
      " 3.35857953 3.36486901 3.37115848 3.37744796 3.38373743 3.39002691\n",
      " 3.39631638 3.40260586 3.40889533 3.41518481 3.42147428 3.42776376\n",
      " 3.43405323 3.44034271 3.44663218 3.45292166 3.45921113 3.4655006\n",
      " 3.47179008 3.47807955 3.48436903 3.4906585  3.49694798 3.50323745\n",
      " 3.50952693 3.5158164  3.52210588 3.52839535 3.53468483 3.5409743\n",
      " 3.54726378 3.55355325 3.55984273 3.5661322  3.57242168 3.57871115\n",
      " 3.58500063 3.5912901  3.59757958 3.60386905 3.61015852 3.616448\n",
      " 3.62273747 3.62902695 3.63531642 3.6416059  3.64789537 3.65418485\n",
      " 3.66047432 3.6667638  3.67305327 3.67934275 3.68563222 3.6919217\n",
      " 3.69821117 3.70450065 3.71079012 3.7170796  3.72336907 3.72965855\n",
      " 3.73594802 3.7422375  3.74852697 3.75481644 3.76110592 3.76739539\n",
      " 3.77368487 3.77997434 3.78626382 3.79255329 3.79884277 3.80513224\n",
      " 3.81142172 3.81771119 3.82400067 3.83029014 3.83657962 3.84286909\n",
      " 3.84915857 3.85544804 3.86173752 3.86802699 3.87431647 3.88060594\n",
      " 3.88689542 3.89318489 3.89947436 3.90576384 3.91205331 3.91834279\n",
      " 3.92463226 3.93092174 3.93721121 3.94350069 3.94979016 3.95607964\n",
      " 3.96236911 3.96865859 3.97494806 3.98123754 3.98752701 3.99381649\n",
      " 4.00010596 4.00639544 4.01268491 4.01897439 4.02526386 4.03155334\n",
      " 4.03784281 4.04413228 4.05042176 4.05671123 4.06300071 4.06929018\n",
      " 4.07557966 4.08186913 4.08815861 4.09444808 4.10073756 4.10702703\n",
      " 4.11331651 4.11960598 4.12589546 4.13218493 4.13847441 4.14476388\n",
      " 4.15105336 4.15734283 4.16363231 4.16992178 4.17621126 4.18250073\n",
      " 4.1887902  4.19507968 4.20136915 4.20765863 4.2139481  4.22023758\n",
      " 4.22652705 4.23281653 4.239106   4.24539548 4.25168495 4.25797443\n",
      " 4.2642639  4.27055338 4.27684285 4.28313233 4.2894218  4.29571128\n",
      " 4.30200075 4.30829023 4.3145797  4.32086918 4.32715865 4.33344812\n",
      " 4.3397376  4.34602707 4.35231655 4.35860602 4.3648955  4.37118497\n",
      " 4.37747445 4.38376392 4.3900534  4.39634287 4.40263235 4.40892182\n",
      " 4.4152113  4.42150077 4.42779025 4.43407972 4.4403692  4.44665867\n",
      " 4.45294815 4.45923762 4.4655271  4.47181657 4.47810604 4.48439552\n",
      " 4.49068499 4.49697447 4.50326394 4.50955342 4.51584289 4.52213237\n",
      " 4.52842184 4.53471132 4.54100079 4.54729027 4.55357974 4.55986922\n",
      " 4.56615869 4.57244817 4.57873764 4.58502712 4.59131659 4.59760607\n",
      " 4.60389554 4.61018502 4.61647449 4.62276396 4.62905344 4.63534291\n",
      " 4.64163239 4.64792186 4.65421134 4.66050081 4.66679029 4.67307976\n",
      " 4.67936924 4.68565871 4.69194819 4.69823766 4.70452714 4.71081661\n",
      " 4.71710609 4.72339556 4.72968504 4.73597451 4.74226399 4.74855346\n",
      " 4.75484294 4.76113241 4.76742188 4.77371136 4.78000083 4.78629031\n",
      " 4.79257978 4.79886926 4.80515873 4.81144821 4.81773768 4.82402716\n",
      " 4.83031663 4.83660611 4.84289558 4.84918506 4.85547453 4.86176401\n",
      " 4.86805348 4.87434296 4.88063243 4.88692191 4.89321138 4.89950086\n",
      " 4.90579033 4.9120798  4.91836928 4.92465875 4.93094823 4.9372377\n",
      " 4.94352718 4.94981665 4.95610613 4.9623956  4.96868508 4.97497455\n",
      " 4.98126403 4.9875535  4.99384298 5.00013245 5.00642193 5.0127114\n",
      " 5.01900088 5.02529035 5.03157983 5.0378693  5.04415878 5.05044825\n",
      " 5.05673772 5.0630272  5.06931667 5.07560615 5.08189562 5.0881851\n",
      " 5.09447457 5.10076405 5.10705352 5.113343   5.11963247 5.12592195\n",
      " 5.13221142 5.1385009  5.14479037 5.15107985 5.15736932 5.1636588\n",
      " 5.16994827 5.17623775 5.18252722 5.1888167  5.19510617 5.20139564\n",
      " 5.20768512 5.21397459 5.22026407 5.22655354 5.23284302 5.23913249\n",
      " 5.24542197 5.25171144 5.25800092 5.26429039 5.27057987 5.27686934\n",
      " 5.28315882 5.28944829 5.29573777 5.30202724 5.30831672 5.31460619\n",
      " 5.32089567 5.32718514 5.33347462 5.33976409 5.34605356 5.35234304\n",
      " 5.35863251 5.36492199 5.37121146 5.37750094 5.38379041 5.39007989\n",
      " 5.39636936 5.40265884 5.40894831 5.41523779 5.42152726 5.42781674\n",
      " 5.43410621 5.44039569 5.44668516 5.45297464 5.45926411 5.46555359\n",
      " 5.47184306 5.47813254 5.48442201 5.49071148 5.49700096 5.50329043\n",
      " 5.50957991 5.51586938 5.52215886 5.52844833 5.53473781 5.54102728\n",
      " 5.54731676 5.55360623 5.55989571 5.56618518 5.57247466 5.57876413\n",
      " 5.58505361 5.59134308 5.59763256 5.60392203 5.61021151 5.61650098\n",
      " 5.62279046 5.62907993 5.6353694  5.64165888 5.64794835 5.65423783\n",
      " 5.6605273  5.66681678 5.67310625 5.67939573 5.6856852  5.69197468\n",
      " 5.69826415 5.70455363 5.7108431  5.71713258 5.72342205 5.72971153\n",
      " 5.736001   5.74229048 5.74857995 5.75486943 5.7611589  5.76744838\n",
      " 5.77373785 5.78002732 5.7863168  5.79260627 5.79889575 5.80518522\n",
      " 5.8114747  5.81776417 5.82405365 5.83034312 5.8366326  5.84292207\n",
      " 5.84921155 5.85550102 5.8617905  5.86807997 5.87436945 5.88065892\n",
      " 5.8869484  5.89323787 5.89952735 5.90581682 5.9121063  5.91839577\n",
      " 5.92468524 5.93097472 5.93726419 5.94355367 5.94984314 5.95613262\n",
      " 5.96242209 5.96871157 5.97500104 5.98129052 5.98757999 5.99386947\n",
      " 6.00015894 6.00644842 6.01273789 6.01902737 6.02531684 6.03160632\n",
      " 6.03789579 6.04418527 6.05047474 6.05676422 6.06305369 6.06934316\n",
      " 6.07563264 6.08192211 6.08821159 6.09450106 6.10079054 6.10708001\n",
      " 6.11336949 6.11965896 6.12594844 6.13223791 6.13852739 6.14481686\n",
      " 6.15110634 6.15739581 6.16368529 6.16997476 6.17626424 6.18255371\n",
      " 6.18884319 6.19513266 6.20142214 6.20771161 6.21400108 6.22029056\n",
      " 6.22658003 6.23286951 6.23915898 6.24544846 6.25173793 6.25802741\n",
      " 6.26431688 6.27060636 6.27689583 6.28318531]\n"
     ]
    }
   ],
   "source": [
    "from scipy import optimize\n",
    "import numpy as np\n",
    "\n",
    "\n",
    "def func(x, m):\n",
    "    a, K, b = m\n",
    "    return a * np.sin(2 * K * np.pi * x + b)\n",
    "\n",
    "\n",
    "def error(m, x, y):\n",
    "    return y - func(x, m)\n",
    "\n",
    "\n",
    "# error is the objective function to be minimized\n",
    "# pass parameters m\n",
    "# pass vectors x and y\n",
    "# compute the fitted values based on m and x\n",
    "# compare return vector with y, as the error values\n",
    "\n",
    "# starting point of the program\n",
    "p = [20, 0.5, np.pi / 4]  # p is a list now\n",
    "a, K, b = p  # assigh the first, second, and third element of the list p to a, K, b\n",
    "# https://stackoverflow.com/questions/31426095/assign-multiple-values-of-a-list\n",
    "x = np.linspace(0, 2 * np.pi, 1000)\n",
    "print(x)"
   ]
  },
  {
   "cell_type": "code",
   "execution_count": null,
   "id": "48bacab0",
   "metadata": {},
   "outputs": [],
   "source": [
    "y = func(\n",
    "    x, [a, K, b]\n",
    ")  # now the the [a,K,b] list is packcked and passed to the func as a \"list\", which will be unpacked to a,K,b inside func()\n",
    "# add noise\n",
    "y_ = y + 2 * np.random.randn(len(x))\n",
    "\n",
    "Para = optimize.leastsq(error, p, args=(x, y_))\n",
    "# https://docs.scipy.org/doc/scipy/reference/generated/scipy.optimize.leastsq.html\n",
    "# return as parameters\n",
    "a, K, b = Para[0]\n",
    "# unpack the values to parameter a, K, b\n",
    "print('a=', a, 'K=', K, 'b=', b)"
   ]
  }
 ],
 "metadata": {
  "kernelspec": {
   "display_name": "Python 3",
   "language": "python",
   "name": "python3"
  },
  "language_info": {
   "codemirror_mode": {
    "name": "ipython",
    "version": 3
   },
   "file_extension": ".py",
   "mimetype": "text/x-python",
   "name": "python",
   "nbconvert_exporter": "python",
   "pygments_lexer": "ipython3",
   "version": "3.8.8"
  }
 },
 "nbformat": 4,
 "nbformat_minor": 5
}
