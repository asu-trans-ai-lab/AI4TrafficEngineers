{
  "cells": [
    {
      "cell_type": "markdown",
      "metadata": {
        "colab_type": "text",
        "id": "view-in-github"
      },
      "source": [
        "<a href=\"https://colab.research.google.com/github/asu-trans-ai-lab/AI_traffic_flow/blob/main/1A_Tic_Tac_Toe.ipynb\" target=\"_parent\"><img src=\"https://colab.research.google.com/assets/colab-badge.svg\" alt=\"Open In Colab\"/></a>"
      ]
    },
    {
      "cell_type": "code",
      "execution_count": null,
      "metadata": {
        "colab": {
          "base_uri": "https://localhost:8080/"
        },
        "id": "j1tVeiWlD9Qk",
        "outputId": "01a5372f-da6a-48ac-e716-6fbb487d5559"
      },
      "outputs": [],
      "source": [
        "%pip install pulp"
      ]
    },
    {
      "cell_type": "code",
      "execution_count": 15,
      "metadata": {
        "colab": {
          "base_uri": "https://localhost:8080/"
        },
        "id": "ki83oDr8EDLm",
        "outputId": "36536b01-2bf2-4a02-8e25-ef849eb3a46a"
      },
      "outputs": [
        {
          "name": "stdout",
          "output_type": "stream",
          "text": [
            "x_11 = 1.0\n",
            "x_12 = 0.0\n",
            "x_13 = 0.0\n",
            "Status: Optimal\n"
          ]
        }
      ],
      "source": [
        "import pulp\n",
        "\n",
        "# Create a new LP problem\n",
        "model = pulp.LpProblem(\"Tic-Tac-Toe\", pulp.LpMaximize)\n",
        "\n",
        "# Defining the variables (for simplicity, we consider only a few cells and one turn)\n",
        "x_11 = pulp.LpVariable('x_11', cat='Binary')\n",
        "x_12 = pulp.LpVariable('x_12', cat='Binary')\n",
        "x_13 = pulp.LpVariable('x_13', cat='Binary')\n",
        "\n",
        "# Define the current state of the board (for example, let's assume these are already filled)\n",
        "# In a real scenario, these would be parameters, not variables\n",
        "o_11 = 0  # Cell (1,1) is empty\n",
        "o_12 = 1  # Cell (1,2) is filled by O\n",
        "o_13 = 0  # Cell (1,3) is empty\n",
        "\n",
        "# Objective Function\n",
        "# For simplicity, we'll assume Player X wants to maximize their presence on the board\n",
        "model += x_11 + x_12 + x_13\n",
        "\n",
        "# Constraints\n",
        "# For this example, let's add a simple constraint that only one cell can be marked by X\n",
        "model += x_11 + x_12 + x_13 <= 1\n",
        "\n",
        "# Existing state constraints (these cells are already filled by O, so X can't mark them)\n",
        "model += x_12 == 0\n",
        "\n",
        "# Solve the model\n",
        "model.solve()\n",
        "\n",
        "# Output the results\n",
        "for v in model.variables():\n",
        "    print(v.name, \"=\", v.varValue)\n",
        "\n",
        "print(\"Status:\", pulp.LpStatus[model.status])\n"
      ]
    },
    {
      "cell_type": "markdown",
      "metadata": {
        "id": "mrQJrSyZEqdL"
      },
      "source": [
        "Updated Python Code with Time Index and Opponent Variables:"
      ]
    },
    {
      "cell_type": "code",
      "execution_count": 47,
      "metadata": {
        "colab": {
          "base_uri": "https://localhost:8080/"
        },
        "id": "mLr_ga0wEqRH",
        "outputId": "8fe2e2b1-cf85-42b7-b35a-007da5544235"
      },
      "outputs": [
        {
          "name": "stdout",
          "output_type": "stream",
          "text": [
            "Turn 1:\n",
            "Cell (1, 1): X = 1.0, O = 0.0\n",
            "Cell (1, 2): X = 0.0, O = 0.0\n",
            "Cell (1, 3): X = 0.0, O = 0.0\n",
            "Cell (2, 1): X = 0.0, O = 0.0\n",
            "Cell (2, 2): X = 0.0, O = 1.0\n",
            "Cell (2, 3): X = 0.0, O = 0.0\n",
            "Cell (3, 1): X = 0.0, O = 0.0\n",
            "Cell (3, 2): X = 0.0, O = 0.0\n",
            "Cell (3, 3): X = 0.0, O = 0.0\n",
            "\n",
            "Turn 2:\n",
            "Cell (1, 1): X = 1.0, O = 0.0\n",
            "Cell (1, 2): X = 0.0, O = 0.0\n",
            "Cell (1, 3): X = 1.0, O = 0.0\n",
            "Cell (2, 1): X = 0.0, O = 1.0\n",
            "Cell (2, 2): X = 0.0, O = 1.0\n",
            "Cell (2, 3): X = 0.0, O = 0.0\n",
            "Cell (3, 1): X = 0.0, O = 0.0\n",
            "Cell (3, 2): X = 0.0, O = 0.0\n",
            "Cell (3, 3): X = 0.0, O = 0.0\n",
            "\n",
            "Turn 3:\n",
            "Cell (1, 1): X = 1.0, O = 0.0\n",
            "Cell (1, 2): X = 1.0, O = 0.0\n",
            "Cell (1, 3): X = 1.0, O = 0.0\n",
            "Cell (2, 1): X = 0.0, O = 1.0\n",
            "Cell (2, 2): X = 0.0, O = 1.0\n",
            "Cell (2, 3): X = 0.0, O = 0.0\n",
            "Cell (3, 1): X = 0.0, O = 0.0\n",
            "Cell (3, 2): X = 0.0, O = 0.0\n",
            "Cell (3, 3): X = 0.0, O = 1.0\n",
            "\n",
            "Turn 4:\n",
            "Cell (1, 1): X = 1.0, O = 0.0\n",
            "Cell (1, 2): X = 1.0, O = 0.0\n",
            "Cell (1, 3): X = 1.0, O = 0.0\n",
            "Cell (2, 1): X = 0.0, O = 1.0\n",
            "Cell (2, 2): X = 0.0, O = 1.0\n",
            "Cell (2, 3): X = 0.0, O = 1.0\n",
            "Cell (3, 1): X = 0.0, O = 0.0\n",
            "Cell (3, 2): X = 1.0, O = 0.0\n",
            "Cell (3, 3): X = 0.0, O = 1.0\n",
            "\n",
            "Turn 5:\n",
            "Cell (1, 1): X = 1.0, O = 0.0\n",
            "Cell (1, 2): X = 1.0, O = 0.0\n",
            "Cell (1, 3): X = 1.0, O = 0.0\n",
            "Cell (2, 1): X = 0.0, O = 1.0\n",
            "Cell (2, 2): X = 0.0, O = 1.0\n",
            "Cell (2, 3): X = 0.0, O = 1.0\n",
            "Cell (3, 1): X = 1.0, O = 0.0\n",
            "Cell (3, 2): X = 1.0, O = 0.0\n",
            "Cell (3, 3): X = 0.0, O = 1.0\n",
            "\n",
            "Status: Optimal\n"
          ]
        }
      ],
      "source": [
        "import pulp\n",
        "\n",
        "# Time steps\n",
        "T = 5  # For example, we are looking at the 5th move\n",
        "\n",
        "# Create a new LP problem\n",
        "model = pulp.LpProblem(\"Tic-Tac-Toe-Time-Indexed\", pulp.LpMaximize)\n",
        "\n",
        "# Defining the variables with time index for both players X and O\n",
        "x = pulp.LpVariable.dicts(\"x\", [(i, j, t) for i in range(1, 4) for j in range(1, 4) for t in range(1, T + 1)], cat='Binary')\n",
        "o = pulp.LpVariable.dicts(\"o\", [(i, j, t) for i in range(1, 4) for j in range(1, 4) for t in range(1, T + 1)], cat='Binary')\n",
        "\n",
        "# Example current state at t-1 (turn 4)\n",
        "# Let's assume some cells are already marked by X and O\n",
        "# These would typically come from the actual game state\n",
        "current_state = {\n",
        "    (1, 1, 1): 1, (1, 2, 1): 0, (1, 3, 1): 0,\n",
        "    (2, 1, 1): 0, (2, 2, 1): 1, (2, 3, 1): 0,\n",
        "    (3, 1, 1): 0, (3, 2, 1): 0, (3, 3, 1): 0,\n",
        "    # ... continue for each cell and time up to t-1\n",
        "}\n",
        "\n",
        "# In each time step, each player will mark 1 cell.\n",
        "# So before we apply the state, we assume first marked cell belongs to playerX, the other one belongs to playerO.\n",
        "\n",
        "# Initialize counters for each player\n",
        "x_count = 0\n",
        "o_count = 0\n",
        "\n",
        "# Applying the current state to our variables\n",
        "for cell, marked in current_state.items():\n",
        "    if marked:\n",
        "        # If the cell is marked, assign it to the corresponding player's variable\n",
        "        if x_count <= o_count:\n",
        "            model += x[cell] == 1\n",
        "            model += o[cell] == 0\n",
        "            x_count += 1\n",
        "        else:\n",
        "            model += x[cell] == 0\n",
        "            model += o[cell] == 1\n",
        "            o_count += 1\n",
        "\n",
        "# Constraints\n",
        "# (1) Ensure each cell's occupation at time t is consistent with time t-1\n",
        "for t in range(2, T + 1):  \n",
        "    for i in range(1, 4):\n",
        "        for j in range(1, 4):\n",
        "            # If the cell is already occupied at time t-1, then it should be occupied by the same player at time t\n",
        "            model += x[i, j, t] >= x[i, j, t-1]\n",
        "            model += o[i, j, t] >= o[i, j, t-1]\n",
        "\n",
        "# (2) The total amount of marked cells should be constrained\n",
        "for t in range(1, T + 1):\n",
        "    if t<T: # In 1st~4th turn, each player will mark 4 cells. \n",
        "        model += pulp.lpSum([x[i, j, t] for i in range(1, 4) for j in range(1, 4)]) == t\n",
        "        model += pulp.lpSum([o[i, j, t] for i in range(1, 4) for j in range(1, 4)]) == t\n",
        "    else:   # In 5th turn, only Player X can mark 1 cell, because only 1 cell remains.\n",
        "        model += pulp.lpSum([x[i, j, t] for i in range(1, 4) for j in range(1, 4)]) == T\n",
        "        model += pulp.lpSum([o[i, j, t] for i in range(1, 4) for j in range(1, 4)]) == T-1\n",
        "\n",
        "# (3) Each cell can be only marked once\n",
        "for t in range(1, T + 1):  \n",
        "    for i in range(1, 4):\n",
        "        for j in range(1, 4):\n",
        "            model += x[i, j, t] + o[i, j, t]<=1\n",
        "\n",
        "# Objective Function\n",
        "# Assuming Player X wants to maximize their presence on the board at time T\n",
        "model += pulp.lpSum([x[i, j, T] for i in range(1, 4) for j in range(1, 4)])\n",
        "\n",
        "# Solve the model\n",
        "model.solve()\n",
        "\n",
        "# Output the results\n",
        "for t in range(1, T + 1):\n",
        "    print(f\"Turn {t}:\")\n",
        "    for i in range(1, 4):\n",
        "        for j in range(1, 4):\n",
        "            print(f\"Cell ({i}, {j}): X = {x[i, j, t].varValue}, O = {o[i, j, t].varValue}\")\n",
        "    print(\"\")\n",
        "\n",
        "print(\"Status:\", pulp.LpStatus[model.status])\n"
      ]
    }
  ],
  "metadata": {
    "colab": {
      "authorship_tag": "ABX9TyNznUx/mfKmn4nYvflhit9o",
      "include_colab_link": true,
      "provenance": []
    },
    "kernelspec": {
      "display_name": "Python 3",
      "name": "python3"
    },
    "language_info": {
      "codemirror_mode": {
        "name": "ipython",
        "version": 3
      },
      "file_extension": ".py",
      "mimetype": "text/x-python",
      "name": "python",
      "nbconvert_exporter": "python",
      "pygments_lexer": "ipython3",
      "version": "3.9.13"
    }
  },
  "nbformat": 4,
  "nbformat_minor": 0
}
