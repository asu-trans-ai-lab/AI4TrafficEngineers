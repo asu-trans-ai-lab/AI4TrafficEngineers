{
 "cells": [
  {
   "cell_type": "code",
   "execution_count": 4,
   "id": "8d889652",
   "metadata": {},
   "outputs": [],
   "source": [
    "import numpy as np\n",
    "import matplotlib.pyplot as plt"
   ]
  },
  {
   "cell_type": "code",
   "execution_count": null,
   "id": "6ac762fa",
   "metadata": {},
   "outputs": [],
   "source": []
  },
  {
   "cell_type": "markdown",
   "id": "74d2a0b6",
   "metadata": {},
   "source": [
    "References http://benalexkeen.com/linear-programming-with-python-and-pulp-part-1/"
   ]
  },
  {
   "cell_type": "code",
   "execution_count": null,
   "id": "27d9e7d1",
   "metadata": {},
   "outputs": [],
   "source": []
  },
  {
   "cell_type": "code",
   "execution_count": 15,
   "id": "6039a369",
   "metadata": {},
   "outputs": [
    {
     "data": {
      "text/plain": [
       "[<matplotlib.lines.Line2D at 0x190602d2730>]"
      ]
     },
     "execution_count": 15,
     "metadata": {},
     "output_type": "execute_result"
    },
    {
     "data": {
      "image/png": "[encoded data removed]",
      "text/plain": [
       "<Figure size 432x288 with 1 Axes>"
      ]
     },
     "metadata": {
      "needs_background": "light"
     },
     "output_type": "display_data"
    }
   ],
   "source": [
    "# Construct lines\n",
    "# x > 0\n",
    "x = np.linspace(0, 10, 100)\n",
    "#y0= 0\n",
    "y1= 6-x\n",
    "y2= (9-x)/2.0\n",
    "y3 = (16-3*x)/2.0\n",
    "\n",
    "# Make plot\n",
    "#plt.plot(x, y0)\n",
    "plt.plot(x, y1, label=r'$y\\geq2')\n",
    "plt.plot(x, y2, label=r'$2y\\leq25-x')\n",
    "plt.plot(x, y3, label=r'$4y\\geq 2x - 8')\n",
    "\n"
   ]
  },
  {
   "cell_type": "code",
   "execution_count": 10,
   "id": "87c3b6cf",
   "metadata": {},
   "outputs": [
    {
     "name": "stderr",
     "output_type": "stream",
     "text": [
      "No handles with labels found to put in legend.\n"
     ]
    },
    {
     "data": {
      "text/plain": [
       "<matplotlib.legend.Legend at 0x27bb507b4c0>"
      ]
     },
     "execution_count": 10,
     "metadata": {},
     "output_type": "execute_result"
    },
    {
     "data": {
      "image/png": "[encoded data removed]",
      "text/plain": [
       "<Figure size 432x288 with 1 Axes>"
      ]
     },
     "metadata": {
      "needs_background": "light"
     },
     "output_type": "display_data"
    }
   ],
   "source": [
    "plt.xlim((0, 16))\n",
    "plt.ylim((0, 11))\n",
    "#plt.xlabel(r'$x)\n",
    "#plt.ylabel(r'$y)\n",
    "# Fill feasible region\n",
    "y5 = np.minimum(y2, y4)\n",
    "y6 = np.maximum(y1, y3)\n",
    "plt.fill_between(x, y5, y6, where=y5>y6, color='grey', alpha=0.5)\n",
    "plt.legend(bbox_to_anchor=(1.05, 1), loc=2, borderaxespad=0.)"
   ]
  },
  {
   "cell_type": "markdown",
   "id": "18eb2e46",
   "metadata": {},
   "source": [
    "#### How do you install glpk-solver along with pyomo in Winpython\n",
    "Reference: https://stackoverflow.com/questions/20690195/how-do-you-install-glpk-solver-along-with-pyomo-in-winpython\n",
    "\n",
    "If you are using Anaconda, both pyomo and glpk can be installed with conda install. In the Windows terminal, activate your conda environment, then:\n",
    "conda install -c conda-forge glpk\n",
    "glpsol --help"
   ]
  },
  {
   "cell_type": "code",
   "execution_count": null,
   "id": "8d97bcf7",
   "metadata": {},
   "outputs": [],
   "source": [
    "conda install -c conda -forge glpk glpsol --help"
   ]
  },
  {
   "cell_type": "code",
   "execution_count": 1,
   "id": "3b720f42",
   "metadata": {},
   "outputs": [
    {
     "data": {
      "text/plain": [
       "{'Problem': [{'Name': 'unknown', 'Lower bound': 0.666666666666667, 'Upper bound': 0.666666666666667, 'Number of objectives': 1, 'Number of constraints': 2, 'Number of variables': 3, 'Number of nonzeros': 3, 'Sense': 'minimize'}], 'Solver': [{'Status': 'ok', 'Termination condition': 'optimal', 'Statistics': {'Branch and bound': {'Number of bounded subproblems': 0, 'Number of created subproblems': 0}}, 'Error rc': 0, 'Time': 0.03200387954711914}], 'Solution': [OrderedDict([('number of solutions', 0), ('number of solutions displayed', 0)])]}"
      ]
     },
     "execution_count": 1,
     "metadata": {},
     "output_type": "execute_result"
    }
   ],
   "source": [
    "import pyomo.environ as pyo\n",
    "\n",
    "model = pyo.ConcreteModel()\n",
    "\n",
    "model.x = pyo.Var([1,2], domain=pyo.NonNegativeReals)\n",
    "\n",
    "model.OBJ = pyo.Objective(expr = 2*model.x[1] + 3*model.x[2])\n",
    "\n",
    "model.Constraint1 = pyo.Constraint(expr = 3*model.x[1] + 4*model.x[2] >= 1)\n",
    "\n",
    "opt = pyo.SolverFactory('glpk')\n",
    "opt.solve(model) "
   ]
  },
  {
   "cell_type": "markdown",
   "id": "363dc6f1",
   "metadata": {},
   "source": [
    "define variables"
   ]
  },
  {
   "cell_type": "markdown",
   "id": "6636291a",
   "metadata": {},
   "source": [
    "define optimization probelms"
   ]
  },
  {
   "cell_type": "markdown",
   "id": "2b1fa97a",
   "metadata": {},
   "source": []
  },
  {
   "cell_type": "code",
   "execution_count": null,
   "id": "7197bba9",
   "metadata": {},
   "outputs": [],
   "source": [
    "solve optimization problem"
   ]
  },
  {
   "cell_type": "code",
   "execution_count": 17,
   "id": "17344545",
   "metadata": {},
   "outputs": [
    {
     "data": {
      "text/plain": [
       "My_LP_Problem:\n",
       "MAXIMIZE\n",
       "4*x + 3*y + 0\n",
       "SUBJECT TO\n",
       "_C1: x + 2 y <= 25\n",
       "\n",
       "_C2: - 2 x + 4 y >= -8\n",
       "\n",
       "_C3: - 2 x + y <= -5\n",
       "\n",
       "VARIABLES\n",
       "x Continuous\n",
       "2 <= y Continuous"
      ]
     },
     "execution_count": 17,
     "metadata": {},
     "output_type": "execute_result"
    }
   ],
   "source": [
    "my_lp_problem"
   ]
  },
  {
   "cell_type": "markdown",
   "id": "013dc8c0",
   "metadata": {},
   "source": [
    "solve problems"
   ]
  },
  {
   "cell_type": "code",
   "execution_count": 18,
   "id": "be702cf4",
   "metadata": {},
   "outputs": [
    {
     "data": {
      "text/plain": [
       "'Optimal'"
      ]
     },
     "execution_count": 18,
     "metadata": {},
     "output_type": "execute_result"
    }
   ],
   "source": [
    "my_lp_problem.solve()\n",
    "pulp.LpStatus[my_lp_problem.status]"
   ]
  },
  {
   "cell_type": "markdown",
   "id": "2b77169d",
   "metadata": {},
   "source": [
    "references: We have also checked the status of the solver, there are 5 status codes:\n",
    "\n",
    "Not Solved: Status prior to solving the problem.\n",
    "Optimal: An optimal solution has been found.\n",
    "Infeasible: There are no feasible solutions (e.g. if you set the constraints x <= 1 and x >=2).\n",
    "Unbounded: The constraints are not bounded, maximising the solution will tend towards infinity (e.g. if the only constraint was x >= 3).\n",
    "Undefined: The optimal solution may exist but may not have been found.\n",
    "We can now view our maximal variable values and the maximum value of Z.\n",
    "\n",
    "We can use the varValue method to retrieve the values of our variables x and y, and the pulp.value function to view the maximum value of the objective function."
   ]
  },
  {
   "cell_type": "code",
   "execution_count": 20,
   "id": "c76c7af0",
   "metadata": {},
   "outputs": [
    {
     "name": "stdout",
     "output_type": "stream",
     "text": [
      "73.75\n"
     ]
    }
   ],
   "source": [
    "print (pulp.value(my_lp_problem.objective))"
   ]
  },
  {
   "cell_type": "markdown",
   "id": "a585050c",
   "metadata": {},
   "source": [
    "Reference: http://benalexkeen.com/linear-programming-with-python-and-pulp-part-4/"
   ]
  },
  {
   "cell_type": "code",
   "execution_count": null,
   "id": "044ce95f",
   "metadata": {},
   "outputs": [],
   "source": []
  }
 ],
 "metadata": {
  "kernelspec": {
   "display_name": "Python 3",
   "language": "python",
   "name": "python3"
  },
  "language_info": {
   "codemirror_mode": {
    "name": "ipython",
    "version": 3
   },
   "file_extension": ".py",
   "mimetype": "text/x-python",
   "name": "python",
   "nbconvert_exporter": "python",
   "pygments_lexer": "ipython3",
   "version": "3.8.8"
  }
 },
 "nbformat": 4,
 "nbformat_minor": 5
}
